{
 "metadata": {
  "language_info": {
   "codemirror_mode": {
    "name": "ipython",
    "version": 3
   },
   "file_extension": ".py",
   "mimetype": "text/x-python",
   "name": "python",
   "nbconvert_exporter": "python",
   "pygments_lexer": "ipython3",
   "version": "3.8.5-final"
  },
  "orig_nbformat": 2,
  "kernelspec": {
   "name": "Python 3.8.5 64-bit ('vsenv': conda)",
   "display_name": "Python 3.8.5 64-bit ('vsenv': conda)",
   "metadata": {
    "interpreter": {
     "hash": "1ee30a202add5215adcbb767012aec8477a9c484e522cef3494d0f72d70b8c03"
    }
   }
  }
 },
 "nbformat": 4,
 "nbformat_minor": 2,
 "cells": [
  {
   "cell_type": "code",
   "execution_count": 152,
   "metadata": {},
   "outputs": [],
   "source": [
    "import pymongo\n",
    "import pandas as pd\n",
    "import numpy as np\n",
    "import re\n",
    "import time\n",
    "import datetime\n",
    "import nltk\n",
    "from datetime import datetime, timedelta\n",
    "from sklearn.feature_extraction.text import TfidfVectorizer\n",
    "from sklearn.metrics.pairwise import cosine_similarity\n",
    "import bson"
   ]
  },
  {
   "cell_type": "code",
   "execution_count": 153,
   "metadata": {},
   "outputs": [],
   "source": [
    "client = pymongo.MongoClient('localhost', 27017)\n",
    "db = client.db\n",
    "threads = db.threads\n",
    "companies = db.companylist\n",
    "\n",
    "df = pd.DataFrame.from_records(threads.find({'Label' :{'$ne': 0}}))\n",
    "companydf = pd.DataFrame.from_records(companies.find())"
   ]
  },
  {
   "cell_type": "code",
   "execution_count": 154,
   "metadata": {},
   "outputs": [],
   "source": [
    "def getContinuousChunks(text):\n",
    "    chunked = nltk.ne_chunk(nltk.pos_tag(nltk.word_tokenize(text)))\n",
    "    continuousChunk = []\n",
    "    currentChunk = []\n",
    "    for i in chunked:\n",
    "        if type(i) == nltk.tree.Tree and i.label() in {'ORGANIZATION'}:\n",
    "            currentChunk.append(\" \".join([token for token, pos in i.leaves()]))\n",
    "        if currentChunk:\n",
    "            namedEntity = \" \".join(currentChunk)\n",
    "            if namedEntity not in continuousChunk:\n",
    "                continuousChunk.append(namedEntity)\n",
    "                currentChunk = []\n",
    "        else:\n",
    "            continue\n",
    "    return continuousChunk\n",
    "\n",
    "def mapResults(results, leftNames, rightNames, threadID):\n",
    "    matchdf = pd.DataFrame(0, index = np.arange(len(result.nonzero()[0])), columns = ['_id','Left', 'Right', 'Similarity'])\n",
    "    for i in range(len(result.nonzero()[0])):\n",
    "        matchdf.loc[i, 'Left'] = leftNames[result.nonzero()[0][i]]\n",
    "        matchdf.loc[i, 'Right'] = rightNames[result.nonzero()[1][i]]\n",
    "        matchdf.loc[i, 'Similarity'] = result[result.nonzero()[0][i]][result.nonzero()[1][i]]\n",
    "    matchdf['_id'] = threadID\n",
    "    return matchdf"
   ]
  },
  {
   "cell_type": "code",
   "execution_count": 155,
   "metadata": {},
   "outputs": [],
   "source": [
    "companyNames = companydf['Name'].unique()\n",
    "companySymbols = companydf['Symbol'].unique()\n",
    "vectorizer = TfidfVectorizer(min_df = 1)\n",
    "companyMatrix = vectorizer.fit_transform(companyNames)\n",
    "symbolMatrix = vectorizer.fit_transform(companySymbols)\n",
    "matchdf = pd.DataFrame(columns = ['_id', 'Left', 'Right', 'Similarity'])\n",
    "\n",
    "for i in range(len(df['Body'])):\n",
    "    sent = df['Title'][i] + '. ' + df['Body'][i]\n",
    "    threadID = df['_id'][i]\n",
    "    ner = list(set(getContinuousChunks(sent)))\n",
    "\n",
    "    if len(ner) > 0:\n",
    "        nerMatrix = vectorizer.transform(pd.Series(ner))\n",
    "        result = cosine_similarity(nerMatrix, symbolMatrix)\n",
    "        result[result < 0.8] = 0\n",
    "        matchdf = matchdf.append(mapResults(result, ner, companySymbols, threadID)).sort_values('Similarity', ascending = False)"
   ]
  },
  {
   "cell_type": "code",
   "execution_count": 156,
   "metadata": {},
   "outputs": [
    {
     "output_type": "execute_result",
     "data": {
      "text/plain": [
       "                         _id              Left    Right  Similarity\n",
       "0   5f766db0c41ae878a718020e  SPG Kimco Realty      SPG    1.000000\n",
       "2   5f766db0c41ae878a7180233              KODK     KODK    1.000000\n",
       "24  5f766db0c41ae878a718022d               PCG    PCG^D    1.000000\n",
       "31  5f766db0c41ae878a718022d         PCG ENDED    PCG^B    1.000000\n",
       "1   5f766db0c41ae878a7180212               IMO      IMO    1.000000\n",
       "..                       ...               ...      ...         ...\n",
       "0   5f7b395a6d0682ca2381a870              SQQQ     SQQQ    1.000000\n",
       "1   5f7b395a6d0682ca2381a876      CVAC MINIMUM     CVAC    1.000000\n",
       "5   5f766db0c41ae878a7180228              FVAC  FVAC.WS    0.842509\n",
       "2   5f766db0c41ae878a7180228              FAII  FAII.WS    0.842509\n",
       "8   5f766db0c41ae878a7180228        FVAC Check  FVAC.WS    0.842509\n",
       "\n",
       "[222 rows x 4 columns]"
      ],
      "text/html": "<div>\n<style scoped>\n    .dataframe tbody tr th:only-of-type {\n        vertical-align: middle;\n    }\n\n    .dataframe tbody tr th {\n        vertical-align: top;\n    }\n\n    .dataframe thead th {\n        text-align: right;\n    }\n</style>\n<table border=\"1\" class=\"dataframe\">\n  <thead>\n    <tr style=\"text-align: right;\">\n      <th></th>\n      <th>_id</th>\n      <th>Left</th>\n      <th>Right</th>\n      <th>Similarity</th>\n    </tr>\n  </thead>\n  <tbody>\n    <tr>\n      <th>0</th>\n      <td>5f766db0c41ae878a718020e</td>\n      <td>SPG Kimco Realty</td>\n      <td>SPG</td>\n      <td>1.000000</td>\n    </tr>\n    <tr>\n      <th>2</th>\n      <td>5f766db0c41ae878a7180233</td>\n      <td>KODK</td>\n      <td>KODK</td>\n      <td>1.000000</td>\n    </tr>\n    <tr>\n      <th>24</th>\n      <td>5f766db0c41ae878a718022d</td>\n      <td>PCG</td>\n      <td>PCG^D</td>\n      <td>1.000000</td>\n    </tr>\n    <tr>\n      <th>31</th>\n      <td>5f766db0c41ae878a718022d</td>\n      <td>PCG ENDED</td>\n      <td>PCG^B</td>\n      <td>1.000000</td>\n    </tr>\n    <tr>\n      <th>1</th>\n      <td>5f766db0c41ae878a7180212</td>\n      <td>IMO</td>\n      <td>IMO</td>\n      <td>1.000000</td>\n    </tr>\n    <tr>\n      <th>...</th>\n      <td>...</td>\n      <td>...</td>\n      <td>...</td>\n      <td>...</td>\n    </tr>\n    <tr>\n      <th>0</th>\n      <td>5f7b395a6d0682ca2381a870</td>\n      <td>SQQQ</td>\n      <td>SQQQ</td>\n      <td>1.000000</td>\n    </tr>\n    <tr>\n      <th>1</th>\n      <td>5f7b395a6d0682ca2381a876</td>\n      <td>CVAC MINIMUM</td>\n      <td>CVAC</td>\n      <td>1.000000</td>\n    </tr>\n    <tr>\n      <th>5</th>\n      <td>5f766db0c41ae878a7180228</td>\n      <td>FVAC</td>\n      <td>FVAC.WS</td>\n      <td>0.842509</td>\n    </tr>\n    <tr>\n      <th>2</th>\n      <td>5f766db0c41ae878a7180228</td>\n      <td>FAII</td>\n      <td>FAII.WS</td>\n      <td>0.842509</td>\n    </tr>\n    <tr>\n      <th>8</th>\n      <td>5f766db0c41ae878a7180228</td>\n      <td>FVAC Check</td>\n      <td>FVAC.WS</td>\n      <td>0.842509</td>\n    </tr>\n  </tbody>\n</table>\n<p>222 rows × 4 columns</p>\n</div>"
     },
     "metadata": {},
     "execution_count": 156
    }
   ],
   "source": [
    "matchdf"
   ]
  },
  {
   "cell_type": "code",
   "execution_count": 151,
   "metadata": {},
   "outputs": [
    {
     "output_type": "execute_result",
     "data": {
      "text/plain": [
       "                        _id           Left Right  Similarity\n",
       "0  5f7b395a6d0682ca2381a876        AMD VOL   AMD         1.0\n",
       "1  5f7b395a6d0682ca2381a876        AMD GPU   AMD         1.0\n",
       "2  5f7b395a6d0682ca2381a876            AMD   AMD         1.0\n",
       "3  5f7b395a6d0682ca2381a876        AMD AMD   AMD         1.0\n",
       "4  5f7b395a6d0682ca2381a876        AMD CPU   AMD         1.0\n",
       "5  5f7b395a6d0682ca2381a876    AMD AMD AMD   AMD         1.0\n",
       "6  5f7b395a6d0682ca2381a876  AMD IMPORTANT   AMD         1.0\n",
       "7  5f7b395a6d0682ca2381a876        CPU AMD   AMD         1.0"
      ],
      "text/html": "<div>\n<style scoped>\n    .dataframe tbody tr th:only-of-type {\n        vertical-align: middle;\n    }\n\n    .dataframe tbody tr th {\n        vertical-align: top;\n    }\n\n    .dataframe thead th {\n        text-align: right;\n    }\n</style>\n<table border=\"1\" class=\"dataframe\">\n  <thead>\n    <tr style=\"text-align: right;\">\n      <th></th>\n      <th>_id</th>\n      <th>Left</th>\n      <th>Right</th>\n      <th>Similarity</th>\n    </tr>\n  </thead>\n  <tbody>\n    <tr>\n      <th>0</th>\n      <td>5f7b395a6d0682ca2381a876</td>\n      <td>AMD VOL</td>\n      <td>AMD</td>\n      <td>1.0</td>\n    </tr>\n    <tr>\n      <th>1</th>\n      <td>5f7b395a6d0682ca2381a876</td>\n      <td>AMD GPU</td>\n      <td>AMD</td>\n      <td>1.0</td>\n    </tr>\n    <tr>\n      <th>2</th>\n      <td>5f7b395a6d0682ca2381a876</td>\n      <td>AMD</td>\n      <td>AMD</td>\n      <td>1.0</td>\n    </tr>\n    <tr>\n      <th>3</th>\n      <td>5f7b395a6d0682ca2381a876</td>\n      <td>AMD AMD</td>\n      <td>AMD</td>\n      <td>1.0</td>\n    </tr>\n    <tr>\n      <th>4</th>\n      <td>5f7b395a6d0682ca2381a876</td>\n      <td>AMD CPU</td>\n      <td>AMD</td>\n      <td>1.0</td>\n    </tr>\n    <tr>\n      <th>5</th>\n      <td>5f7b395a6d0682ca2381a876</td>\n      <td>AMD AMD AMD</td>\n      <td>AMD</td>\n      <td>1.0</td>\n    </tr>\n    <tr>\n      <th>6</th>\n      <td>5f7b395a6d0682ca2381a876</td>\n      <td>AMD IMPORTANT</td>\n      <td>AMD</td>\n      <td>1.0</td>\n    </tr>\n    <tr>\n      <th>7</th>\n      <td>5f7b395a6d0682ca2381a876</td>\n      <td>CPU AMD</td>\n      <td>AMD</td>\n      <td>1.0</td>\n    </tr>\n  </tbody>\n</table>\n</div>"
     },
     "metadata": {},
     "execution_count": 151
    }
   ],
   "source": [
    "sent = df['Title'][5] + '. ' + df['Body'][5]\n",
    "threadID = df['_id'][i]\n",
    "ner = list(set(getContinuousChunks(sent)))\n",
    "\n",
    "if len(ner) > 0:\n",
    "    nerMatrix = vectorizer.transform(pd.Series(ner))\n",
    "    result = cosine_similarity(nerMatrix, symbolMatrix)\n",
    "    ##result[result < 0.8] = 0\n",
    "mapResults(result, ner, companySymbols, threadID).sort_values('Similarity', ascending = False)"
   ]
  },
  {
   "cell_type": "code",
   "execution_count": 146,
   "metadata": {},
   "outputs": [
    {
     "output_type": "execute_result",
     "data": {
      "text/plain": [
       "['ITM',\n",
       " 'AMD VOL',\n",
       " 'AMD GPU',\n",
       " 'CPU',\n",
       " 'PS5',\n",
       " 'RDNA',\n",
       " 'GPU',\n",
       " 'NVIDIA',\n",
       " 'AMD',\n",
       " 'OTM',\n",
       " 'XBOX',\n",
       " 'AMD AMD',\n",
       " 'AMD CPU',\n",
       " 'Intel',\n",
       " 'AMD AMD AMD',\n",
       " 'AMD IMPORTANT',\n",
       " 'CPU AMD']"
      ]
     },
     "metadata": {},
     "execution_count": 146
    }
   ],
   "source": [
    "ner"
   ]
  },
  {
   "cell_type": "code",
   "execution_count": null,
   "metadata": {},
   "outputs": [],
   "source": []
  }
 ]
}