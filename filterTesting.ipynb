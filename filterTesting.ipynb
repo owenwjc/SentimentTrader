{
 "metadata": {
  "language_info": {
   "codemirror_mode": {
    "name": "ipython",
    "version": 3
   },
   "file_extension": ".py",
   "mimetype": "text/x-python",
   "name": "python",
   "nbconvert_exporter": "python",
   "pygments_lexer": "ipython3",
   "version": "3.8.5-final"
  },
  "orig_nbformat": 2,
  "kernelspec": {
   "name": "Python 3.8.5 64-bit ('vsenv': conda)",
   "display_name": "Python 3.8.5 64-bit ('vsenv': conda)",
   "metadata": {
    "interpreter": {
     "hash": "1ee30a202add5215adcbb767012aec8477a9c484e522cef3494d0f72d70b8c03"
    }
   }
  }
 },
 "nbformat": 4,
 "nbformat_minor": 2,
 "cells": [
  {
   "cell_type": "code",
   "execution_count": 1,
   "metadata": {},
   "outputs": [],
   "source": [
    "import pymongo\n",
    "import pandas as pd\n",
    "import numpy as np\n",
    "import re\n",
    "import time\n",
    "import datetime\n",
    "import nltk\n",
    "import praw\n",
    "from datetime import datetime, timedelta\n",
    "from pymongo import MongoClient\n",
    "from sklearn.feature_extraction.text import TfidfVectorizer\n",
    "from sklearn.metrics.pairwise import cosine_similarity\n",
    "from nltk.sentiment.vader import SentimentIntensityAnalyzer\n",
    "from bson.objectid import ObjectId"
   ]
  },
  {
   "cell_type": "code",
   "execution_count": 2,
   "metadata": {},
   "outputs": [],
   "source": [
    "def getContinuousChunks(text):\n",
    "    chunked = nltk.ne_chunk(nltk.pos_tag(nltk.word_tokenize(text)))\n",
    "    continuousChunkdf = pd.DataFrame(columns = ['id', 'Named Entity', 'Label'])\n",
    "    currentChunk = []\n",
    "    currentLabel = []\n",
    "    for i in chunked:\n",
    "        if type(i) == nltk.tree.Tree:\n",
    "            currentChunk.append(\" \".join([token for token, pos in i.leaves()]))\n",
    "            currentLabel.append(i.label())\n",
    "        if currentChunk:\n",
    "            namedEntity = \" \".join(currentChunk)\n",
    "            label = \" \".join(currentLabel)\n",
    "            if namedEntity not in continuousChunkdf['Named Entity']:\n",
    "                d = {'id': 0, 'Named Entity': namedEntity, 'Label': label}\n",
    "                continuousChunkdf = continuousChunkdf.append(d, ignore_index = True)\n",
    "                currentChunk = []\n",
    "                currentLabel = []\n",
    "        else:\n",
    "            continue\n",
    "    return continuousChunkdf\n",
    "\n",
    "def mapResults(result, leftNames, rightNames, threadID, threshold):\n",
    "    result[result < threshold] = 0\n",
    "    matchdf = pd.DataFrame(0, index = np.arange(len(result.nonzero()[0])), columns = ['id','Left', 'Right', 'Similarity'])\n",
    "    for i in range(len(result.nonzero()[0])):\n",
    "        matchdf.loc[i, 'Left'] = leftNames[result.nonzero()[0][i]]\n",
    "        matchdf.loc[i, 'Right'] = rightNames[result.nonzero()[1][i]]\n",
    "        matchdf.loc[i, 'Similarity'] = result[result.nonzero()[0][i]][result.nonzero()[1][i]]\n",
    "    matchdf['id'] = threadID\n",
    "    return matchdf.drop_duplicates(subset = 'Right')\n",
    "\n",
    "def pullTickers(string):\n",
    "    dollarTicker = set(re.findall(r\"\\$\\b[A-Z]{1,4}\\b\",string))\n",
    "    manualTicker = re.findall(r\"\\b[A-Z]{2,4}\\b\",string)\n",
    "    manualTicker = list(set(manualTicker).difference(notTickers))\n",
    "    manualTicker = set(['$' + manualTicker for manualTicker in manualTicker])\n",
    "    combined = manualTicker.union(dollarTicker)\n",
    "    return combined.intersection(companydf['Manual'])\n",
    "\n",
    "notTickers = {'DCF', 'IMO', 'CAN', 'MMS', 'ARE', 'CDC', 'NEW', 'LOVE', 'NYC', 'CASH', 'AI', \n",
    "'NAV', 'GOOD', 'DD', 'ATH', 'APPS', 'EDIT', 'WOW', 'PCB', 'UNIT', 'TA', 'VG', 'SELF', 'MR',\n",
    "'RARE', 'ALEX', 'KEY', 'STIM', 'GO', 'SEE', 'CFO', 'CAL', 'REV', 'PE', 'CHI', 'EVE', 'PDT',\n",
    "'CO', 'EV', 'TTM', 'EOD', 'AT', 'HUGE', 'ES', 'ONE', 'PT', 'CEO', 'ZEN', 'NOW', 'JAN', 'O',\n",
    "'OR', 'PG', 'ROCK', 'FOUR', 'ONE', 'TWO', 'FIVE', 'SIX', 'NINE', 'TEN', 'ON', 'SU', 'XT',\n",
    "'WELL', 'NOV', 'MAR', 'JAN', 'FUN', 'NOW', 'VERY', 'USA', 'POST'}\n",
    "\n",
    "posts = {'fat4io', 'gaszeo', 'gogpfy', 'hhxaym', 'hnegmj', 'ifmc59', 'iq0jbk', 'j9obtn'}"
   ]
  },
  {
   "cell_type": "code",
   "execution_count": 3,
   "metadata": {},
   "outputs": [],
   "source": [
    "client = MongoClient('localhost', 27017)\n",
    "db = client.db\n",
    "threads = db.threads\n",
    "companies = db.companylist\n",
    "secret = db.secret.find_one()['Secret']\n",
    "\n",
    "reddit = praw.Reddit(client_id='-wpcPIbA7bhlpw', client_secret=secret, user_agent='sentiment')\n",
    "subreddit = reddit.subreddit('wallstreetbets')\n",
    "commentlist = []"
   ]
  },
  {
   "cell_type": "code",
   "execution_count": 4,
   "metadata": {},
   "outputs": [
    {
     "output_type": "stream",
     "name": "stdout",
     "text": [
      "Daily Discussion Thread for September 10, 2020\n",
      "Daily Discussion Thread - February 28, 2020\n",
      "Daily Discussion Thread for July 08, 2020\n",
      "Daily Discussion Thread for April 30, 2020\n",
      "Daily Discussion Thread for May 22, 2020\n",
      "Daily Discussion Thread for August 24, 2020\n",
      "Daily Discussion Thread for October 12, 2020\n",
      "Daily Discussion Thread for June 29, 2020\n"
     ]
    }
   ],
   "source": [
    "for post in posts:\n",
    "    thread = reddit.submission(post)\n",
    "    print(thread.title)\n",
    "    thread.comments.replace_more()\n",
    "    for comment in thread.comments.list():\n",
    "        commentlist.append(comment)"
   ]
  },
  {
   "cell_type": "code",
   "execution_count": 11,
   "metadata": {
    "tags": []
   },
   "outputs": [],
   "source": [
    "'''from praw.models import MoreComments\n",
    "for post in postlist:    \n",
    "    for comment in post.list():\n",
    "        commentlist.append(comment)'''"
   ]
  },
  {
   "cell_type": "code",
   "execution_count": 14,
   "metadata": {
    "tags": []
   },
   "outputs": [],
   "source": [
    "'''commentlistlen = 0\n",
    "currentlen = len(commentlist)\n",
    "while(commentlistlen != currentlen):\n",
    "    commentlistlen = len(commentlist)\n",
    "    for comment in commentlist:\n",
    "        if isinstance(comment, MoreComments):\n",
    "            commentlist.remove(comment)\n",
    "    currentlen = len(commentlist)'''"
   ]
  },
  {
   "cell_type": "code",
   "execution_count": 9,
   "metadata": {},
   "outputs": [],
   "source": [
    "commentDf = pd.DataFrame(columns = ['Inserted Date','Body', 'Score', 'Stocks'])"
   ]
  },
  {
   "cell_type": "code",
   "execution_count": 10,
   "metadata": {},
   "outputs": [],
   "source": [
    "created = [comment.created_utc for comment in commentlist]\n",
    "bodies = [comment.body for comment in commentlist]\n",
    "scores = [comment.score for comment in commentlist]"
   ]
  },
  {
   "cell_type": "code",
   "execution_count": 11,
   "metadata": {},
   "outputs": [],
   "source": [
    "commentDf['Inserted Date'] = created\n",
    "commentDf['Body'] = bodies\n",
    "commentDf['Score'] = scores"
   ]
  },
  {
   "cell_type": "code",
   "execution_count": 12,
   "metadata": {},
   "outputs": [
    {
     "output_type": "execute_result",
     "data": {
      "text/plain": [
       "       Inserted Date                                               Body  \\\n",
       "0       1.599733e+09  My accounts wiped but I'm still waking up this...   \n",
       "1       1.599740e+09  This is all you need to know about NKLA\\n\\n\\nT...   \n",
       "2       1.599742e+09  “Nikola had the truck towed to the top of a hi...   \n",
       "3       1.599744e+09  Markets realized you can cram 3 months worth o...   \n",
       "4       1.599743e+09  god damn, the comment volume is so low after s...   \n",
       "...              ...                                                ...   \n",
       "28934   1.593452e+09                             Depends HOW it lands 🧐   \n",
       "28935   1.593427e+09  Sometimes I think I never should have started ...   \n",
       "28936   1.593428e+09                                    Puts on Denmark   \n",
       "28937   1.593428e+09                                       WHADUPPIMPIN   \n",
       "28938   1.593428e+09                                                Sup   \n",
       "\n",
       "       Score Stocks  \n",
       "0         89    NaN  \n",
       "1        219    NaN  \n",
       "2        130    NaN  \n",
       "3         63    NaN  \n",
       "4        105    NaN  \n",
       "...      ...    ...  \n",
       "28934      9    NaN  \n",
       "28935     32    NaN  \n",
       "28936      8    NaN  \n",
       "28937      6    NaN  \n",
       "28938      4    NaN  \n",
       "\n",
       "[28939 rows x 4 columns]"
      ],
      "text/html": "<div>\n<style scoped>\n    .dataframe tbody tr th:only-of-type {\n        vertical-align: middle;\n    }\n\n    .dataframe tbody tr th {\n        vertical-align: top;\n    }\n\n    .dataframe thead th {\n        text-align: right;\n    }\n</style>\n<table border=\"1\" class=\"dataframe\">\n  <thead>\n    <tr style=\"text-align: right;\">\n      <th></th>\n      <th>Inserted Date</th>\n      <th>Body</th>\n      <th>Score</th>\n      <th>Stocks</th>\n    </tr>\n  </thead>\n  <tbody>\n    <tr>\n      <th>0</th>\n      <td>1.599733e+09</td>\n      <td>My accounts wiped but I'm still waking up this...</td>\n      <td>89</td>\n      <td>NaN</td>\n    </tr>\n    <tr>\n      <th>1</th>\n      <td>1.599740e+09</td>\n      <td>This is all you need to know about NKLA\\n\\n\\nT...</td>\n      <td>219</td>\n      <td>NaN</td>\n    </tr>\n    <tr>\n      <th>2</th>\n      <td>1.599742e+09</td>\n      <td>“Nikola had the truck towed to the top of a hi...</td>\n      <td>130</td>\n      <td>NaN</td>\n    </tr>\n    <tr>\n      <th>3</th>\n      <td>1.599744e+09</td>\n      <td>Markets realized you can cram 3 months worth o...</td>\n      <td>63</td>\n      <td>NaN</td>\n    </tr>\n    <tr>\n      <th>4</th>\n      <td>1.599743e+09</td>\n      <td>god damn, the comment volume is so low after s...</td>\n      <td>105</td>\n      <td>NaN</td>\n    </tr>\n    <tr>\n      <th>...</th>\n      <td>...</td>\n      <td>...</td>\n      <td>...</td>\n      <td>...</td>\n    </tr>\n    <tr>\n      <th>28934</th>\n      <td>1.593452e+09</td>\n      <td>Depends HOW it lands 🧐</td>\n      <td>9</td>\n      <td>NaN</td>\n    </tr>\n    <tr>\n      <th>28935</th>\n      <td>1.593427e+09</td>\n      <td>Sometimes I think I never should have started ...</td>\n      <td>32</td>\n      <td>NaN</td>\n    </tr>\n    <tr>\n      <th>28936</th>\n      <td>1.593428e+09</td>\n      <td>Puts on Denmark</td>\n      <td>8</td>\n      <td>NaN</td>\n    </tr>\n    <tr>\n      <th>28937</th>\n      <td>1.593428e+09</td>\n      <td>WHADUPPIMPIN</td>\n      <td>6</td>\n      <td>NaN</td>\n    </tr>\n    <tr>\n      <th>28938</th>\n      <td>1.593428e+09</td>\n      <td>Sup</td>\n      <td>4</td>\n      <td>NaN</td>\n    </tr>\n  </tbody>\n</table>\n<p>28939 rows × 4 columns</p>\n</div>"
     },
     "metadata": {},
     "execution_count": 12
    }
   ],
   "source": [
    "commentDf"
   ]
  },
  {
   "cell_type": "code",
   "execution_count": 13,
   "metadata": {},
   "outputs": [],
   "source": [
    "def cleanStrings(string):\n",
    "    return re.sub(\"[^a-zA-Z0-9./$:,'&]+\", ' ',string) #only include normal string characters\n",
    "def cleanText(text):\n",
    "    return re.sub(\"http[s]?://\\S+\", ' ', text) #Remove links"
   ]
  },
  {
   "cell_type": "code",
   "execution_count": 14,
   "metadata": {},
   "outputs": [],
   "source": [
    "commentDf['Body'] = commentDf['Body'].apply(cleanStrings)\n",
    "commentDf['Body'] = commentDf['Body'].apply(cleanText)"
   ]
  },
  {
   "cell_type": "code",
   "execution_count": 15,
   "metadata": {},
   "outputs": [],
   "source": [
    "commentDf = commentDf.drop_duplicates(subset = ['Body']).reset_index(drop = True)"
   ]
  },
  {
   "cell_type": "code",
   "execution_count": 16,
   "metadata": {},
   "outputs": [],
   "source": [
    "commentDf = commentDf.sample(frac = 1)[0:10000]"
   ]
  },
  {
   "cell_type": "code",
   "execution_count": 17,
   "metadata": {},
   "outputs": [],
   "source": [
    "commentDf = commentDf.reset_index(drop=True)"
   ]
  },
  {
   "cell_type": "code",
   "execution_count": 18,
   "metadata": {},
   "outputs": [],
   "source": [
    "companydf = pd.DataFrame.from_records(companies.find())"
   ]
  },
  {
   "cell_type": "code",
   "execution_count": 19,
   "metadata": {},
   "outputs": [],
   "source": [
    "companyNames = companydf['Name'].unique()\n",
    "companySymbols = companydf['Symbol'].unique()\n",
    "nameVectorizer = TfidfVectorizer(min_df = 1)\n",
    "symbolVectorizer = TfidfVectorizer(min_df = 1)\n",
    "companyMatrix = nameVectorizer.fit_transform(companyNames)\n",
    "symbolMatrix = symbolVectorizer.fit_transform(companySymbols)"
   ]
  },
  {
   "cell_type": "code",
   "execution_count": 20,
   "metadata": {},
   "outputs": [],
   "source": [
    "commentDf['Stocks'] = commentDf['Stocks'].astype(object)"
   ]
  },
  {
   "cell_type": "code",
   "execution_count": 21,
   "metadata": {},
   "outputs": [],
   "source": [
    "for i in range(len(commentDf['Body'])):\n",
    "    sent = commentDf['Body'][i]\n",
    "    threadID = i\n",
    "    chunks = getContinuousChunks(sent)\n",
    "    chunkdf = chunks.loc[(chunks['Label'] == 'ORGANIZATION') | (chunks['Label'] == 'PERSON')].reset_index()\n",
    "    stocklist = []\n",
    "\n",
    "    if len(chunkdf['Label']) > 0:\n",
    "        nerNameMatrix = nameVectorizer.transform(chunkdf['Named Entity'])\n",
    "        nerSymbolMatrix = symbolVectorizer.transform(chunkdf['Named Entity'])\n",
    "        nameResult = cosine_similarity(nerNameMatrix, companyMatrix)\n",
    "        symbolResult = cosine_similarity(nerSymbolMatrix, symbolMatrix)\n",
    "        namedf = mapResults(nameResult, chunkdf['Named Entity'], companyNames, threadID, 0.85)\n",
    "        symboldf = mapResults(symbolResult, chunkdf['Named Entity'], companySymbols, threadID, 1)\n",
    "        stocklist = list(set(namedf.loc[namedf['Similarity'] > 0.8, 'Right'].append(symboldf.loc[symboldf['Similarity'] > 0.999, 'Right'])))\n",
    "    commentDf.at[threadID, 'Stocks'] = stocklist"
   ]
  },
  {
   "cell_type": "code",
   "execution_count": 26,
   "metadata": {},
   "outputs": [],
   "source": [
    "#commentDf = commentDf.drop(commentDf.loc[commentDf['Stocks'].str.len() == 0].index).reset_index()"
   ]
  },
  {
   "cell_type": "code",
   "execution_count": 27,
   "metadata": {},
   "outputs": [],
   "source": [
    "#commentDf = commentDf.drop(columns = ['index'])"
   ]
  },
  {
   "cell_type": "code",
   "execution_count": 22,
   "metadata": {},
   "outputs": [
    {
     "output_type": "execute_result",
     "data": {
      "text/plain": [
       "      Inserted Date                                               Body  Score  \\\n",
       "0      1.598282e+09         That apple dip was a gift from Tim himself     11   \n",
       "1      1.588266e+09                                   tesla fraud           6   \n",
       "2      1.599743e+09  Total lack of angry bears in the thread is bot...      9   \n",
       "3      1.588242e+09   Jay Powell seems to have ignited a new round ...      4   \n",
       "4      1.593455e+09                    BA.. ah shit he on x games mode      6   \n",
       "...             ...                                                ...    ...   \n",
       "9995   1.599749e+09             Is Apple fucking kidding me right now       6   \n",
       "9996   1.582924e+09          that last second pump did not look normal      4   \n",
       "9997   1.599755e+09  volume on these dumps too low to make any seri...      5   \n",
       "9998   1.582900e+09                       I found my DOW 25,000 shirt.      7   \n",
       "9999   1.602510e+09       Does anyone else not think VIX is crazy low       3   \n",
       "\n",
       "          Stocks  \n",
       "0     [TIM S.A.]  \n",
       "1             []  \n",
       "2             []  \n",
       "3          [EMB]  \n",
       "4             []  \n",
       "...          ...  \n",
       "9995          []  \n",
       "9996          []  \n",
       "9997          []  \n",
       "9998          []  \n",
       "9999          []  \n",
       "\n",
       "[10000 rows x 4 columns]"
      ],
      "text/html": "<div>\n<style scoped>\n    .dataframe tbody tr th:only-of-type {\n        vertical-align: middle;\n    }\n\n    .dataframe tbody tr th {\n        vertical-align: top;\n    }\n\n    .dataframe thead th {\n        text-align: right;\n    }\n</style>\n<table border=\"1\" class=\"dataframe\">\n  <thead>\n    <tr style=\"text-align: right;\">\n      <th></th>\n      <th>Inserted Date</th>\n      <th>Body</th>\n      <th>Score</th>\n      <th>Stocks</th>\n    </tr>\n  </thead>\n  <tbody>\n    <tr>\n      <th>0</th>\n      <td>1.598282e+09</td>\n      <td>That apple dip was a gift from Tim himself</td>\n      <td>11</td>\n      <td>[TIM S.A.]</td>\n    </tr>\n    <tr>\n      <th>1</th>\n      <td>1.588266e+09</td>\n      <td>tesla fraud</td>\n      <td>6</td>\n      <td>[]</td>\n    </tr>\n    <tr>\n      <th>2</th>\n      <td>1.599743e+09</td>\n      <td>Total lack of angry bears in the thread is bot...</td>\n      <td>9</td>\n      <td>[]</td>\n    </tr>\n    <tr>\n      <th>3</th>\n      <td>1.588242e+09</td>\n      <td>Jay Powell seems to have ignited a new round ...</td>\n      <td>4</td>\n      <td>[EMB]</td>\n    </tr>\n    <tr>\n      <th>4</th>\n      <td>1.593455e+09</td>\n      <td>BA.. ah shit he on x games mode</td>\n      <td>6</td>\n      <td>[]</td>\n    </tr>\n    <tr>\n      <th>...</th>\n      <td>...</td>\n      <td>...</td>\n      <td>...</td>\n      <td>...</td>\n    </tr>\n    <tr>\n      <th>9995</th>\n      <td>1.599749e+09</td>\n      <td>Is Apple fucking kidding me right now</td>\n      <td>6</td>\n      <td>[]</td>\n    </tr>\n    <tr>\n      <th>9996</th>\n      <td>1.582924e+09</td>\n      <td>that last second pump did not look normal</td>\n      <td>4</td>\n      <td>[]</td>\n    </tr>\n    <tr>\n      <th>9997</th>\n      <td>1.599755e+09</td>\n      <td>volume on these dumps too low to make any seri...</td>\n      <td>5</td>\n      <td>[]</td>\n    </tr>\n    <tr>\n      <th>9998</th>\n      <td>1.582900e+09</td>\n      <td>I found my DOW 25,000 shirt.</td>\n      <td>7</td>\n      <td>[]</td>\n    </tr>\n    <tr>\n      <th>9999</th>\n      <td>1.602510e+09</td>\n      <td>Does anyone else not think VIX is crazy low</td>\n      <td>3</td>\n      <td>[]</td>\n    </tr>\n  </tbody>\n</table>\n<p>10000 rows × 4 columns</p>\n</div>"
     },
     "metadata": {},
     "execution_count": 22
    }
   ],
   "source": [
    "commentDf"
   ]
  }
 ]
}