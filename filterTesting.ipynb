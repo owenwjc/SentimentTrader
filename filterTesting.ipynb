{
 "metadata": {
  "language_info": {
   "codemirror_mode": {
    "name": "ipython",
    "version": 3
   },
   "file_extension": ".py",
   "mimetype": "text/x-python",
   "name": "python",
   "nbconvert_exporter": "python",
   "pygments_lexer": "ipython3",
   "version": "3.8.5-final"
  },
  "orig_nbformat": 2,
  "kernelspec": {
   "name": "Python 3.8.5 64-bit ('vsenv': conda)",
   "display_name": "Python 3.8.5 64-bit ('vsenv': conda)",
   "metadata": {
    "interpreter": {
     "hash": "1ee30a202add5215adcbb767012aec8477a9c484e522cef3494d0f72d70b8c03"
    }
   }
  }
 },
 "nbformat": 4,
 "nbformat_minor": 2,
 "cells": [
  {
   "cell_type": "code",
   "execution_count": 152,
   "metadata": {},
   "outputs": [],
   "source": [
    "import pymongo\n",
    "import pandas as pd\n",
    "import numpy as np\n",
    "import re\n",
    "import time\n",
    "import datetime\n",
    "import nltk\n",
    "from datetime import datetime, timedelta\n",
    "from sklearn.feature_extraction.text import TfidfVectorizer\n",
    "from sklearn.metrics.pairwise import cosine_similarity\n",
    "import bson"
   ]
  },
  {
   "cell_type": "code",
   "execution_count": 153,
   "metadata": {},
   "outputs": [],
   "source": [
    "client = pymongo.MongoClient('localhost', 27017)\n",
    "db = client.db\n",
    "threads = db.threads\n",
    "companies = db.companylist\n",
    "\n",
    "df = pd.DataFrame.from_records(threads.find({'Label' :{'$ne': 0}}))\n",
    "companydf = pd.DataFrame.from_records(companies.find())"
   ]
  },
  {
   "cell_type": "code",
   "execution_count": 189,
   "metadata": {},
   "outputs": [],
   "source": [
    "def getContinuousChunks(text):\n",
    "    chunked = nltk.ne_chunk(nltk.pos_tag(nltk.word_tokenize(text)))\n",
    "    continuousChunk = []\n",
    "    currentChunk = []\n",
    "    for i in chunked:\n",
    "        if type(i) == nltk.tree.Tree and i.label() in {'ORGANIZATION'}:\n",
    "            currentChunk.append(\" \".join([token for token, pos in i.leaves()]))\n",
    "        if currentChunk:\n",
    "            namedEntity = \" \".join(currentChunk)\n",
    "            if namedEntity not in continuousChunk:\n",
    "                continuousChunk.append(namedEntity)\n",
    "                currentChunk = []\n",
    "        else:\n",
    "            continue\n",
    "    return continuousChunk\n",
    "\n",
    "def mapResults(result, leftNames, rightNames, threadID):\n",
    "    matchdf = pd.DataFrame(0, index = np.arange(len(result.nonzero()[0])), columns = ['_id','Left', 'Right', 'Similarity'])\n",
    "    for i in range(len(result.nonzero()[0])):\n",
    "        matchdf.loc[i, 'Left'] = leftNames[result.nonzero()[0][i]]\n",
    "        matchdf.loc[i, 'Right'] = rightNames[result.nonzero()[1][i]]\n",
    "        matchdf.loc[i, 'Similarity'] = result[result.nonzero()[0][i]][result.nonzero()[1][i]]\n",
    "    matchdf['_id'] = threadID\n",
    "    return matchdf.drop_duplicates(subset = 'Right')"
   ]
  },
  {
   "cell_type": "code",
   "execution_count": 192,
   "metadata": {},
   "outputs": [],
   "source": [
    "companyNames = companydf['Name'].unique()\n",
    "companySymbols = companydf['Symbol'].unique()\n",
    "nameVectorizer = TfidfVectorizer(min_df = 1)\n",
    "symbolVectorizer = TfidfVectorizer(min_df = 1)\n",
    "companyMatrix = nameVectorizer.fit_transform(companyNames)\n",
    "symbolMatrix = symbolVectorizer.fit_transform(companySymbols)\n",
    "matchdf = pd.DataFrame(columns = ['_id', 'Left', 'Right', 'Similarity'])\n",
    "\n",
    "for i in range(len(df['Body'])):\n",
    "    sent = df['Title'][i] + '. ' + df['Body'][i]\n",
    "    threadID = df['_id'][i]\n",
    "    ner = list(set(getContinuousChunks(sent)))\n",
    "\n",
    "    if len(ner) > 0:\n",
    "        nerNameMatrix = nameVectorizer.transform(pd.Series(ner))\n",
    "        nerSymbolMatrix = symbolVectorizer.transform(pd.Series(ner))\n",
    "        nameResult = cosine_similarity(nerNameMatrix, companyMatrix)\n",
    "        nameResult[nameResult < 0.8] = 0\n",
    "        symbolResult = cosine_similarity(nerSymbolMatrix, symbolMatrix)\n",
    "        symbolResult[symbolResult < 1] = 0\n",
    "        matchdf = matchdf.append(mapResults(nameResult, ner, companyNames, threadID)).sort_values('Similarity', ascending = False)\n",
    "        matchdf = matchdf.append(mapResults(symbolResult, ner, companySymbols, threadID)).sort_values('Similarity', ascending = False)"
   ]
  },
  {
   "cell_type": "code",
   "execution_count": 167,
   "metadata": {},
   "outputs": [
    {
     "output_type": "execute_result",
     "data": {
      "text/plain": [
       "83    0\n",
       "Name: Stocks, dtype: int64"
      ]
     },
     "metadata": {},
     "execution_count": 167
    }
   ],
   "source": [
    "df.loc[df['_id'] == threadID, 'Stocks']"
   ]
  },
  {
   "cell_type": "code",
   "execution_count": 193,
   "metadata": {},
   "outputs": [
    {
     "output_type": "execute_result",
     "data": {
      "text/plain": [
       "                         _id                       Left  \\\n",
       "0   5f767e4e2dd138c701623f9e  Palantir Technologies Inc   \n",
       "0   5f767e4e2dd138c701623fbb                       LULU   \n",
       "3   5f766db0c41ae878a718022e                    JPM JPM   \n",
       "0   5f767e4e2dd138c701623fbc                        SSL   \n",
       "7   5f766db0c41ae878a718022d                    PCG PCG   \n",
       "..                       ...                        ...   \n",
       "0   5f767e4e2dd138c701623fa6                     Truist   \n",
       "0   5f767e4e2dd138c701623fb0                         FB   \n",
       "1   5f767e4e2dd138c701623fb7                Worthington   \n",
       "0   5f766db0c41ae878a7180210                  SpaceX VG   \n",
       "0   5f76ab9a5252806f931cb6ec                    Antares   \n",
       "\n",
       "                           Right  Similarity  \n",
       "0     Palantir Technologies Inc.    1.000000  \n",
       "0                           LULU    1.000000  \n",
       "3                          JPM^G    1.000000  \n",
       "0                            SSL    1.000000  \n",
       "7                          PCG^G    1.000000  \n",
       "..                           ...         ...  \n",
       "0   Truist Financial Corporation    0.848358  \n",
       "0       FB Financial Corporation    0.848358  \n",
       "1   Worthington Industries, Inc.    0.841008  \n",
       "0           VG Acquisition Corp.    0.826580  \n",
       "0           Antares Pharma, Inc.    0.817449  \n",
       "\n",
       "[173 rows x 4 columns]"
      ],
      "text/html": "<div>\n<style scoped>\n    .dataframe tbody tr th:only-of-type {\n        vertical-align: middle;\n    }\n\n    .dataframe tbody tr th {\n        vertical-align: top;\n    }\n\n    .dataframe thead th {\n        text-align: right;\n    }\n</style>\n<table border=\"1\" class=\"dataframe\">\n  <thead>\n    <tr style=\"text-align: right;\">\n      <th></th>\n      <th>_id</th>\n      <th>Left</th>\n      <th>Right</th>\n      <th>Similarity</th>\n    </tr>\n  </thead>\n  <tbody>\n    <tr>\n      <th>0</th>\n      <td>5f767e4e2dd138c701623f9e</td>\n      <td>Palantir Technologies Inc</td>\n      <td>Palantir Technologies Inc.</td>\n      <td>1.000000</td>\n    </tr>\n    <tr>\n      <th>0</th>\n      <td>5f767e4e2dd138c701623fbb</td>\n      <td>LULU</td>\n      <td>LULU</td>\n      <td>1.000000</td>\n    </tr>\n    <tr>\n      <th>3</th>\n      <td>5f766db0c41ae878a718022e</td>\n      <td>JPM JPM</td>\n      <td>JPM^G</td>\n      <td>1.000000</td>\n    </tr>\n    <tr>\n      <th>0</th>\n      <td>5f767e4e2dd138c701623fbc</td>\n      <td>SSL</td>\n      <td>SSL</td>\n      <td>1.000000</td>\n    </tr>\n    <tr>\n      <th>7</th>\n      <td>5f766db0c41ae878a718022d</td>\n      <td>PCG PCG</td>\n      <td>PCG^G</td>\n      <td>1.000000</td>\n    </tr>\n    <tr>\n      <th>...</th>\n      <td>...</td>\n      <td>...</td>\n      <td>...</td>\n      <td>...</td>\n    </tr>\n    <tr>\n      <th>0</th>\n      <td>5f767e4e2dd138c701623fa6</td>\n      <td>Truist</td>\n      <td>Truist Financial Corporation</td>\n      <td>0.848358</td>\n    </tr>\n    <tr>\n      <th>0</th>\n      <td>5f767e4e2dd138c701623fb0</td>\n      <td>FB</td>\n      <td>FB Financial Corporation</td>\n      <td>0.848358</td>\n    </tr>\n    <tr>\n      <th>1</th>\n      <td>5f767e4e2dd138c701623fb7</td>\n      <td>Worthington</td>\n      <td>Worthington Industries, Inc.</td>\n      <td>0.841008</td>\n    </tr>\n    <tr>\n      <th>0</th>\n      <td>5f766db0c41ae878a7180210</td>\n      <td>SpaceX VG</td>\n      <td>VG Acquisition Corp.</td>\n      <td>0.826580</td>\n    </tr>\n    <tr>\n      <th>0</th>\n      <td>5f76ab9a5252806f931cb6ec</td>\n      <td>Antares</td>\n      <td>Antares Pharma, Inc.</td>\n      <td>0.817449</td>\n    </tr>\n  </tbody>\n</table>\n<p>173 rows × 4 columns</p>\n</div>"
     },
     "metadata": {},
     "execution_count": 193
    }
   ],
   "source": [
    "matchdf"
   ]
  },
  {
   "cell_type": "code",
   "execution_count": null,
   "metadata": {},
   "outputs": [],
   "source": []
  }
 ]
}