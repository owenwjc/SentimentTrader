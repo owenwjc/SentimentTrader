{
 "metadata": {
  "language_info": {
   "codemirror_mode": {
    "name": "ipython",
    "version": 3
   },
   "file_extension": ".py",
   "mimetype": "text/x-python",
   "name": "python",
   "nbconvert_exporter": "python",
   "pygments_lexer": "ipython3",
   "version": "3.8.5-final"
  },
  "orig_nbformat": 2,
  "kernelspec": {
   "name": "Python 3.8.5 64-bit",
   "display_name": "Python 3.8.5 64-bit",
   "metadata": {
    "interpreter": {
     "hash": "1ee30a202add5215adcbb767012aec8477a9c484e522cef3494d0f72d70b8c03"
    }
   }
  }
 },
 "nbformat": 4,
 "nbformat_minor": 2,
 "cells": [
  {
   "cell_type": "code",
   "execution_count": 42,
   "metadata": {},
   "outputs": [],
   "source": [
    "import pymongo\n",
    "import pandas as pd\n",
    "import numpy as np\n",
    "import re\n",
    "import time\n",
    "import datetime\n",
    "import nltk\n",
    "from datetime import datetime, timedelta\n",
    "from sklearn.feature_extraction.text import TfidfVectorizer\n",
    "from sklearn.metrics.pairwise import cosine_similarity\n",
    "from nltk.sentiment.vader import SentimentIntensityAnalyzer\n",
    "from bson.objectid import ObjectId"
   ]
  },
  {
   "cell_type": "code",
   "execution_count": 44,
   "metadata": {},
   "outputs": [
    {
     "output_type": "stream",
     "name": "stderr",
     "text": [
      "[nltk_data] Downloading package vader_lexicon to\n[nltk_data]     /home/user/nltk_data...\n"
     ]
    },
    {
     "output_type": "execute_result",
     "data": {
      "text/plain": [
       "True"
      ]
     },
     "metadata": {},
     "execution_count": 44
    }
   ],
   "source": [
    "client = pymongo.MongoClient('localhost', 27017)\n",
    "db = client.db\n",
    "threads = db.threads\n",
    "companies = db.companylist\n",
    "matches = db.matches\n",
    "chunks = db.chunks\n",
    "nltk.download('vader_lexicon')"
   ]
  },
  {
   "cell_type": "code",
   "execution_count": 45,
   "metadata": {},
   "outputs": [],
   "source": [
    "df = pd.DataFrame.from_records(threads.find({'Label':{'$ne': 0}}))"
   ]
  },
  {
   "cell_type": "code",
   "execution_count": 46,
   "metadata": {},
   "outputs": [
    {
     "output_type": "execute_result",
     "data": {
      "text/plain": [
       "                         _id           Inserted Date  \\\n",
       "0   5f766db0c41ae878a718020e 2020-10-01 23:18:55.840   \n",
       "1   5f766db0c41ae878a7180210 2020-10-01 23:18:55.840   \n",
       "2   5f766db0c41ae878a7180212 2020-10-01 23:18:55.840   \n",
       "3   5f766db0c41ae878a7180215 2020-10-01 23:18:55.840   \n",
       "4   5f766db0c41ae878a7180217 2020-10-01 23:18:55.840   \n",
       "..                       ...                     ...   \n",
       "75  5f7787fc1d41cb76fd11304c 2020-10-02 20:05:16.466   \n",
       "76  5f7787fc1d41cb76fd11304e 2020-10-02 20:05:16.466   \n",
       "77  5f7b395a6d0682ca2381a86f 2020-10-05 15:18:50.943   \n",
       "78  5f7b395a6d0682ca2381a870 2020-10-05 15:18:50.943   \n",
       "79  5f7b395a6d0682ca2381a876 2020-10-05 15:18:50.943   \n",
       "\n",
       "                                                Title  \\\n",
       "0         List of companies that are fucked next year   \n",
       "1   VIRGIN GALACTIC ROCKET SHIPS ARE COOL PT $180 ...   \n",
       "2   Updated S P500 Technical Analysis Bears Are St...   \n",
       "3       Procter Gamble to the fucking MOON DD inside    \n",
       "4             WHY IS NO ONE TALKING ABOUT BABA TODAY    \n",
       "..                                                ...   \n",
       "75                                Is it time to bull    \n",
       "76                                      CHWY go go go   \n",
       "77                       AMD going to $100 This Month   \n",
       "78                                 Actual Second Wave   \n",
       "79                       CVAC Overshorted to Oblivion   \n",
       "\n",
       "                                                 Body         Tag    Label  \\\n",
       "0   For those who aren t aware new york is going i...          DD  bearish   \n",
       "1    VIRGIN GALACTIC ROCKET SHIPS ARE COOL PT $180...          DD  bullish   \n",
       "2   Last week I shared my S P500 forecast and brok...  Technicals  bullish   \n",
       "3    Procter Gamble 10/27/2020 Q1 Earnings Play NY...          DD  bullish   \n",
       "4   This sub introduced me to BABA. I am BABA gang...  Discussion  bullish   \n",
       "..                                                ...         ...      ...   \n",
       "75  Rona got Orange. What are you thinking guys I ...  Discussion  bullish   \n",
       "76  CHWY LISTEN UP RETARDS chwy was moon for the p...        YOLO  bullish   \n",
       "77  I m looking at AMD Technicals https //imgur.co...  Technicals  bullish   \n",
       "78  Back in early summer this year the US had a se...          DD  bearish   \n",
       "79  CVAC curevac 47.49$ has been agressively short...  Discussion  bullish   \n",
       "\n",
       "                                               Stocks  \n",
       "0   [$KIM, $CXP, $CLI, $AKR, $BRX, CLI, Piedmont O...  \n",
       "1   [Virgin Galactic Holdings, Inc., SPCE, $SPCE, ...  \n",
       "2                          [Moderna, Inc., SPY, $SPY]  \n",
       "3   [Procter & Gamble Company (The), TSLA, PG, $TS...  \n",
       "4                                       [$BABA, BABA]  \n",
       "..                                                ...  \n",
       "75                                     [Nasdaq, Inc.]  \n",
       "76                                      [CHWY, $CHWY]  \n",
       "77           [TTM Technologies, Inc., TTM, $AMD, AMD]  \n",
       "78                           [SPY, $SQQQ, SQQQ, $SPY]  \n",
       "79                                      [$CVAC, CVAC]  \n",
       "\n",
       "[80 rows x 7 columns]"
      ],
      "text/html": "<div>\n<style scoped>\n    .dataframe tbody tr th:only-of-type {\n        vertical-align: middle;\n    }\n\n    .dataframe tbody tr th {\n        vertical-align: top;\n    }\n\n    .dataframe thead th {\n        text-align: right;\n    }\n</style>\n<table border=\"1\" class=\"dataframe\">\n  <thead>\n    <tr style=\"text-align: right;\">\n      <th></th>\n      <th>_id</th>\n      <th>Inserted Date</th>\n      <th>Title</th>\n      <th>Body</th>\n      <th>Tag</th>\n      <th>Label</th>\n      <th>Stocks</th>\n    </tr>\n  </thead>\n  <tbody>\n    <tr>\n      <th>0</th>\n      <td>5f766db0c41ae878a718020e</td>\n      <td>2020-10-01 23:18:55.840</td>\n      <td>List of companies that are fucked next year</td>\n      <td>For those who aren t aware new york is going i...</td>\n      <td>DD</td>\n      <td>bearish</td>\n      <td>[$KIM, $CXP, $CLI, $AKR, $BRX, CLI, Piedmont O...</td>\n    </tr>\n    <tr>\n      <th>1</th>\n      <td>5f766db0c41ae878a7180210</td>\n      <td>2020-10-01 23:18:55.840</td>\n      <td>VIRGIN GALACTIC ROCKET SHIPS ARE COOL PT $180 ...</td>\n      <td>VIRGIN GALACTIC ROCKET SHIPS ARE COOL PT $180...</td>\n      <td>DD</td>\n      <td>bullish</td>\n      <td>[Virgin Galactic Holdings, Inc., SPCE, $SPCE, ...</td>\n    </tr>\n    <tr>\n      <th>2</th>\n      <td>5f766db0c41ae878a7180212</td>\n      <td>2020-10-01 23:18:55.840</td>\n      <td>Updated S P500 Technical Analysis Bears Are St...</td>\n      <td>Last week I shared my S P500 forecast and brok...</td>\n      <td>Technicals</td>\n      <td>bullish</td>\n      <td>[Moderna, Inc., SPY, $SPY]</td>\n    </tr>\n    <tr>\n      <th>3</th>\n      <td>5f766db0c41ae878a7180215</td>\n      <td>2020-10-01 23:18:55.840</td>\n      <td>Procter Gamble to the fucking MOON DD inside</td>\n      <td>Procter Gamble 10/27/2020 Q1 Earnings Play NY...</td>\n      <td>DD</td>\n      <td>bullish</td>\n      <td>[Procter &amp; Gamble Company (The), TSLA, PG, $TS...</td>\n    </tr>\n    <tr>\n      <th>4</th>\n      <td>5f766db0c41ae878a7180217</td>\n      <td>2020-10-01 23:18:55.840</td>\n      <td>WHY IS NO ONE TALKING ABOUT BABA TODAY</td>\n      <td>This sub introduced me to BABA. I am BABA gang...</td>\n      <td>Discussion</td>\n      <td>bullish</td>\n      <td>[$BABA, BABA]</td>\n    </tr>\n    <tr>\n      <th>...</th>\n      <td>...</td>\n      <td>...</td>\n      <td>...</td>\n      <td>...</td>\n      <td>...</td>\n      <td>...</td>\n      <td>...</td>\n    </tr>\n    <tr>\n      <th>75</th>\n      <td>5f7787fc1d41cb76fd11304c</td>\n      <td>2020-10-02 20:05:16.466</td>\n      <td>Is it time to bull</td>\n      <td>Rona got Orange. What are you thinking guys I ...</td>\n      <td>Discussion</td>\n      <td>bullish</td>\n      <td>[Nasdaq, Inc.]</td>\n    </tr>\n    <tr>\n      <th>76</th>\n      <td>5f7787fc1d41cb76fd11304e</td>\n      <td>2020-10-02 20:05:16.466</td>\n      <td>CHWY go go go</td>\n      <td>CHWY LISTEN UP RETARDS chwy was moon for the p...</td>\n      <td>YOLO</td>\n      <td>bullish</td>\n      <td>[CHWY, $CHWY]</td>\n    </tr>\n    <tr>\n      <th>77</th>\n      <td>5f7b395a6d0682ca2381a86f</td>\n      <td>2020-10-05 15:18:50.943</td>\n      <td>AMD going to $100 This Month</td>\n      <td>I m looking at AMD Technicals https //imgur.co...</td>\n      <td>Technicals</td>\n      <td>bullish</td>\n      <td>[TTM Technologies, Inc., TTM, $AMD, AMD]</td>\n    </tr>\n    <tr>\n      <th>78</th>\n      <td>5f7b395a6d0682ca2381a870</td>\n      <td>2020-10-05 15:18:50.943</td>\n      <td>Actual Second Wave</td>\n      <td>Back in early summer this year the US had a se...</td>\n      <td>DD</td>\n      <td>bearish</td>\n      <td>[SPY, $SQQQ, SQQQ, $SPY]</td>\n    </tr>\n    <tr>\n      <th>79</th>\n      <td>5f7b395a6d0682ca2381a876</td>\n      <td>2020-10-05 15:18:50.943</td>\n      <td>CVAC Overshorted to Oblivion</td>\n      <td>CVAC curevac 47.49$ has been agressively short...</td>\n      <td>Discussion</td>\n      <td>bullish</td>\n      <td>[$CVAC, CVAC]</td>\n    </tr>\n  </tbody>\n</table>\n<p>80 rows × 7 columns</p>\n</div>"
     },
     "metadata": {},
     "execution_count": 46
    }
   ],
   "source": [
    "df"
   ]
  },
  {
   "cell_type": "code",
   "execution_count": 47,
   "metadata": {},
   "outputs": [],
   "source": [
    "sir = SentimentIntensityAnalyzer()"
   ]
  },
  {
   "cell_type": "code",
   "execution_count": 58,
   "metadata": {},
   "outputs": [],
   "source": [
    "sent = df.loc[77,'Title'] + ' ' + df.loc[77,'Body']"
   ]
  },
  {
   "cell_type": "code",
   "execution_count": 59,
   "metadata": {},
   "outputs": [
    {
     "output_type": "execute_result",
     "data": {
      "text/plain": [
       "0.9459"
      ]
     },
     "metadata": {},
     "execution_count": 59
    }
   ],
   "source": [
    "sir.polarity_scores(sent)['compound']"
   ]
  },
  {
   "cell_type": "code",
   "execution_count": 65,
   "metadata": {},
   "outputs": [
    {
     "output_type": "stream",
     "name": "stdout",
     "text": [
      "-0.9077:bullish\n-0.7453:bullish\n-0.4522:bullish\n-0.9222:bullish\n0.9274:bearish\n0.8258:bearish\n0.1027:bearish\n-0.6037:bullish\n-0.9495:bullish\n0.8022:bearish\n-0.5267:bullish\n-0.5994:bullish\n0.3716:bearish\n0.8689:bearish\n-0.743:bullish\n0.4791:bearish\n-0.608:bullish\n0.2263:bearish\n-0.8371:bullish\n-0.8185:bullish\n0.6326:bearish\n0.9801:bearish\n"
     ]
    }
   ],
   "source": [
    "for i in range(len(df)):\n",
    "    sent = df.loc[i,'Title'] + ' ' + df.loc[i,'Body']\n",
    "    score = sir.polarity_scores(sent)['compound']\n",
    "    if (score < 0 and df.loc[i, 'Label'] == 'bullish') or (score > 0 and df.loc[i,'Label'] == 'bearish'):\n",
    "        print(str(score) + ':' + df.loc[i, 'Label'])"
   ]
  },
  {
   "cell_type": "code",
   "execution_count": 67,
   "metadata": {},
   "outputs": [
    {
     "output_type": "execute_result",
     "data": {
      "text/plain": [
       "0.725"
      ]
     },
     "metadata": {},
     "execution_count": 67
    }
   ],
   "source": [
    "58/80"
   ]
  },
  {
   "cell_type": "code",
   "execution_count": 69,
   "metadata": {},
   "outputs": [],
   "source": [
    "import flair\n",
    "from flair.models import TextClassifier\n",
    "from flair.data import Sentence"
   ]
  },
  {
   "cell_type": "code",
   "execution_count": 71,
   "metadata": {},
   "outputs": [
    {
     "output_type": "stream",
     "name": "stdout",
     "text": [
      "2020-10-28 20:58:22,625 https://nlp.informatik.hu-berlin.de/resources/models/sentiment-curated-distilbert/sentiment-en-mix-distillbert_3.1.pt not found in cache, downloading to /tmp/tmpmkxr9cg5\n",
      "100%|██████████| 266147697/266147697 [22:28<00:00, 197411.37B/s]2020-10-28 21:20:51,350 copying /tmp/tmpmkxr9cg5 to cache at /home/user/.flair/models/sentiment-en-mix-distillbert_3.1.pt\n",
      "\n",
      "2020-10-28 21:20:52,300 removing temp file /tmp/tmpmkxr9cg5\n",
      "2020-10-28 21:20:52,336 loading file /home/user/.flair/models/sentiment-en-mix-distillbert_3.1.pt\n"
     ]
    },
    {
     "output_type": "display_data",
     "data": {
      "text/plain": "HBox(children=(HTML(value='Downloading'), FloatProgress(value=0.0, max=442.0), HTML(value='')))",
      "application/vnd.jupyter.widget-view+json": {
       "version_major": 2,
       "version_minor": 0,
       "model_id": "ac2bd289a11c4e68a217cf7f3cbda5a5"
      }
     },
     "metadata": {}
    },
    {
     "output_type": "stream",
     "name": "stdout",
     "text": [
      "\n"
     ]
    },
    {
     "output_type": "display_data",
     "data": {
      "text/plain": "HBox(children=(HTML(value='Downloading'), FloatProgress(value=0.0, max=231508.0), HTML(value='')))",
      "application/vnd.jupyter.widget-view+json": {
       "version_major": 2,
       "version_minor": 0,
       "model_id": "504bf716c341466fab44652bfa59015e"
      }
     },
     "metadata": {}
    },
    {
     "output_type": "stream",
     "name": "stdout",
     "text": [
      "\n"
     ]
    }
   ],
   "source": [
    "classifier = TextClassifier.load('en-sentiment')\n",
    "sentence = Sentence(sent)\n",
    "classifier.predict(sentence)"
   ]
  },
  {
   "cell_type": "code",
   "execution_count": 73,
   "metadata": {},
   "outputs": [
    {
     "output_type": "execute_result",
     "data": {
      "text/plain": [
       "NEGATIVE (1.0)"
      ]
     },
     "metadata": {},
     "execution_count": 73
    }
   ],
   "source": [
    "sentence.labels[0]"
   ]
  },
  {
   "cell_type": "code",
   "execution_count": 76,
   "metadata": {},
   "outputs": [
    {
     "output_type": "stream",
     "name": "stdout",
     "text": [
      "bearish: NEGATIVE (0.9999)\n",
      "bullish: NEGATIVE (0.8538)\n",
      "bullish: NEGATIVE (1.0)\n",
      "bullish: POSITIVE (0.9986)\n",
      "bullish: POSITIVE (0.6076)\n",
      "bullish: NEGATIVE (0.9998)\n",
      "bullish: NEGATIVE (0.9994)\n",
      "bullish: NEGATIVE (0.9999)\n",
      "bullish: NEGATIVE (0.6174)\n",
      "bullish: NEGATIVE (0.9998)\n",
      "bearish: NEGATIVE (1.0)\n",
      "bullish: POSITIVE (0.849)\n",
      "bullish: NEGATIVE (0.9989)\n",
      "bullish: NEGATIVE (0.9463)\n",
      "bullish: NEGATIVE (0.859)\n",
      "bullish: NEGATIVE (0.9999)\n",
      "bearish: NEGATIVE (0.9998)\n",
      "bullish: NEGATIVE (0.9995)\n",
      "bearish: NEGATIVE (1.0)\n",
      "bearish: NEGATIVE (1.0)\n",
      "bullish: POSITIVE (0.9216)\n",
      "bullish: NEGATIVE (0.9955)\n",
      "bullish: NEGATIVE (0.9999)\n",
      "bearish: NEGATIVE (0.9983)\n",
      "bullish: NEGATIVE (1.0)\n",
      "bullish: POSITIVE (0.8317)\n",
      "bullish: POSITIVE (0.8583)\n",
      "bullish: NEGATIVE (0.9385)\n",
      "bullish: NEGATIVE (0.9987)\n",
      "bullish: NEGATIVE (0.9731)\n",
      "bullish: NEGATIVE (1.0)\n",
      "bullish: NEGATIVE (0.9986)\n",
      "bullish: NEGATIVE (0.9996)\n",
      "bullish: NEGATIVE (0.9864)\n",
      "bullish: NEGATIVE (1.0)\n",
      "bullish: NEGATIVE (1.0)\n",
      "bullish: POSITIVE (0.9995)\n",
      "bullish: NEGATIVE (1.0)\n",
      "bearish: NEGATIVE (1.0)\n",
      "bullish: NEGATIVE (0.9997)\n",
      "bullish: NEGATIVE (0.9421)\n",
      "bullish: NEGATIVE (1.0)\n",
      "bullish: NEGATIVE (0.8)\n",
      "bearish: NEGATIVE (0.9997)\n",
      "bearish: NEGATIVE (0.9979)\n",
      "bullish: POSITIVE (0.9187)\n",
      "bullish: POSITIVE (0.9983)\n",
      "bullish: POSITIVE (0.9999)\n",
      "bullish: NEGATIVE (0.9997)\n",
      "bearish: NEGATIVE (0.9998)\n",
      "bullish: NEGATIVE (0.7589)\n",
      "bullish: NEGATIVE (1.0)\n",
      "bullish: NEGATIVE (0.9701)\n",
      "bearish: NEGATIVE (0.9999)\n",
      "bearish: NEGATIVE (0.9979)\n",
      "bullish: NEGATIVE (0.9501)\n",
      "bullish: NEGATIVE (0.9244)\n",
      "bullish: NEGATIVE (0.9996)\n",
      "bullish: POSITIVE (0.9251)\n",
      "bearish: NEGATIVE (1.0)\n",
      "bullish: NEGATIVE (0.9987)\n",
      "bullish: POSITIVE (0.969)\n",
      "bullish: NEGATIVE (1.0)\n",
      "bullish: NEGATIVE (0.6136)\n",
      "bullish: NEGATIVE (0.9877)\n",
      "bullish: NEGATIVE (0.9984)\n",
      "bearish: NEGATIVE (1.0)\n",
      "bullish: NEGATIVE (0.9285)\n",
      "bearish: NEGATIVE (0.9998)\n",
      "bullish: POSITIVE (0.995)\n",
      "bullish: POSITIVE (0.9954)\n",
      "bullish: NEGATIVE (0.8474)\n",
      "bullish: NEGATIVE (0.9975)\n",
      "bullish: NEGATIVE (0.9884)\n",
      "bullish: NEGATIVE (0.9893)\n",
      "bullish: NEGATIVE (0.9999)\n",
      "bullish: NEGATIVE (0.9991)\n",
      "bullish: POSITIVE (0.6626)\n",
      "bearish: NEGATIVE (0.5952)\n",
      "bullish: NEGATIVE (1.0)\n"
     ]
    }
   ],
   "source": [
    "for i in range(len(df)):\n",
    "    sent = df.loc[i,'Title'] + ' ' + df.loc[i,'Body']\n",
    "    sentence = Sentence(sent)\n",
    "    classifier.predict(sentence)\n",
    "    print(df.loc[i,'Label'] + ': ' + str(sentence.labels[0]))"
   ]
  },
  {
   "cell_type": "code",
   "execution_count": null,
   "metadata": {},
   "outputs": [],
   "source": []
  }
 ]
}