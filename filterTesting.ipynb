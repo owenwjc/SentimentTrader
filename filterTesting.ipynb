{
 "metadata": {
  "language_info": {
   "codemirror_mode": {
    "name": "ipython",
    "version": 3
   },
   "file_extension": ".py",
   "mimetype": "text/x-python",
   "name": "python",
   "nbconvert_exporter": "python",
   "pygments_lexer": "ipython3",
   "version": "3.8.5-final"
  },
  "orig_nbformat": 2,
  "kernelspec": {
   "name": "Python 3.8.5 64-bit ('vsenv': conda)",
   "display_name": "Python 3.8.5 64-bit ('vsenv': conda)",
   "metadata": {
    "interpreter": {
     "hash": "1ee30a202add5215adcbb767012aec8477a9c484e522cef3494d0f72d70b8c03"
    }
   }
  }
 },
 "nbformat": 4,
 "nbformat_minor": 2,
 "cells": [
  {
   "cell_type": "code",
   "execution_count": 3,
   "metadata": {},
   "outputs": [],
   "source": [
    "import pymongo\n",
    "import pandas as pd\n",
    "import praw\n",
    "import re\n",
    "import time\n",
    "import datetime\n",
    "from datetime import datetime, timedelta"
   ]
  },
  {
   "cell_type": "code",
   "execution_count": 33,
   "metadata": {},
   "outputs": [],
   "source": [
    "client = pymongo.MongoClient('localhost', 27017)\n",
    "db = client.db\n",
    "companylist = db.companylist\n",
    "secret = db.secret.find_one()['Secret']"
   ]
  },
  {
   "cell_type": "code",
   "execution_count": 5,
   "metadata": {},
   "outputs": [],
   "source": [
    "df = pd.DataFrame.from_records(companylist.find())"
   ]
  },
  {
   "cell_type": "code",
   "execution_count": 6,
   "metadata": {},
   "outputs": [],
   "source": [
    "reddit = praw.Reddit(client_id = '-wpcPIbA7bhlpw', client_secret = secret, user_agent = 'sentiment')"
   ]
  },
  {
   "cell_type": "code",
   "execution_count": 7,
   "metadata": {},
   "outputs": [],
   "source": [
    "wantedTags = ['DD', 'Technicals', 'Fundamentals', 'Discussion', 'YOLO', 'Stocks']\n",
    "subreddit = reddit.subreddit('wallstreetbets')\n",
    "postlist = []"
   ]
  },
  {
   "cell_type": "code",
   "execution_count": 17,
   "metadata": {},
   "outputs": [],
   "source": [
    "for post in subreddit.hot(limit = 1000):\n",
    "    if datetime.today().weekday() == 0:\n",
    "        if len(postlist) < 100:\n",
    "            postTime = post.created\n",
    "            postDate = datetime.fromtimestamp(postTime)\n",
    "            \n",
    "            currentTime = datetime.utcnow()\n",
    "            \n",
    "            postDelta = currentTime - postDate\n",
    "\n",
    "            if postDelta.days < 3 and post.link_flair_text in wantedTags:\n",
    "                postlist.append(post)\n",
    "        else:\n",
    "            break\n",
    "    \n",
    "    else:\n",
    "        if len(postlist) < 100:\n",
    "            postTime = post.created\n",
    "            postDate = datetime.utcfromtimestamp(postTime)\n",
    "\n",
    "            currentTime = datetime.utcnow()\n",
    "\n",
    "            postDelta = currentTime - postDate\n",
    "            postDelta = str(postDelta)\n",
    "\n",
    "            if 'day' not in postDelta and post.link_flair_text in wantedTags:\n",
    "                postlist.append(post)\n",
    "        else:\n",
    "            break"
   ]
  },
  {
   "cell_type": "code",
   "execution_count": 18,
   "metadata": {},
   "outputs": [],
   "source": [
    "postDf = pd.DataFrame(columns = ['Inserted Date','Title','Body'])\n",
    "\n",
    "insertedDate = currentTime\n",
    "titles = [post.title for post in postlist]\n",
    "bodies = [post.selftext for post in postlist]\n",
    "tags = [post.link_flair_text for post in postlist]\n",
    "\n",
    "postDf['Title'] = titles\n",
    "postDf['Body'] = bodies\n",
    "postDf['Inserted Date'] = insertedDate\n",
    "postDf['Tag'] = tags"
   ]
  },
  {
   "cell_type": "code",
   "execution_count": 19,
   "metadata": {},
   "outputs": [],
   "source": [
    "def cleanStrings(string):\n",
    "    return re.sub('[^a-zA-Z0-9./$]+', ' ',string)\n",
    "\n",
    "postDf['Title'] = postDf['Title'].apply(cleanStrings)\n",
    "postDf['Body'] = postDf['Body'].apply(cleanStrings)"
   ]
  },
  {
   "cell_type": "code",
   "execution_count": 28,
   "metadata": {},
   "outputs": [],
   "source": [
    "start = db['Inserted Date'][0]"
   ]
  },
  {
   "cell_type": "code",
   "execution_count": 34,
   "metadata": {},
   "outputs": [],
   "source": [
    "db = pd.DataFrame.from_records(db.threads.find({'Inserted Date': {'$gt': start}} ))"
   ]
  },
  {
   "cell_type": "code",
   "execution_count": null,
   "metadata": {},
   "outputs": [],
   "source": []
  }
 ]
}