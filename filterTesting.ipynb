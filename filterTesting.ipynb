{
 "metadata": {
  "language_info": {
   "codemirror_mode": {
    "name": "ipython",
    "version": 3
   },
   "file_extension": ".py",
   "mimetype": "text/x-python",
   "name": "python",
   "nbconvert_exporter": "python",
   "pygments_lexer": "ipython3",
   "version": "3.8.5-final"
  },
  "orig_nbformat": 2,
  "kernelspec": {
   "name": "Python 3.8.5 64-bit ('vsenv': conda)",
   "display_name": "Python 3.8.5 64-bit ('vsenv': conda)",
   "metadata": {
    "interpreter": {
     "hash": "1ee30a202add5215adcbb767012aec8477a9c484e522cef3494d0f72d70b8c03"
    }
   }
  }
 },
 "nbformat": 4,
 "nbformat_minor": 2,
 "cells": [
  {
   "cell_type": "code",
   "execution_count": 1,
   "metadata": {},
   "outputs": [],
   "source": [
    "import pymongo\n",
    "import pandas as pd\n",
    "import numpy as np\n",
    "import re\n",
    "import time\n",
    "import datetime\n",
    "import nltk\n",
    "import praw\n",
    "from datetime import datetime, timedelta\n",
    "from pymongo import MongoClient\n",
    "from sklearn.feature_extraction.text import TfidfVectorizer\n",
    "from sklearn.metrics.pairwise import cosine_similarity\n",
    "from nltk.sentiment.vader import SentimentIntensityAnalyzer\n",
    "from bson.objectid import ObjectId"
   ]
  },
  {
   "cell_type": "code",
   "execution_count": 2,
   "metadata": {},
   "outputs": [],
   "source": [
    "def getContinuousChunks(text):\n",
    "    chunked = nltk.ne_chunk(nltk.pos_tag(nltk.word_tokenize(text)))\n",
    "    continuousChunkdf = pd.DataFrame(columns = ['id', 'Named Entity', 'Label'])\n",
    "    currentChunk = []\n",
    "    currentLabel = []\n",
    "    for i in chunked:\n",
    "        if type(i) == nltk.tree.Tree:\n",
    "            currentChunk.append(\" \".join([token for token, pos in i.leaves()]))\n",
    "            currentLabel.append(i.label())\n",
    "        if currentChunk:\n",
    "            namedEntity = \" \".join(currentChunk)\n",
    "            label = \" \".join(currentLabel)\n",
    "            if namedEntity not in continuousChunkdf['Named Entity']:\n",
    "                d = {'id': 0, 'Named Entity': namedEntity, 'Label': label}\n",
    "                continuousChunkdf = continuousChunkdf.append(d, ignore_index = True)\n",
    "                currentChunk = []\n",
    "                currentLabel = []\n",
    "        else:\n",
    "            continue\n",
    "    return continuousChunkdf\n",
    "\n",
    "def mapResults(result, leftNames, rightNames, threadID, threshold):\n",
    "    result[result < threshold] = 0\n",
    "    matchdf = pd.DataFrame(0, index = np.arange(len(result.nonzero()[0])), columns = ['id','Left', 'Right', 'Similarity'])\n",
    "    for i in range(len(result.nonzero()[0])):\n",
    "        matchdf.loc[i, 'Left'] = leftNames[result.nonzero()[0][i]]\n",
    "        matchdf.loc[i, 'Right'] = rightNames[result.nonzero()[1][i]]\n",
    "        matchdf.loc[i, 'Similarity'] = result[result.nonzero()[0][i]][result.nonzero()[1][i]]\n",
    "    matchdf['id'] = threadID\n",
    "    return matchdf.drop_duplicates(subset = 'Right')\n",
    "\n",
    "def pullTickers(string):\n",
    "    dollarTicker = set(re.findall(r\"\\$\\b[A-Z]{1,4}\\b\",string))\n",
    "    manualTicker = re.findall(r\"\\b[A-Z]{2,4}\\b\",string)\n",
    "    manualTicker = list(set(manualTicker).difference(notTickers))\n",
    "    manualTicker = set(['$' + manualTicker for manualTicker in manualTicker])\n",
    "    combined = manualTicker.union(dollarTicker)\n",
    "    return combined.intersection(companydf['Manual'])\n",
    "\n",
    "notTickers = {'DCF', 'IMO', 'CAN', 'MMS', 'ARE', 'CDC', 'NEW', 'LOVE', 'NYC', 'CASH', 'AI', \n",
    "'NAV', 'GOOD', 'DD', 'ATH', 'APPS', 'EDIT', 'WOW', 'PCB', 'UNIT', 'TA', 'VG', 'SELF', 'MR',\n",
    "'RARE', 'ALEX', 'KEY', 'STIM', 'GO', 'SEE', 'CFO', 'CAL', 'REV', 'PE', 'CHI', 'EVE', 'PDT',\n",
    "'CO', 'EV', 'TTM', 'EOD', 'AT', 'HUGE', 'ES', 'ONE', 'PT', 'CEO', 'ZEN', 'NOW', 'JAN', 'O',\n",
    "'OR', 'PG', 'ROCK', 'FOUR', 'ONE', 'TWO', 'FIVE', 'SIX', 'NINE', 'TEN', 'ON', 'SU', 'XT',\n",
    "'WELL', 'NOV', 'MAR', 'JAN', 'FUN', 'NOW', 'VERY', 'USA', 'POST'}"
   ]
  },
  {
   "cell_type": "code",
   "execution_count": 2,
   "metadata": {},
   "outputs": [],
   "source": [
    "client = MongoClient('localhost', 27017)\n",
    "db = client.db\n",
    "threads = db.threads\n",
    "companies = db.companylist\n",
    "secret = db.secret.find_one()['Secret']\n",
    "\n",
    "reddit = praw.Reddit(client_id='-wpcPIbA7bhlpw', client_secret=secret, user_agent='sentiment')\n",
    "subreddit = reddit.subreddit('wallstreetbets')\n",
    "postlist = []\n",
    "commentlist = []"
   ]
  },
  {
   "cell_type": "code",
   "execution_count": 10,
   "metadata": {},
   "outputs": [
    {
     "output_type": "stream",
     "name": "stdout",
     "text": [
      "Weekend Discussion Thread for the Weekend of October 30, 2020\n",
      "Welcome to the Fund\n",
      "This is the way.\n",
      "Happy Halloween you bozos\n",
      "We may hate each other, but together, we make the options market liquid 🇺🇸\n",
      "how fucked are we boys\n",
      "60000 SPY $290 Puts 11/4\n",
      "Potential new collab?\n",
      "Monday crash confirmed sell everything\n",
      "RIP Monday\n",
      "Which one of you retards was at my local brewery today?\n",
      "Got an interesting DM today, Had to show her the way to tendies.\n",
      "20 years old, working to pay for sister's 20k chemo bill. Said fuck it, the first one's free. But I'll bet that I'll be up next week too. Comment your wager. No pussies.\n",
      "2020 stock market crash Wikipedia\n",
      "Yall rn\n",
      "Tried to conduct market research but I got made\n",
      "Mr. Bezos, I don't feel so good\n",
      "GME in defensive mode.\n",
      "Get a load of these fa-\n",
      "Am I doing this right?\n",
      "!!!\n",
      "Every time I post in r/Politics I'm called out for being a Wallstreetbets user.\n",
      "Calls on STRB Monday, you retards\n",
      "The OG\n",
      "See you guys next year! Or maybe ill try Webull...\n",
      "🌈🐻🌈🐻🌈🐻 LETS THE BEARVOLUTION BEGIN🌈🐻🌈🐻🌈🐻\n",
      "Just bought some calls on $PUMPKIN 🎃\n",
      "TSLA PUTS\n",
      "AMZN GEO STONK$\n",
      "Weird guy takes picture of my car\n",
      "Well shit\n",
      "I cursed the markets. Carved this Oct 11. Markets been dumping since. I'm sorry\n",
      "Elon Inspired\n",
      "Saying our weekly goodbyes to some autist that lost his savings\n",
      "Rip my airline call options\n",
      "England faces new lockdown as UK virus cases pass 1 million\n",
      "\"A once in a lifetime opportunity\" they said. \"It's so easy\" they said\n",
      "If you like money, invest in Oil Majors. This is why:\n",
      "Stop the fight!! God these calls are bleeding.\n",
      "The most terrifying Halloween pumpkin\n",
      "Earnings for the week of November 2\n",
      "All my homies hate bears 🏳️‍🌈🐻🐻\n",
      "Bulls this week\n",
      "Getting the ladies up to speed on the $ROPE tendies 🚀 🚀\n",
      "AMD is an absolute STEAL at $75\n",
      "Expiration Friday’s be like that sometimes\n",
      "GME YOLO month-end update — Oct 2020\n",
      "Cash, stonks & option. What position are you in now and why?\n",
      "3 shares of APPL plz\n",
      "TSLA Stonks Dipped Just To Scare You For Halloween. GG Bears\n",
      "Gold Boomer Starterpack\n",
      "IM NOT FUCKING LEAVING\n",
      "GME TO THE MOON DD INSIDE\n",
      "Bad omen for my Apple and Twitter calls yesterday.\n",
      "We need those chickens back!!\n",
      "Current status of bull market and my last 4 months of gains\n",
      "Nio has me feeling like Elon\n",
      "Tell that to my -98.79% portfolio\n",
      "Top Market Analyst Predicts Stock Movement Before Election\n",
      "How screwed am I, real talk\n",
      "AMD $100C 11/6\n",
      "Made a decision half asleep worth all my saving. Get rich or die trying amiright\n",
      "Just remember\n",
      "Saw the other pumpkin. Decided to enter mine in the running.\n",
      "Why go to Switzerland when it’s right in front of me.\n",
      "ZNGA looks like the best risk/reward opportunity going into earnings\n",
      "The McRib indicator, and why the market is about to go to hell\n",
      "Daddy has spoken. Tesla 800c 2021\n",
      "The bear patted his fat stomach.\n",
      "For anyone that fancies some history on this sub\n",
      "Papa Biden gonna give me free money 11/3 or Trump wins, stocks soar. Can't go tits up.\n",
      "A single investor appears to have spent more than $300 million this week buying up tens of thousands of S&P 500 call spreads expiring next week.\n",
      "GME seems to be wrapping up\n",
      "US Market Weekly | Nov 2-6th 2020\n",
      "TANKER GANG IS THE CURE! (redux)\n",
      "$150k on Cruiselines\n",
      "Smile bitch\n",
      "Where is Trevor Milton?\n",
      "After doubling my money over the past half year, I cashed out just in time before losing it all. See ya losers\n",
      "NO WONDER THERE ARE MORE BEARS TODAY..\n",
      "Holly Maddison 🍆💦🐰 says BTFD\n",
      "Better than TSLA?\n",
      "To the rest of Reddit infiltrating wsb to try and stir up political conversations: Positions or Ban\n",
      "Lost $200k in a week*\n",
      "Fuck this game\n",
      "It’s that time of the year\n",
      "“Mom just trust me. I can double my student loan money in a month. Options aren’t that risky if you know what you’re doing.”\n",
      "Bull Gang Calls for aid\n",
      "Bears when they wake up today\n",
      "Buy CD Project Red on the dip and sell after release?\n",
      "$MCD DD McDonald’s is bringing back the McRib nationwide on December 2nd. The McRib costs 3.81. Meaning MCD stock will surge at least 3.81%. In conclusion, 212.5c 10/4.\n",
      "Momma we did it!!\n",
      "Quarantine and stocks\n",
      "Real Kinky 6 figure Loss Porno\n",
      "Pain\n",
      "happy retardoween retards. heres my DD on y spy will go TITS up after election\n",
      "When you like smoking, 69'n, being a degenerate gambler, and have a hard on for Tesla and carving pumpkins\n",
      "Some inspiration for y'all - Toronto savant takes out 5MM mortgage to buy 20 rental properties\n",
      "Recapping a Rocky Pre-Election Week (S&P 500 Bubble Chart +TSLA)\n",
      "Yolo’d the little I had left on snap puts yesterday before close. Not bad for a days work\n"
     ]
    }
   ],
   "source": [
    "for post in subreddit.hot(limit = 100):\n",
    "    print(post.title)\n",
    "    postlist.append(post.comments)"
   ]
  },
  {
   "cell_type": "code",
   "execution_count": 11,
   "metadata": {
    "tags": []
   },
   "outputs": [],
   "source": [
    "from praw.models import MoreComments\n",
    "for post in postlist:    \n",
    "    for comment in post.list():\n",
    "        commentlist.append(comment)"
   ]
  },
  {
   "cell_type": "code",
   "execution_count": 14,
   "metadata": {
    "tags": []
   },
   "outputs": [],
   "source": [
    "commentlistlen = 0\n",
    "currentlen = len(commentlist)\n",
    "while(commentlistlen != currentlen):\n",
    "    commentlistlen = len(commentlist)\n",
    "    for comment in commentlist:\n",
    "        if isinstance(comment, MoreComments):\n",
    "            commentlist.remove(comment)\n",
    "    currentlen = len(commentlist)"
   ]
  },
  {
   "cell_type": "code",
   "execution_count": 15,
   "metadata": {},
   "outputs": [
    {
     "output_type": "execute_result",
     "data": {
      "text/plain": [
       "6789"
      ]
     },
     "metadata": {},
     "execution_count": 15
    }
   ],
   "source": [
    "len(commentlist)"
   ]
  },
  {
   "cell_type": "code",
   "execution_count": 16,
   "metadata": {},
   "outputs": [],
   "source": [
    "commentDf = pd.DataFrame(columns = ['Inserted Date','Body', 'Score', 'Stocks'])"
   ]
  },
  {
   "cell_type": "code",
   "execution_count": 17,
   "metadata": {},
   "outputs": [],
   "source": [
    "created = [comment.created_utc for comment in commentlist]\n",
    "bodies = [comment.body for comment in commentlist]\n",
    "scores = [comment.score for comment in commentlist]"
   ]
  },
  {
   "cell_type": "code",
   "execution_count": 18,
   "metadata": {},
   "outputs": [],
   "source": [
    "commentDf['Inserted Date'] = created\n",
    "commentDf['Body'] = bodies\n",
    "commentDf['Score'] = scores"
   ]
  },
  {
   "cell_type": "code",
   "execution_count": 19,
   "metadata": {},
   "outputs": [
    {
     "output_type": "execute_result",
     "data": {
      "text/plain": [
       "      Inserted Date                                               Body  Score  \\\n",
       "0      1.604089e+09  Next week: \"Stocks rally as civil war misses e...    258   \n",
       "1      1.604104e+09  Guys I’m just so happy, I made 14K today, I ca...    121   \n",
       "2      1.604089e+09     Everything was fine up until Tesla battery day    158   \n",
       "3      1.604098e+09  I’m posting “ber r fuk” on Monday regardless o...    155   \n",
       "4      1.604097e+09     Lost 45k today, now I’m gonna go beat my meat.    146   \n",
       "...             ...                                                ...    ...   \n",
       "6784   1.604105e+09  That's because there was a merger, I don't thi...      1   \n",
       "6785   1.604086e+09  Yeah I had no choice it expires today. I actua...     11   \n",
       "6786   1.604088e+09  MM wants to keep you playing so they can squee...      3   \n",
       "6787   1.604087e+09                          11/6 puts at what strike?      2   \n",
       "6788   1.604087e+09  30 @ $35 strike and 5 @ $39 strike for insuran...      5   \n",
       "\n",
       "     Stocks  \n",
       "0       NaN  \n",
       "1       NaN  \n",
       "2       NaN  \n",
       "3       NaN  \n",
       "4       NaN  \n",
       "...     ...  \n",
       "6784    NaN  \n",
       "6785    NaN  \n",
       "6786    NaN  \n",
       "6787    NaN  \n",
       "6788    NaN  \n",
       "\n",
       "[6789 rows x 4 columns]"
      ],
      "text/html": "<div>\n<style scoped>\n    .dataframe tbody tr th:only-of-type {\n        vertical-align: middle;\n    }\n\n    .dataframe tbody tr th {\n        vertical-align: top;\n    }\n\n    .dataframe thead th {\n        text-align: right;\n    }\n</style>\n<table border=\"1\" class=\"dataframe\">\n  <thead>\n    <tr style=\"text-align: right;\">\n      <th></th>\n      <th>Inserted Date</th>\n      <th>Body</th>\n      <th>Score</th>\n      <th>Stocks</th>\n    </tr>\n  </thead>\n  <tbody>\n    <tr>\n      <th>0</th>\n      <td>1.604089e+09</td>\n      <td>Next week: \"Stocks rally as civil war misses e...</td>\n      <td>258</td>\n      <td>NaN</td>\n    </tr>\n    <tr>\n      <th>1</th>\n      <td>1.604104e+09</td>\n      <td>Guys I’m just so happy, I made 14K today, I ca...</td>\n      <td>121</td>\n      <td>NaN</td>\n    </tr>\n    <tr>\n      <th>2</th>\n      <td>1.604089e+09</td>\n      <td>Everything was fine up until Tesla battery day</td>\n      <td>158</td>\n      <td>NaN</td>\n    </tr>\n    <tr>\n      <th>3</th>\n      <td>1.604098e+09</td>\n      <td>I’m posting “ber r fuk” on Monday regardless o...</td>\n      <td>155</td>\n      <td>NaN</td>\n    </tr>\n    <tr>\n      <th>4</th>\n      <td>1.604097e+09</td>\n      <td>Lost 45k today, now I’m gonna go beat my meat.</td>\n      <td>146</td>\n      <td>NaN</td>\n    </tr>\n    <tr>\n      <th>...</th>\n      <td>...</td>\n      <td>...</td>\n      <td>...</td>\n      <td>...</td>\n    </tr>\n    <tr>\n      <th>6784</th>\n      <td>1.604105e+09</td>\n      <td>That's because there was a merger, I don't thi...</td>\n      <td>1</td>\n      <td>NaN</td>\n    </tr>\n    <tr>\n      <th>6785</th>\n      <td>1.604086e+09</td>\n      <td>Yeah I had no choice it expires today. I actua...</td>\n      <td>11</td>\n      <td>NaN</td>\n    </tr>\n    <tr>\n      <th>6786</th>\n      <td>1.604088e+09</td>\n      <td>MM wants to keep you playing so they can squee...</td>\n      <td>3</td>\n      <td>NaN</td>\n    </tr>\n    <tr>\n      <th>6787</th>\n      <td>1.604087e+09</td>\n      <td>11/6 puts at what strike?</td>\n      <td>2</td>\n      <td>NaN</td>\n    </tr>\n    <tr>\n      <th>6788</th>\n      <td>1.604087e+09</td>\n      <td>30 @ $35 strike and 5 @ $39 strike for insuran...</td>\n      <td>5</td>\n      <td>NaN</td>\n    </tr>\n  </tbody>\n</table>\n<p>6789 rows × 4 columns</p>\n</div>"
     },
     "metadata": {},
     "execution_count": 19
    }
   ],
   "source": [
    "commentDf"
   ]
  },
  {
   "cell_type": "code",
   "execution_count": 20,
   "metadata": {},
   "outputs": [],
   "source": [
    "def cleanStrings(string):\n",
    "    return re.sub(\"[^a-zA-Z0-9./$:,'&]+\", ' ',string) #only include normal string characters\n",
    "def cleanText(text):\n",
    "    return re.sub(\"http[s]?://\\S+\", ' ', text) #Remove links"
   ]
  },
  {
   "cell_type": "code",
   "execution_count": 21,
   "metadata": {},
   "outputs": [],
   "source": [
    "commentDf['Body'] = commentDf['Body'].apply(cleanStrings)\n",
    "commentDf['Body'] = commentDf['Body'].apply(cleanText)"
   ]
  },
  {
   "cell_type": "code",
   "execution_count": 22,
   "metadata": {},
   "outputs": [],
   "source": [
    "companydf = pd.DataFrame.from_records(companies.find())"
   ]
  },
  {
   "cell_type": "code",
   "execution_count": 23,
   "metadata": {},
   "outputs": [],
   "source": [
    "companyNames = companydf['Name'].unique()\n",
    "companySymbols = companydf['Symbol'].unique()\n",
    "nameVectorizer = TfidfVectorizer(min_df = 1)\n",
    "symbolVectorizer = TfidfVectorizer(min_df = 1)\n",
    "companyMatrix = nameVectorizer.fit_transform(companyNames)\n",
    "symbolMatrix = symbolVectorizer.fit_transform(companySymbols)"
   ]
  },
  {
   "cell_type": "code",
   "execution_count": 24,
   "metadata": {},
   "outputs": [],
   "source": [
    "commentDf['Stocks'] = commentDf['Stocks'].astype(object)"
   ]
  },
  {
   "cell_type": "code",
   "execution_count": 25,
   "metadata": {},
   "outputs": [],
   "source": [
    "for i in range(len(commentDf['Body'])):\n",
    "    sent = commentDf['Body'][i]\n",
    "    threadID = i\n",
    "    chunks = getContinuousChunks(sent)\n",
    "    chunkdf = chunks.loc[(chunks['Label'] == 'ORGANIZATION') | (chunks['Label'] == 'PERSON')].reset_index()\n",
    "    stocklist = []\n",
    "\n",
    "    if len(chunkdf['Label']) > 0:\n",
    "        nerNameMatrix = nameVectorizer.transform(chunkdf['Named Entity'])\n",
    "        nerSymbolMatrix = symbolVectorizer.transform(chunkdf['Named Entity'])\n",
    "        nameResult = cosine_similarity(nerNameMatrix, companyMatrix)\n",
    "        symbolResult = cosine_similarity(nerSymbolMatrix, symbolMatrix)\n",
    "        namedf = mapResults(nameResult, chunkdf['Named Entity'], companyNames, threadID, 0.85)\n",
    "        symboldf = mapResults(symbolResult, chunkdf['Named Entity'], companySymbols, threadID, 1)\n",
    "        stocklist = list(set(namedf.loc[namedf['Similarity'] > 0.8, 'Right'].append(symboldf.loc[symboldf['Similarity'] > 0.999, 'Right'])))\n",
    "    commentDf.at[threadID, 'Stocks'] = stocklist"
   ]
  },
  {
   "cell_type": "code",
   "execution_count": 26,
   "metadata": {},
   "outputs": [],
   "source": [
    "#commentDf = commentDf.drop(commentDf.loc[commentDf['Stocks'].str.len() == 0].index).reset_index()"
   ]
  },
  {
   "cell_type": "code",
   "execution_count": 27,
   "metadata": {},
   "outputs": [],
   "source": [
    "#commentDf = commentDf.drop(columns = ['index'])"
   ]
  },
  {
   "cell_type": "code",
   "execution_count": 28,
   "metadata": {},
   "outputs": [
    {
     "output_type": "execute_result",
     "data": {
      "text/plain": [
       "      Inserted Date                                               Body  Score  \\\n",
       "0      1.604089e+09  Next week: Stocks rally as civil war misses ex...    258   \n",
       "1      1.604104e+09  Guys I m just so happy, I made 14K today, I ca...    121   \n",
       "2      1.604089e+09     Everything was fine up until Tesla battery day    158   \n",
       "3      1.604098e+09  I m posting ber r fuk on Monday regardless of ...    155   \n",
       "4      1.604097e+09     Lost 45k today, now I m gonna go beat my meat.    146   \n",
       "...             ...                                                ...    ...   \n",
       "6784   1.604105e+09  That's because there was a merger, I don't thi...      1   \n",
       "6785   1.604086e+09  Yeah I had no choice it expires today. I actua...     11   \n",
       "6786   1.604088e+09  MM wants to keep you playing so they can squee...      3   \n",
       "6787   1.604087e+09                          11/6 puts at what strike       2   \n",
       "6788   1.604087e+09  30 $35 strike and 5 $39 strike for insurance. ...      5   \n",
       "\n",
       "     Stocks  \n",
       "0        []  \n",
       "1        []  \n",
       "2        []  \n",
       "3        []  \n",
       "4        []  \n",
       "...     ...  \n",
       "6784     []  \n",
       "6785     []  \n",
       "6786     []  \n",
       "6787     []  \n",
       "6788     []  \n",
       "\n",
       "[6789 rows x 4 columns]"
      ],
      "text/html": "<div>\n<style scoped>\n    .dataframe tbody tr th:only-of-type {\n        vertical-align: middle;\n    }\n\n    .dataframe tbody tr th {\n        vertical-align: top;\n    }\n\n    .dataframe thead th {\n        text-align: right;\n    }\n</style>\n<table border=\"1\" class=\"dataframe\">\n  <thead>\n    <tr style=\"text-align: right;\">\n      <th></th>\n      <th>Inserted Date</th>\n      <th>Body</th>\n      <th>Score</th>\n      <th>Stocks</th>\n    </tr>\n  </thead>\n  <tbody>\n    <tr>\n      <th>0</th>\n      <td>1.604089e+09</td>\n      <td>Next week: Stocks rally as civil war misses ex...</td>\n      <td>258</td>\n      <td>[]</td>\n    </tr>\n    <tr>\n      <th>1</th>\n      <td>1.604104e+09</td>\n      <td>Guys I m just so happy, I made 14K today, I ca...</td>\n      <td>121</td>\n      <td>[]</td>\n    </tr>\n    <tr>\n      <th>2</th>\n      <td>1.604089e+09</td>\n      <td>Everything was fine up until Tesla battery day</td>\n      <td>158</td>\n      <td>[]</td>\n    </tr>\n    <tr>\n      <th>3</th>\n      <td>1.604098e+09</td>\n      <td>I m posting ber r fuk on Monday regardless of ...</td>\n      <td>155</td>\n      <td>[]</td>\n    </tr>\n    <tr>\n      <th>4</th>\n      <td>1.604097e+09</td>\n      <td>Lost 45k today, now I m gonna go beat my meat.</td>\n      <td>146</td>\n      <td>[]</td>\n    </tr>\n    <tr>\n      <th>...</th>\n      <td>...</td>\n      <td>...</td>\n      <td>...</td>\n      <td>...</td>\n    </tr>\n    <tr>\n      <th>6784</th>\n      <td>1.604105e+09</td>\n      <td>That's because there was a merger, I don't thi...</td>\n      <td>1</td>\n      <td>[]</td>\n    </tr>\n    <tr>\n      <th>6785</th>\n      <td>1.604086e+09</td>\n      <td>Yeah I had no choice it expires today. I actua...</td>\n      <td>11</td>\n      <td>[]</td>\n    </tr>\n    <tr>\n      <th>6786</th>\n      <td>1.604088e+09</td>\n      <td>MM wants to keep you playing so they can squee...</td>\n      <td>3</td>\n      <td>[]</td>\n    </tr>\n    <tr>\n      <th>6787</th>\n      <td>1.604087e+09</td>\n      <td>11/6 puts at what strike</td>\n      <td>2</td>\n      <td>[]</td>\n    </tr>\n    <tr>\n      <th>6788</th>\n      <td>1.604087e+09</td>\n      <td>30 $35 strike and 5 $39 strike for insurance. ...</td>\n      <td>5</td>\n      <td>[]</td>\n    </tr>\n  </tbody>\n</table>\n<p>6789 rows × 4 columns</p>\n</div>"
     },
     "metadata": {},
     "execution_count": 28
    }
   ],
   "source": [
    "commentDf"
   ]
  },
  {
   "cell_type": "code",
   "execution_count": null,
   "metadata": {},
   "outputs": [],
   "source": []
  }
 ]
}