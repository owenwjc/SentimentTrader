{
 "metadata": {
  "language_info": {
   "codemirror_mode": {
    "name": "ipython",
    "version": 3
   },
   "file_extension": ".py",
   "mimetype": "text/x-python",
   "name": "python",
   "nbconvert_exporter": "python",
   "pygments_lexer": "ipython3",
   "version": "3.8.5-final"
  },
  "orig_nbformat": 2,
  "kernelspec": {
   "name": "Python 3.8.5 64-bit ('vsenv': conda)",
   "display_name": "Python 3.8.5 64-bit ('vsenv': conda)",
   "metadata": {
    "interpreter": {
     "hash": "1ee30a202add5215adcbb767012aec8477a9c484e522cef3494d0f72d70b8c03"
    }
   }
  }
 },
 "nbformat": 4,
 "nbformat_minor": 2,
 "cells": [
  {
   "cell_type": "code",
   "execution_count": 109,
   "metadata": {},
   "outputs": [],
   "source": [
    "import pymongo\n",
    "import pandas as pd\n",
    "import numpy as np\n",
    "import re\n",
    "import time\n",
    "import datetime\n",
    "import nltk\n",
    "from datetime import datetime, timedelta\n",
    "from sklearn.feature_extraction.text import TfidfVectorizer\n",
    "from sklearn.metrics.pairwise import cosine_similarity\n",
    "import bson"
   ]
  },
  {
   "cell_type": "code",
   "execution_count": 17,
   "metadata": {},
   "outputs": [],
   "source": [
    "client = pymongo.MongoClient('localhost', 27017)\n",
    "db = client.db\n",
    "threads = db.threads\n",
    "companies = db.companylist\n",
    "\n",
    "df = pd.DataFrame.from_records(threads.find({'Label' :{'$ne': 0}}))\n",
    "companydf = pd.DataFrame.from_records(companies.find())"
   ]
  },
  {
   "cell_type": "code",
   "execution_count": 87,
   "metadata": {},
   "outputs": [],
   "source": [
    "def getContinuousChunks(text):\n",
    "    chunked = nltk.ne_chunk(nltk.pos_tag(nltk.word_tokenize(text)))\n",
    "    continuousChunk = []\n",
    "    currentChunk = []\n",
    "    for i in chunked:\n",
    "        if type(i) == nltk.tree.Tree and i.label() in {'ORGANIZATION'}:\n",
    "            currentChunk.append(\" \".join([token for token, pos in i.leaves()]))\n",
    "        if currentChunk:\n",
    "            namedEntity = \" \".join(currentChunk)\n",
    "            if namedEntity not in continuousChunk:\n",
    "                continuousChunk.append(namedEntity)\n",
    "                currentChunk = []\n",
    "        else:\n",
    "            continue\n",
    "    return continuousChunk\n",
    "def ngrams(string, n=2):\n",
    "    string = re.sub(r'[,-./]|\\sBD',r'', string)\n",
    "    ngrams = zip(*[string[i:] for i in range(n)])\n",
    "    return [''.join(ngram) for ngram in ngrams]\n",
    "\n",
    "def mapResults(results, leftNames, rightNames, threadID):\n",
    "    matchdf = pd.DataFrame(0, index = np.arange(len(result.nonzero()[0])), columns = ['_id','Left', 'Right', 'Similarity'])\n",
    "    for i in range(len(result.nonzero()[0])):\n",
    "        matchdf.loc[i, 'Left'] = leftNames[result.nonzero()[0][i]]\n",
    "        matchdf.loc[i, 'Right'] = rightNames[result.nonzero()[1][i]]\n",
    "        matchdf.loc[i, 'Similarity'] = result[result.nonzero()[0][i]][result.nonzero()[1][i]]\n",
    "    matchdf['_id'] = threadID\n",
    "    return matchdf"
   ]
  },
  {
   "cell_type": "code",
   "execution_count": 129,
   "metadata": {},
   "outputs": [],
   "source": [
    "companyNames = companydf['Name'].unique()\n",
    "vectorizer = TfidfVectorizer(min_df = 1)\n",
    "companyMatrix = vectorizer.fit_transform(companyNames)\n",
    "matchdf = pd.DataFrame(columns = ['_id', 'Left', 'Right', 'Similarity'])\n",
    "\n",
    "for i in range(len(df['Body'])):\n",
    "    sent = df['Title'][i] + '. ' + df['Body'][i]\n",
    "    threadID = df['_id'][i]\n",
    "    ner = list(set(getContinuousChunks(sent)))\n",
    "    if len(ner) > 0:\n",
    "        nerMatrix = vectorizer.transform(pd.Series(ner))\n",
    "        result = cosine_similarity(nerMatrix, companyMatrix)\n",
    "        result[result < 0.8] = 0\n",
    "        matchdf = matchdf.append(mapResults(result, ner, companyNames, threadID)).sort_values('Similarity', ascending = False)"
   ]
  },
  {
   "cell_type": "code",
   "execution_count": 130,
   "metadata": {},
   "outputs": [
    {
     "output_type": "execute_result",
     "data": {
      "text/plain": [
       "                         _id                             Left  \\\n",
       "0   5f767e4e2dd138c701623f9e        Palantir Technologies Inc   \n",
       "0   5f76ab9a5252806f931cb6ed                      JNJ Johnson   \n",
       "0   5f767e4e2dd138c701623fc6                 Celsius Holdings   \n",
       "2   5f7787fc1d41cb76fd113042                  PayPal Holdings   \n",
       "0   5f7787fc1d41cb76fd113037                              NIO   \n",
       "0   5f767e4e2dd138c701623fb8                            Tesla   \n",
       "0   5f766db0c41ae878a7180234                              K12   \n",
       "0   5f766db0c41ae878a718021f                           Intuit   \n",
       "0   5f766db0c41ae878a7180226                              NIO   \n",
       "0   5f767e4e2dd138c701623fb2                             ROKU   \n",
       "0   5f7787fc1d41cb76fd113042                             eBay   \n",
       "0   5f766db0c41ae878a7180230                 Facebook Similar   \n",
       "0   5f766db0c41ae878a7180220                   Facebook Board   \n",
       "0   5f7787fc1d41cb76fd113047                       DraftKings   \n",
       "0   5f767e4e2dd138c701623f9a                           SUNRUN   \n",
       "0   5f767e4e2dd138c701623fb7                           NASDAQ   \n",
       "10  5f7787fc1d41cb76fd113042                           NASDAQ   \n",
       "0   5f766db0c41ae878a718020e                 SPG Kimco Realty   \n",
       "2   5f766db0c41ae878a7180210                  VIRGIN GALACTIC   \n",
       "0   5f76ab9a5252806f931cb6e9             SPCE Virgin Galactic   \n",
       "1   5f766db0c41ae878a7180210        COOL SPCE Virgin Galactic   \n",
       "4   5f76ab9a5252806f931cb6e8                           NVIDIA   \n",
       "3   5f76ab9a5252806f931cb6e8                       AMD NVIDIA   \n",
       "0   5f76ab9a5252806f931cb6e8                       GPUs Intel   \n",
       "0   5f76ab9a5252806f931cb6e6                     FedEx pRiCEd   \n",
       "0   5f766db0c41ae878a718021a                           NVIDIA   \n",
       "1   5f76ab9a5252806f931cb6e8                        AMD Intel   \n",
       "1   5f76ab9a5252806f931cb6e6                            FedEx   \n",
       "1   5f766db0c41ae878a718021a                            Intel   \n",
       "11  5f7787fc1d41cb76fd113042                    PayPal PayPal   \n",
       "12  5f7787fc1d41cb76fd113042  PayPal PayPal PayPal PayPal P2P   \n",
       "7   5f7787fc1d41cb76fd113042               PayPal Hyperwallet   \n",
       "9   5f7787fc1d41cb76fd113042                           Paypal   \n",
       "8   5f7787fc1d41cb76fd113042                       PayPal ATM   \n",
       "1   5f7787fc1d41cb76fd113042                           PayPal   \n",
       "1   5f766db0c41ae878a7180220                           PayPal   \n",
       "3   5f7787fc1d41cb76fd113042      PayPal PayPal PayPal PayPal   \n",
       "5   5f7787fc1d41cb76fd113042                 PayPal Braintree   \n",
       "13  5f7787fc1d41cb76fd113042                   PayPal iZettle   \n",
       "4   5f7787fc1d41cb76fd113042             PayPal PayPal PayPal   \n",
       "6   5f7787fc1d41cb76fd113042                       PayPal IPO   \n",
       "2   5f76ab9a5252806f931cb6e8                              PCB   \n",
       "0   5f7b395a6d0682ca2381a86f                  RSI TTM Squeeze   \n",
       "0   5f767e4e2dd138c701623fa7                         Palantir   \n",
       "0   5f767e4e2dd138c701623fa3               RGR Sturm Ruger Co   \n",
       "0   5f766db0c41ae878a7180215                         Unilever   \n",
       "0   5f767e4e2dd138c701623fc7                             ASML   \n",
       "0   5f766db0c41ae878a7180228                   Fortress Value   \n",
       "0   5f767e4e2dd138c701623fb0                               FB   \n",
       "0   5f767e4e2dd138c701623fa6                           Truist   \n",
       "1   5f767e4e2dd138c701623fb7                      Worthington   \n",
       "0   5f766db0c41ae878a7180210                        SpaceX VG   \n",
       "0   5f76ab9a5252806f931cb6ec                          Antares   \n",
       "\n",
       "                               Right  Similarity  \n",
       "0         Palantir Technologies Inc.    1.000000  \n",
       "0                  Johnson & Johnson    1.000000  \n",
       "0             Celsius Holdings, Inc.    0.985512  \n",
       "2              PayPal Holdings, Inc.    0.985512  \n",
       "0                           NIO Inc.    0.982853  \n",
       "0                       Tesla, Inc.     0.982853  \n",
       "0                            K12 Inc    0.982853  \n",
       "0                        Intuit Inc.    0.982853  \n",
       "0                           NIO Inc.    0.982853  \n",
       "0                         Roku, Inc.    0.982853  \n",
       "0                          eBay Inc.    0.982853  \n",
       "0                     Facebook, Inc.    0.982853  \n",
       "0                     Facebook, Inc.    0.982853  \n",
       "0                    DraftKings Inc.    0.982853  \n",
       "0                        Sunrun Inc.    0.982853  \n",
       "0                       Nasdaq, Inc.    0.964534  \n",
       "10                      Nasdaq, Inc.    0.964534  \n",
       "0           Kimco Realty Corporation    0.961022  \n",
       "2     Virgin Galactic Holdings, Inc.    0.948405  \n",
       "0     Virgin Galactic Holdings, Inc.    0.948405  \n",
       "1     Virgin Galactic Holdings, Inc.    0.948405  \n",
       "4                 NVIDIA Corporation    0.945668  \n",
       "3                 NVIDIA Corporation    0.945668  \n",
       "0                  Intel Corporation    0.945668  \n",
       "0                  FedEx Corporation    0.945668  \n",
       "0                 NVIDIA Corporation    0.945668  \n",
       "1                  Intel Corporation    0.945668  \n",
       "1                  FedEx Corporation    0.945668  \n",
       "1                  Intel Corporation    0.945668  \n",
       "11             PayPal Holdings, Inc.    0.904052  \n",
       "12             PayPal Holdings, Inc.    0.904052  \n",
       "7              PayPal Holdings, Inc.    0.904052  \n",
       "9              PayPal Holdings, Inc.    0.904052  \n",
       "8              PayPal Holdings, Inc.    0.904052  \n",
       "1              PayPal Holdings, Inc.    0.904052  \n",
       "1              PayPal Holdings, Inc.    0.904052  \n",
       "3              PayPal Holdings, Inc.    0.904052  \n",
       "5              PayPal Holdings, Inc.    0.904052  \n",
       "13             PayPal Holdings, Inc.    0.904052  \n",
       "4              PayPal Holdings, Inc.    0.904052  \n",
       "6              PayPal Holdings, Inc.    0.904052  \n",
       "2                        PCB Bancorp    0.881745  \n",
       "0             TTM Technologies, Inc.    0.863814  \n",
       "0         Palantir Technologies Inc.    0.863814  \n",
       "0       Sturm, Ruger & Company, Inc.    0.856520  \n",
       "0                       Unilever PLC    0.856195  \n",
       "0                  ASML Holding N.V.    0.856047  \n",
       "0   Fortress Value Acquisition Corp.    0.853238  \n",
       "0           FB Financial Corporation    0.848358  \n",
       "0       Truist Financial Corporation    0.848358  \n",
       "1       Worthington Industries, Inc.    0.841008  \n",
       "0               VG Acquisition Corp.    0.826580  \n",
       "0               Antares Pharma, Inc.    0.817449  "
      ],
      "text/html": "<div>\n<style scoped>\n    .dataframe tbody tr th:only-of-type {\n        vertical-align: middle;\n    }\n\n    .dataframe tbody tr th {\n        vertical-align: top;\n    }\n\n    .dataframe thead th {\n        text-align: right;\n    }\n</style>\n<table border=\"1\" class=\"dataframe\">\n  <thead>\n    <tr style=\"text-align: right;\">\n      <th></th>\n      <th>_id</th>\n      <th>Left</th>\n      <th>Right</th>\n      <th>Similarity</th>\n    </tr>\n  </thead>\n  <tbody>\n    <tr>\n      <th>0</th>\n      <td>5f767e4e2dd138c701623f9e</td>\n      <td>Palantir Technologies Inc</td>\n      <td>Palantir Technologies Inc.</td>\n      <td>1.000000</td>\n    </tr>\n    <tr>\n      <th>0</th>\n      <td>5f76ab9a5252806f931cb6ed</td>\n      <td>JNJ Johnson</td>\n      <td>Johnson &amp; Johnson</td>\n      <td>1.000000</td>\n    </tr>\n    <tr>\n      <th>0</th>\n      <td>5f767e4e2dd138c701623fc6</td>\n      <td>Celsius Holdings</td>\n      <td>Celsius Holdings, Inc.</td>\n      <td>0.985512</td>\n    </tr>\n    <tr>\n      <th>2</th>\n      <td>5f7787fc1d41cb76fd113042</td>\n      <td>PayPal Holdings</td>\n      <td>PayPal Holdings, Inc.</td>\n      <td>0.985512</td>\n    </tr>\n    <tr>\n      <th>0</th>\n      <td>5f7787fc1d41cb76fd113037</td>\n      <td>NIO</td>\n      <td>NIO Inc.</td>\n      <td>0.982853</td>\n    </tr>\n    <tr>\n      <th>0</th>\n      <td>5f767e4e2dd138c701623fb8</td>\n      <td>Tesla</td>\n      <td>Tesla, Inc.</td>\n      <td>0.982853</td>\n    </tr>\n    <tr>\n      <th>0</th>\n      <td>5f766db0c41ae878a7180234</td>\n      <td>K12</td>\n      <td>K12 Inc</td>\n      <td>0.982853</td>\n    </tr>\n    <tr>\n      <th>0</th>\n      <td>5f766db0c41ae878a718021f</td>\n      <td>Intuit</td>\n      <td>Intuit Inc.</td>\n      <td>0.982853</td>\n    </tr>\n    <tr>\n      <th>0</th>\n      <td>5f766db0c41ae878a7180226</td>\n      <td>NIO</td>\n      <td>NIO Inc.</td>\n      <td>0.982853</td>\n    </tr>\n    <tr>\n      <th>0</th>\n      <td>5f767e4e2dd138c701623fb2</td>\n      <td>ROKU</td>\n      <td>Roku, Inc.</td>\n      <td>0.982853</td>\n    </tr>\n    <tr>\n      <th>0</th>\n      <td>5f7787fc1d41cb76fd113042</td>\n      <td>eBay</td>\n      <td>eBay Inc.</td>\n      <td>0.982853</td>\n    </tr>\n    <tr>\n      <th>0</th>\n      <td>5f766db0c41ae878a7180230</td>\n      <td>Facebook Similar</td>\n      <td>Facebook, Inc.</td>\n      <td>0.982853</td>\n    </tr>\n    <tr>\n      <th>0</th>\n      <td>5f766db0c41ae878a7180220</td>\n      <td>Facebook Board</td>\n      <td>Facebook, Inc.</td>\n      <td>0.982853</td>\n    </tr>\n    <tr>\n      <th>0</th>\n      <td>5f7787fc1d41cb76fd113047</td>\n      <td>DraftKings</td>\n      <td>DraftKings Inc.</td>\n      <td>0.982853</td>\n    </tr>\n    <tr>\n      <th>0</th>\n      <td>5f767e4e2dd138c701623f9a</td>\n      <td>SUNRUN</td>\n      <td>Sunrun Inc.</td>\n      <td>0.982853</td>\n    </tr>\n    <tr>\n      <th>0</th>\n      <td>5f767e4e2dd138c701623fb7</td>\n      <td>NASDAQ</td>\n      <td>Nasdaq, Inc.</td>\n      <td>0.964534</td>\n    </tr>\n    <tr>\n      <th>10</th>\n      <td>5f7787fc1d41cb76fd113042</td>\n      <td>NASDAQ</td>\n      <td>Nasdaq, Inc.</td>\n      <td>0.964534</td>\n    </tr>\n    <tr>\n      <th>0</th>\n      <td>5f766db0c41ae878a718020e</td>\n      <td>SPG Kimco Realty</td>\n      <td>Kimco Realty Corporation</td>\n      <td>0.961022</td>\n    </tr>\n    <tr>\n      <th>2</th>\n      <td>5f766db0c41ae878a7180210</td>\n      <td>VIRGIN GALACTIC</td>\n      <td>Virgin Galactic Holdings, Inc.</td>\n      <td>0.948405</td>\n    </tr>\n    <tr>\n      <th>0</th>\n      <td>5f76ab9a5252806f931cb6e9</td>\n      <td>SPCE Virgin Galactic</td>\n      <td>Virgin Galactic Holdings, Inc.</td>\n      <td>0.948405</td>\n    </tr>\n    <tr>\n      <th>1</th>\n      <td>5f766db0c41ae878a7180210</td>\n      <td>COOL SPCE Virgin Galactic</td>\n      <td>Virgin Galactic Holdings, Inc.</td>\n      <td>0.948405</td>\n    </tr>\n    <tr>\n      <th>4</th>\n      <td>5f76ab9a5252806f931cb6e8</td>\n      <td>NVIDIA</td>\n      <td>NVIDIA Corporation</td>\n      <td>0.945668</td>\n    </tr>\n    <tr>\n      <th>3</th>\n      <td>5f76ab9a5252806f931cb6e8</td>\n      <td>AMD NVIDIA</td>\n      <td>NVIDIA Corporation</td>\n      <td>0.945668</td>\n    </tr>\n    <tr>\n      <th>0</th>\n      <td>5f76ab9a5252806f931cb6e8</td>\n      <td>GPUs Intel</td>\n      <td>Intel Corporation</td>\n      <td>0.945668</td>\n    </tr>\n    <tr>\n      <th>0</th>\n      <td>5f76ab9a5252806f931cb6e6</td>\n      <td>FedEx pRiCEd</td>\n      <td>FedEx Corporation</td>\n      <td>0.945668</td>\n    </tr>\n    <tr>\n      <th>0</th>\n      <td>5f766db0c41ae878a718021a</td>\n      <td>NVIDIA</td>\n      <td>NVIDIA Corporation</td>\n      <td>0.945668</td>\n    </tr>\n    <tr>\n      <th>1</th>\n      <td>5f76ab9a5252806f931cb6e8</td>\n      <td>AMD Intel</td>\n      <td>Intel Corporation</td>\n      <td>0.945668</td>\n    </tr>\n    <tr>\n      <th>1</th>\n      <td>5f76ab9a5252806f931cb6e6</td>\n      <td>FedEx</td>\n      <td>FedEx Corporation</td>\n      <td>0.945668</td>\n    </tr>\n    <tr>\n      <th>1</th>\n      <td>5f766db0c41ae878a718021a</td>\n      <td>Intel</td>\n      <td>Intel Corporation</td>\n      <td>0.945668</td>\n    </tr>\n    <tr>\n      <th>11</th>\n      <td>5f7787fc1d41cb76fd113042</td>\n      <td>PayPal PayPal</td>\n      <td>PayPal Holdings, Inc.</td>\n      <td>0.904052</td>\n    </tr>\n    <tr>\n      <th>12</th>\n      <td>5f7787fc1d41cb76fd113042</td>\n      <td>PayPal PayPal PayPal PayPal P2P</td>\n      <td>PayPal Holdings, Inc.</td>\n      <td>0.904052</td>\n    </tr>\n    <tr>\n      <th>7</th>\n      <td>5f7787fc1d41cb76fd113042</td>\n      <td>PayPal Hyperwallet</td>\n      <td>PayPal Holdings, Inc.</td>\n      <td>0.904052</td>\n    </tr>\n    <tr>\n      <th>9</th>\n      <td>5f7787fc1d41cb76fd113042</td>\n      <td>Paypal</td>\n      <td>PayPal Holdings, Inc.</td>\n      <td>0.904052</td>\n    </tr>\n    <tr>\n      <th>8</th>\n      <td>5f7787fc1d41cb76fd113042</td>\n      <td>PayPal ATM</td>\n      <td>PayPal Holdings, Inc.</td>\n      <td>0.904052</td>\n    </tr>\n    <tr>\n      <th>1</th>\n      <td>5f7787fc1d41cb76fd113042</td>\n      <td>PayPal</td>\n      <td>PayPal Holdings, Inc.</td>\n      <td>0.904052</td>\n    </tr>\n    <tr>\n      <th>1</th>\n      <td>5f766db0c41ae878a7180220</td>\n      <td>PayPal</td>\n      <td>PayPal Holdings, Inc.</td>\n      <td>0.904052</td>\n    </tr>\n    <tr>\n      <th>3</th>\n      <td>5f7787fc1d41cb76fd113042</td>\n      <td>PayPal PayPal PayPal PayPal</td>\n      <td>PayPal Holdings, Inc.</td>\n      <td>0.904052</td>\n    </tr>\n    <tr>\n      <th>5</th>\n      <td>5f7787fc1d41cb76fd113042</td>\n      <td>PayPal Braintree</td>\n      <td>PayPal Holdings, Inc.</td>\n      <td>0.904052</td>\n    </tr>\n    <tr>\n      <th>13</th>\n      <td>5f7787fc1d41cb76fd113042</td>\n      <td>PayPal iZettle</td>\n      <td>PayPal Holdings, Inc.</td>\n      <td>0.904052</td>\n    </tr>\n    <tr>\n      <th>4</th>\n      <td>5f7787fc1d41cb76fd113042</td>\n      <td>PayPal PayPal PayPal</td>\n      <td>PayPal Holdings, Inc.</td>\n      <td>0.904052</td>\n    </tr>\n    <tr>\n      <th>6</th>\n      <td>5f7787fc1d41cb76fd113042</td>\n      <td>PayPal IPO</td>\n      <td>PayPal Holdings, Inc.</td>\n      <td>0.904052</td>\n    </tr>\n    <tr>\n      <th>2</th>\n      <td>5f76ab9a5252806f931cb6e8</td>\n      <td>PCB</td>\n      <td>PCB Bancorp</td>\n      <td>0.881745</td>\n    </tr>\n    <tr>\n      <th>0</th>\n      <td>5f7b395a6d0682ca2381a86f</td>\n      <td>RSI TTM Squeeze</td>\n      <td>TTM Technologies, Inc.</td>\n      <td>0.863814</td>\n    </tr>\n    <tr>\n      <th>0</th>\n      <td>5f767e4e2dd138c701623fa7</td>\n      <td>Palantir</td>\n      <td>Palantir Technologies Inc.</td>\n      <td>0.863814</td>\n    </tr>\n    <tr>\n      <th>0</th>\n      <td>5f767e4e2dd138c701623fa3</td>\n      <td>RGR Sturm Ruger Co</td>\n      <td>Sturm, Ruger &amp; Company, Inc.</td>\n      <td>0.856520</td>\n    </tr>\n    <tr>\n      <th>0</th>\n      <td>5f766db0c41ae878a7180215</td>\n      <td>Unilever</td>\n      <td>Unilever PLC</td>\n      <td>0.856195</td>\n    </tr>\n    <tr>\n      <th>0</th>\n      <td>5f767e4e2dd138c701623fc7</td>\n      <td>ASML</td>\n      <td>ASML Holding N.V.</td>\n      <td>0.856047</td>\n    </tr>\n    <tr>\n      <th>0</th>\n      <td>5f766db0c41ae878a7180228</td>\n      <td>Fortress Value</td>\n      <td>Fortress Value Acquisition Corp.</td>\n      <td>0.853238</td>\n    </tr>\n    <tr>\n      <th>0</th>\n      <td>5f767e4e2dd138c701623fb0</td>\n      <td>FB</td>\n      <td>FB Financial Corporation</td>\n      <td>0.848358</td>\n    </tr>\n    <tr>\n      <th>0</th>\n      <td>5f767e4e2dd138c701623fa6</td>\n      <td>Truist</td>\n      <td>Truist Financial Corporation</td>\n      <td>0.848358</td>\n    </tr>\n    <tr>\n      <th>1</th>\n      <td>5f767e4e2dd138c701623fb7</td>\n      <td>Worthington</td>\n      <td>Worthington Industries, Inc.</td>\n      <td>0.841008</td>\n    </tr>\n    <tr>\n      <th>0</th>\n      <td>5f766db0c41ae878a7180210</td>\n      <td>SpaceX VG</td>\n      <td>VG Acquisition Corp.</td>\n      <td>0.826580</td>\n    </tr>\n    <tr>\n      <th>0</th>\n      <td>5f76ab9a5252806f931cb6ec</td>\n      <td>Antares</td>\n      <td>Antares Pharma, Inc.</td>\n      <td>0.817449</td>\n    </tr>\n  </tbody>\n</table>\n</div>"
     },
     "metadata": {},
     "execution_count": 130
    }
   ],
   "source": [
    "matchdf"
   ]
  },
  {
   "cell_type": "code",
   "execution_count": 124,
   "metadata": {},
   "outputs": [
    {
     "output_type": "execute_result",
     "data": {
      "text/plain": [
       "['BABA Gang',\n",
       " 'BABA',\n",
       " 'Truist',\n",
       " 'RBC',\n",
       " 'Merrill',\n",
       " 'BABA BABA',\n",
       " 'BABA PRC',\n",
       " 'BABA Ant Group Cainiao Taobao',\n",
       " 'IPO',\n",
       " 'BABA Ant Group',\n",
       " 'IPOs',\n",
       " 'US',\n",
       " 'BABA PRC PRC']"
      ]
     },
     "metadata": {},
     "execution_count": 124
    }
   ],
   "source": [
    "getContinuousChunks(df.loc[df['_id'] == bson.ObjectId('5f767e4e2dd138c701623fa6'), 'Body'][33])"
   ]
  },
  {
   "cell_type": "code",
   "execution_count": 100,
   "metadata": {},
   "outputs": [
    {
     "output_type": "execute_result",
     "data": {
      "text/plain": [
       "ObjectId('5f766db0c41ae878a718020e')"
      ]
     },
     "metadata": {},
     "execution_count": 100
    }
   ],
   "source": [
    "df['_id'][0]"
   ]
  },
  {
   "cell_type": "code",
   "execution_count": 125,
   "metadata": {},
   "outputs": [
    {
     "output_type": "execute_result",
     "data": {
      "text/plain": [
       "0                           10x Genomics, Inc.\n",
       "1                                    111, Inc.\n",
       "2       1347 Property Insurance Holdings, Inc.\n",
       "3       1347 Property Insurance Holdings, Inc.\n",
       "4                     180 Degree Capital Corp.\n",
       "                         ...                  \n",
       "7296                               Zuora, Inc.\n",
       "7297                            Zymeworks Inc.\n",
       "7298             Zynerba Pharmaceuticals, Inc.\n",
       "7299                               Zynex, Inc.\n",
       "7300                                Zynga Inc.\n",
       "Name: Name, Length: 7301, dtype: object"
      ]
     },
     "metadata": {},
     "execution_count": 125
    }
   ],
   "source": []
  },
  {
   "cell_type": "code",
   "execution_count": 128,
   "metadata": {},
   "outputs": [
    {
     "output_type": "execute_result",
     "data": {
      "text/plain": [
       "6020"
      ]
     },
     "metadata": {},
     "execution_count": 128
    }
   ],
   "source": [
    "len(companydf['Name'].unique())"
   ]
  },
  {
   "cell_type": "code",
   "execution_count": null,
   "metadata": {},
   "outputs": [],
   "source": []
  }
 ]
}