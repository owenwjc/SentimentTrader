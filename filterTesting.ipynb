{
 "metadata": {
  "language_info": {
   "codemirror_mode": {
    "name": "ipython",
    "version": 3
   },
   "file_extension": ".py",
   "mimetype": "text/x-python",
   "name": "python",
   "nbconvert_exporter": "python",
   "pygments_lexer": "ipython3",
   "version": "3.8.5-final"
  },
  "orig_nbformat": 2,
  "kernelspec": {
   "name": "Python 3.8.5 64-bit ('vsenv': conda)",
   "display_name": "Python 3.8.5 64-bit ('vsenv': conda)",
   "metadata": {
    "interpreter": {
     "hash": "1ee30a202add5215adcbb767012aec8477a9c484e522cef3494d0f72d70b8c03"
    }
   }
  }
 },
 "nbformat": 4,
 "nbformat_minor": 2,
 "cells": [
  {
   "cell_type": "code",
   "execution_count": 152,
   "metadata": {},
   "outputs": [],
   "source": [
    "import pymongo\n",
    "import pandas as pd\n",
    "import numpy as np\n",
    "import re\n",
    "import time\n",
    "import datetime\n",
    "import nltk\n",
    "from datetime import datetime, timedelta\n",
    "from sklearn.feature_extraction.text import TfidfVectorizer\n",
    "from sklearn.metrics.pairwise import cosine_similarity\n",
    "import bson"
   ]
  },
  {
   "cell_type": "code",
   "execution_count": 153,
   "metadata": {},
   "outputs": [],
   "source": [
    "client = pymongo.MongoClient('localhost', 27017)\n",
    "db = client.db\n",
    "threads = db.threads\n",
    "companies = db.companylist\n",
    "\n",
    "df = pd.DataFrame.from_records(threads.find({'Label' :{'$ne': 0}}))\n",
    "companydf = pd.DataFrame.from_records(companies.find())"
   ]
  },
  {
   "cell_type": "code",
   "execution_count": 348,
   "metadata": {},
   "outputs": [],
   "source": [
    "def getContinuousChunks(text):\n",
    "    chunked = nltk.ne_chunk(nltk.pos_tag(nltk.word_tokenize(text)))\n",
    "    continuousChunkdf = pd.DataFrame(columns = ['id', 'Named Entity', 'Label'])\n",
    "    currentChunk = []\n",
    "    currentLabel = []\n",
    "    for i in chunked:\n",
    "        if type(i) == nltk.tree.Tree:\n",
    "            currentChunk.append(\" \".join([token for token, pos in i.leaves()]))\n",
    "            currentLabel.append(i.label())\n",
    "        if currentChunk:\n",
    "            namedEntity = \" \".join(currentChunk)\n",
    "            label = \" \".join(currentLabel)\n",
    "            if namedEntity not in continuousChunkdf['Named Entity']:\n",
    "                d = {'id': 0, 'Named Entity': namedEntity, 'Label': label}\n",
    "                continuousChunkdf = continuousChunkdf.append(d, ignore_index = True)\n",
    "                currentChunk = []\n",
    "                currentLabel = []\n",
    "        else:\n",
    "            continue\n",
    "    return continuousChunkdf\n",
    "\n",
    "def mapResults(result, leftNames, rightNames, threadID):\n",
    "    matchdf = pd.DataFrame(0, index = np.arange(len(result.nonzero()[0])), columns = ['id','Left', 'Right', 'Similarity'])\n",
    "    for i in range(len(result.nonzero()[0])):\n",
    "        matchdf.loc[i, 'Left'] = leftNames[result.nonzero()[0][i]]\n",
    "        matchdf.loc[i, 'Right'] = rightNames[result.nonzero()[1][i]]\n",
    "        matchdf.loc[i, 'Similarity'] = result[result.nonzero()[0][i]][result.nonzero()[1][i]]\n",
    "    matchdf['id'] = threadID\n",
    "    return matchdf.drop_duplicates(subset = 'Right')"
   ]
  },
  {
   "cell_type": "code",
   "execution_count": 386,
   "metadata": {},
   "outputs": [],
   "source": [
    "companyNames = companydf['Name'].unique()\n",
    "companySymbols = companydf['Symbol'].unique()\n",
    "nameVectorizer = TfidfVectorizer(min_df = 1)\n",
    "symbolVectorizer = TfidfVectorizer(min_df = 1)\n",
    "companyMatrix = nameVectorizer.fit_transform(companyNames)\n",
    "symbolMatrix = symbolVectorizer.fit_transform(companySymbols)\n",
    "matchdf = pd.DataFrame(columns = ['id', 'Left', 'Right', 'Similarity'])\n",
    "nerdf = pd.DataFrame(columns = ['id', 'Named Entity', 'Label'])\n",
    "\n",
    "for i in range(len(df['Body'])):\n",
    "    sent = df['Title'][i] + '. ' + df['Body'][i]\n",
    "    threadID = df['_id'][i]\n",
    "    chunkdf = getContinuousChunks(sent)\n",
    "    chunkdf['id'] = threadID\n",
    "    nerdf = nerdf.append(chunkdf)\n",
    "\n",
    "    if len(chunkdf.loc[chunkdf['Label'] == 'ORGANIZATION']) > 0:\n",
    "        nerNameMatrix = nameVectorizer.transform(chunkdf.loc[chunkdf['Label'] == 'ORGANIZATION','Named Entity'])\n",
    "        nerSymbolMatrix = symbolVectorizer.transform(chunkdf.loc[chunkdf['Label'] == 'ORGANIZATION','Named Entity'])\n",
    "        nameResult = cosine_similarity(nerNameMatrix, companyMatrix)\n",
    "        nameResult[nameResult < 0.8] = 0\n",
    "        symbolResult = cosine_similarity(nerSymbolMatrix, symbolMatrix)\n",
    "        symbolResult[symbolResult < 1] = 0\n",
    "        namedf = mapResults(nameResult, chunkdf['Named Entity'], companyNames, threadID)\n",
    "        symboldf = mapResults(symbolResult, chunkdf['Named Entity'], companySymbols, threadID)\n",
    "        matchdf = matchdf.append(namedf)\n",
    "        matchdf = matchdf.append(symboldf)\n",
    "    stocklist = set(namedf['Right'].append(symboldf['Right']))\n",
    "    df.loc[df['_id'] == threadID, 'Stocks'] = [stocklist]\n"
   ]
  },
  {
   "cell_type": "code",
   "execution_count": 387,
   "metadata": {},
   "outputs": [
    {
     "output_type": "execute_result",
     "data": {
      "text/plain": [
       "                          id                  Left  \\\n",
       "0   5f766db0c41ae878a718020e  Vornado Realty Trust   \n",
       "0   5f766db0c41ae878a718020e  Vornado Realty Trust   \n",
       "1   5f766db0c41ae878a718020e  Vornado Realty Trust   \n",
       "0   5f766db0c41ae878a7180210  SPCE Virgin Galactic   \n",
       "1   5f766db0c41ae878a7180210                  SPCE   \n",
       "..                       ...                   ...   \n",
       "0   5f7b395a6d0682ca2381a86f           TTM Squeeze   \n",
       "0   5f7b395a6d0682ca2381a86f        AMD Technicals   \n",
       "1   5f7b395a6d0682ca2381a86f           TTM Squeeze   \n",
       "0   5f7b395a6d0682ca2381a870          France Spain   \n",
       "0   5f7b395a6d0682ca2381a876                  CVAC   \n",
       "\n",
       "                             Right  Similarity  \n",
       "0         Kimco Realty Corporation    0.961022  \n",
       "0                              SPG    1.000000  \n",
       "1                            SPG^J    1.000000  \n",
       "0   Virgin Galactic Holdings, Inc.    0.948405  \n",
       "1             VG Acquisition Corp.    0.826580  \n",
       "..                             ...         ...  \n",
       "0           TTM Technologies, Inc.    0.863814  \n",
       "0                              AMD    1.000000  \n",
       "1                              TTM    1.000000  \n",
       "0                             SQQQ    1.000000  \n",
       "0                             CVAC    1.000000  \n",
       "\n",
       "[177 rows x 4 columns]"
      ],
      "text/html": "<div>\n<style scoped>\n    .dataframe tbody tr th:only-of-type {\n        vertical-align: middle;\n    }\n\n    .dataframe tbody tr th {\n        vertical-align: top;\n    }\n\n    .dataframe thead th {\n        text-align: right;\n    }\n</style>\n<table border=\"1\" class=\"dataframe\">\n  <thead>\n    <tr style=\"text-align: right;\">\n      <th></th>\n      <th>id</th>\n      <th>Left</th>\n      <th>Right</th>\n      <th>Similarity</th>\n    </tr>\n  </thead>\n  <tbody>\n    <tr>\n      <th>0</th>\n      <td>5f766db0c41ae878a718020e</td>\n      <td>Vornado Realty Trust</td>\n      <td>Kimco Realty Corporation</td>\n      <td>0.961022</td>\n    </tr>\n    <tr>\n      <th>0</th>\n      <td>5f766db0c41ae878a718020e</td>\n      <td>Vornado Realty Trust</td>\n      <td>SPG</td>\n      <td>1.000000</td>\n    </tr>\n    <tr>\n      <th>1</th>\n      <td>5f766db0c41ae878a718020e</td>\n      <td>Vornado Realty Trust</td>\n      <td>SPG^J</td>\n      <td>1.000000</td>\n    </tr>\n    <tr>\n      <th>0</th>\n      <td>5f766db0c41ae878a7180210</td>\n      <td>SPCE Virgin Galactic</td>\n      <td>Virgin Galactic Holdings, Inc.</td>\n      <td>0.948405</td>\n    </tr>\n    <tr>\n      <th>1</th>\n      <td>5f766db0c41ae878a7180210</td>\n      <td>SPCE</td>\n      <td>VG Acquisition Corp.</td>\n      <td>0.826580</td>\n    </tr>\n    <tr>\n      <th>...</th>\n      <td>...</td>\n      <td>...</td>\n      <td>...</td>\n      <td>...</td>\n    </tr>\n    <tr>\n      <th>0</th>\n      <td>5f7b395a6d0682ca2381a86f</td>\n      <td>TTM Squeeze</td>\n      <td>TTM Technologies, Inc.</td>\n      <td>0.863814</td>\n    </tr>\n    <tr>\n      <th>0</th>\n      <td>5f7b395a6d0682ca2381a86f</td>\n      <td>AMD Technicals</td>\n      <td>AMD</td>\n      <td>1.000000</td>\n    </tr>\n    <tr>\n      <th>1</th>\n      <td>5f7b395a6d0682ca2381a86f</td>\n      <td>TTM Squeeze</td>\n      <td>TTM</td>\n      <td>1.000000</td>\n    </tr>\n    <tr>\n      <th>0</th>\n      <td>5f7b395a6d0682ca2381a870</td>\n      <td>France Spain</td>\n      <td>SQQQ</td>\n      <td>1.000000</td>\n    </tr>\n    <tr>\n      <th>0</th>\n      <td>5f7b395a6d0682ca2381a876</td>\n      <td>CVAC</td>\n      <td>CVAC</td>\n      <td>1.000000</td>\n    </tr>\n  </tbody>\n</table>\n<p>177 rows × 4 columns</p>\n</div>"
     },
     "metadata": {},
     "execution_count": 387
    }
   ],
   "source": [
    "matchdf"
   ]
  },
  {
   "cell_type": "code",
   "execution_count": 389,
   "metadata": {},
   "outputs": [
    {
     "output_type": "execute_result",
     "data": {
      "text/plain": [
       "                          id          Named Entity         Label\n",
       "0   5f766db0c41ae878a718020e              New York           GPE\n",
       "1   5f766db0c41ae878a718020e  Vornado Realty Trust        PERSON\n",
       "2   5f766db0c41ae878a718020e       Cali Realty CLI        PERSON\n",
       "3   5f766db0c41ae878a718020e             AvalonBay  ORGANIZATION\n",
       "4   5f766db0c41ae878a718020e     Boston Properties        PERSON\n",
       "..                       ...                   ...           ...\n",
       "0   5f7b395a6d0682ca2381a876                  CVAC  ORGANIZATION\n",
       "1   5f7b395a6d0682ca2381a876              Oblivion           GPE\n",
       "2   5f7b395a6d0682ca2381a876                  CVAC  ORGANIZATION\n",
       "3   5f7b395a6d0682ca2381a876               MINIMUM  ORGANIZATION\n",
       "4   5f7b395a6d0682ca2381a876       DISCLOSURE Long  ORGANIZATION\n",
       "\n",
       "[897 rows x 3 columns]"
      ],
      "text/html": "<div>\n<style scoped>\n    .dataframe tbody tr th:only-of-type {\n        vertical-align: middle;\n    }\n\n    .dataframe tbody tr th {\n        vertical-align: top;\n    }\n\n    .dataframe thead th {\n        text-align: right;\n    }\n</style>\n<table border=\"1\" class=\"dataframe\">\n  <thead>\n    <tr style=\"text-align: right;\">\n      <th></th>\n      <th>id</th>\n      <th>Named Entity</th>\n      <th>Label</th>\n    </tr>\n  </thead>\n  <tbody>\n    <tr>\n      <th>0</th>\n      <td>5f766db0c41ae878a718020e</td>\n      <td>New York</td>\n      <td>GPE</td>\n    </tr>\n    <tr>\n      <th>1</th>\n      <td>5f766db0c41ae878a718020e</td>\n      <td>Vornado Realty Trust</td>\n      <td>PERSON</td>\n    </tr>\n    <tr>\n      <th>2</th>\n      <td>5f766db0c41ae878a718020e</td>\n      <td>Cali Realty CLI</td>\n      <td>PERSON</td>\n    </tr>\n    <tr>\n      <th>3</th>\n      <td>5f766db0c41ae878a718020e</td>\n      <td>AvalonBay</td>\n      <td>ORGANIZATION</td>\n    </tr>\n    <tr>\n      <th>4</th>\n      <td>5f766db0c41ae878a718020e</td>\n      <td>Boston Properties</td>\n      <td>PERSON</td>\n    </tr>\n    <tr>\n      <th>...</th>\n      <td>...</td>\n      <td>...</td>\n      <td>...</td>\n    </tr>\n    <tr>\n      <th>0</th>\n      <td>5f7b395a6d0682ca2381a876</td>\n      <td>CVAC</td>\n      <td>ORGANIZATION</td>\n    </tr>\n    <tr>\n      <th>1</th>\n      <td>5f7b395a6d0682ca2381a876</td>\n      <td>Oblivion</td>\n      <td>GPE</td>\n    </tr>\n    <tr>\n      <th>2</th>\n      <td>5f7b395a6d0682ca2381a876</td>\n      <td>CVAC</td>\n      <td>ORGANIZATION</td>\n    </tr>\n    <tr>\n      <th>3</th>\n      <td>5f7b395a6d0682ca2381a876</td>\n      <td>MINIMUM</td>\n      <td>ORGANIZATION</td>\n    </tr>\n    <tr>\n      <th>4</th>\n      <td>5f7b395a6d0682ca2381a876</td>\n      <td>DISCLOSURE Long</td>\n      <td>ORGANIZATION</td>\n    </tr>\n  </tbody>\n</table>\n<p>897 rows × 3 columns</p>\n</div>"
     },
     "metadata": {},
     "execution_count": 389
    }
   ],
   "source": [
    "nerdf"
   ]
  },
  {
   "cell_type": "code",
   "execution_count": 388,
   "metadata": {},
   "outputs": [
    {
     "output_type": "execute_result",
     "data": {
      "text/plain": [
       "                         _id           Inserted Date  \\\n",
       "0   5f766db0c41ae878a718020e 2020-10-01 23:18:55.840   \n",
       "1   5f766db0c41ae878a7180210 2020-10-01 23:18:55.840   \n",
       "2   5f766db0c41ae878a7180212 2020-10-01 23:18:55.840   \n",
       "3   5f766db0c41ae878a7180215 2020-10-01 23:18:55.840   \n",
       "4   5f766db0c41ae878a7180217 2020-10-01 23:18:55.840   \n",
       "..                       ...                     ...   \n",
       "79  5f7787fc1d41cb76fd11304d 2020-10-02 20:05:16.466   \n",
       "80  5f7787fc1d41cb76fd11304e 2020-10-02 20:05:16.466   \n",
       "81  5f7b395a6d0682ca2381a86f 2020-10-05 15:18:50.943   \n",
       "82  5f7b395a6d0682ca2381a870 2020-10-05 15:18:50.943   \n",
       "83  5f7b395a6d0682ca2381a876 2020-10-05 15:18:50.943   \n",
       "\n",
       "                                                Title  \\\n",
       "0         List of companies that are fucked next year   \n",
       "1   VIRGIN GALACTIC ROCKET SHIPS ARE COOL PT $180 ...   \n",
       "2   Updated S P500 Technical Analysis Bears Are St...   \n",
       "3       Procter Gamble to the fucking MOON DD inside    \n",
       "4             WHY IS NO ONE TALKING ABOUT BABA TODAY    \n",
       "..                                                ...   \n",
       "79                            Snowflake lockup period   \n",
       "80                                      CHWY go go go   \n",
       "81                       AMD going to $100 This Month   \n",
       "82                                 Actual Second Wave   \n",
       "83                       CVAC Overshorted to Oblivion   \n",
       "\n",
       "                                                 Body         Tag    Label  \\\n",
       "0   For those who aren t aware new york is going i...          DD  bearish   \n",
       "1    VIRGIN GALACTIC ROCKET SHIPS ARE COOL PT $180...          DD  bullish   \n",
       "2   Last week I shared my S P500 forecast and brok...  Technicals  bullish   \n",
       "3    Procter Gamble 10/27/2020 Q1 Earnings Play NY...          DD  bullish   \n",
       "4   This sub introduced me to BABA. I am BABA gang...  Discussion  bullish   \n",
       "..                                                ...         ...      ...   \n",
       "79  Hi Snowflake has gone up a lot since IPO. I as...  Discussion  bearish   \n",
       "80  CHWY LISTEN UP RETARDS chwy was moon for the p...        YOLO  bullish   \n",
       "81  I m looking at AMD Technicals https //imgur.co...  Technicals  bullish   \n",
       "82  Back in early summer this year the US had a se...          DD  bearish   \n",
       "83  CVAC curevac 47.49$ has been agressively short...  Discussion  bullish   \n",
       "\n",
       "                                               Stocks  \n",
       "0              {Kimco Realty Corporation, SPG^J, SPG}  \n",
       "1   {SPCE, VG, LOVE, NYC, VG Acquisition Corp., Vi...  \n",
       "2                                     {MMS, IMO, CAN}  \n",
       "3                  {Unilever PLC, TSLA, NEW, PG, CDC}  \n",
       "4                                              {BABA}  \n",
       "..                                                ...  \n",
       "79                                                 {}  \n",
       "80                                             {CHWY}  \n",
       "81                 {TTM Technologies, Inc., TTM, AMD}  \n",
       "82                                             {SQQQ}  \n",
       "83                                             {CVAC}  \n",
       "\n",
       "[84 rows x 7 columns]"
      ],
      "text/html": "<div>\n<style scoped>\n    .dataframe tbody tr th:only-of-type {\n        vertical-align: middle;\n    }\n\n    .dataframe tbody tr th {\n        vertical-align: top;\n    }\n\n    .dataframe thead th {\n        text-align: right;\n    }\n</style>\n<table border=\"1\" class=\"dataframe\">\n  <thead>\n    <tr style=\"text-align: right;\">\n      <th></th>\n      <th>_id</th>\n      <th>Inserted Date</th>\n      <th>Title</th>\n      <th>Body</th>\n      <th>Tag</th>\n      <th>Label</th>\n      <th>Stocks</th>\n    </tr>\n  </thead>\n  <tbody>\n    <tr>\n      <th>0</th>\n      <td>5f766db0c41ae878a718020e</td>\n      <td>2020-10-01 23:18:55.840</td>\n      <td>List of companies that are fucked next year</td>\n      <td>For those who aren t aware new york is going i...</td>\n      <td>DD</td>\n      <td>bearish</td>\n      <td>{Kimco Realty Corporation, SPG^J, SPG}</td>\n    </tr>\n    <tr>\n      <th>1</th>\n      <td>5f766db0c41ae878a7180210</td>\n      <td>2020-10-01 23:18:55.840</td>\n      <td>VIRGIN GALACTIC ROCKET SHIPS ARE COOL PT $180 ...</td>\n      <td>VIRGIN GALACTIC ROCKET SHIPS ARE COOL PT $180...</td>\n      <td>DD</td>\n      <td>bullish</td>\n      <td>{SPCE, VG, LOVE, NYC, VG Acquisition Corp., Vi...</td>\n    </tr>\n    <tr>\n      <th>2</th>\n      <td>5f766db0c41ae878a7180212</td>\n      <td>2020-10-01 23:18:55.840</td>\n      <td>Updated S P500 Technical Analysis Bears Are St...</td>\n      <td>Last week I shared my S P500 forecast and brok...</td>\n      <td>Technicals</td>\n      <td>bullish</td>\n      <td>{MMS, IMO, CAN}</td>\n    </tr>\n    <tr>\n      <th>3</th>\n      <td>5f766db0c41ae878a7180215</td>\n      <td>2020-10-01 23:18:55.840</td>\n      <td>Procter Gamble to the fucking MOON DD inside</td>\n      <td>Procter Gamble 10/27/2020 Q1 Earnings Play NY...</td>\n      <td>DD</td>\n      <td>bullish</td>\n      <td>{Unilever PLC, TSLA, NEW, PG, CDC}</td>\n    </tr>\n    <tr>\n      <th>4</th>\n      <td>5f766db0c41ae878a7180217</td>\n      <td>2020-10-01 23:18:55.840</td>\n      <td>WHY IS NO ONE TALKING ABOUT BABA TODAY</td>\n      <td>This sub introduced me to BABA. I am BABA gang...</td>\n      <td>Discussion</td>\n      <td>bullish</td>\n      <td>{BABA}</td>\n    </tr>\n    <tr>\n      <th>...</th>\n      <td>...</td>\n      <td>...</td>\n      <td>...</td>\n      <td>...</td>\n      <td>...</td>\n      <td>...</td>\n      <td>...</td>\n    </tr>\n    <tr>\n      <th>79</th>\n      <td>5f7787fc1d41cb76fd11304d</td>\n      <td>2020-10-02 20:05:16.466</td>\n      <td>Snowflake lockup period</td>\n      <td>Hi Snowflake has gone up a lot since IPO. I as...</td>\n      <td>Discussion</td>\n      <td>bearish</td>\n      <td>{}</td>\n    </tr>\n    <tr>\n      <th>80</th>\n      <td>5f7787fc1d41cb76fd11304e</td>\n      <td>2020-10-02 20:05:16.466</td>\n      <td>CHWY go go go</td>\n      <td>CHWY LISTEN UP RETARDS chwy was moon for the p...</td>\n      <td>YOLO</td>\n      <td>bullish</td>\n      <td>{CHWY}</td>\n    </tr>\n    <tr>\n      <th>81</th>\n      <td>5f7b395a6d0682ca2381a86f</td>\n      <td>2020-10-05 15:18:50.943</td>\n      <td>AMD going to $100 This Month</td>\n      <td>I m looking at AMD Technicals https //imgur.co...</td>\n      <td>Technicals</td>\n      <td>bullish</td>\n      <td>{TTM Technologies, Inc., TTM, AMD}</td>\n    </tr>\n    <tr>\n      <th>82</th>\n      <td>5f7b395a6d0682ca2381a870</td>\n      <td>2020-10-05 15:18:50.943</td>\n      <td>Actual Second Wave</td>\n      <td>Back in early summer this year the US had a se...</td>\n      <td>DD</td>\n      <td>bearish</td>\n      <td>{SQQQ}</td>\n    </tr>\n    <tr>\n      <th>83</th>\n      <td>5f7b395a6d0682ca2381a876</td>\n      <td>2020-10-05 15:18:50.943</td>\n      <td>CVAC Overshorted to Oblivion</td>\n      <td>CVAC curevac 47.49$ has been agressively short...</td>\n      <td>Discussion</td>\n      <td>bullish</td>\n      <td>{CVAC}</td>\n    </tr>\n  </tbody>\n</table>\n<p>84 rows × 7 columns</p>\n</div>"
     },
     "metadata": {},
     "execution_count": 388
    }
   ],
   "source": [
    "df"
   ]
  },
  {
   "cell_type": "code",
   "execution_count": 373,
   "metadata": {
    "tags": []
   },
   "outputs": [
    {
     "output_type": "error",
     "ename": "InvalidDocument",
     "evalue": "cannot encode object: {'Tanger Factory Outlet Centers, Inc.', 'Boston Properties, Inc.', 'Simon Property Group, Inc.', 'TCO', 'SPG', 'Vornado Realty Trust', 'Kimco Realty Corporation', 'TCO^J', 'TCO^K', 'Urstadt Biddle Properties Inc.', 'SPG^J', 'NEW', 'CLI', 'Piedmont Office Realty Trust, Inc.', 'MAC'}, of type: <class 'set'>",
     "traceback": [
      "\u001b[0;31m---------------------------------------------------------------------------\u001b[0m",
      "\u001b[0;31mInvalidDocument\u001b[0m                           Traceback (most recent call last)",
      "\u001b[0;32m<ipython-input-373-017caceb8a84>\u001b[0m in \u001b[0;36m<module>\u001b[0;34m\u001b[0m\n\u001b[1;32m      4\u001b[0m     \u001b[0mnewVal\u001b[0m \u001b[0;34m=\u001b[0m \u001b[0mrow\u001b[0m\u001b[0;34m[\u001b[0m\u001b[0;34m'Stocks'\u001b[0m\u001b[0;34m]\u001b[0m\u001b[0;34m\u001b[0m\u001b[0;34m\u001b[0m\u001b[0m\n\u001b[1;32m      5\u001b[0m     \u001b[0mbulk\u001b[0m\u001b[0;34m.\u001b[0m\u001b[0mfind\u001b[0m\u001b[0;34m(\u001b[0m\u001b[0;34m{\u001b[0m\u001b[0;34m'_id'\u001b[0m\u001b[0;34m:\u001b[0m \u001b[0m_id\u001b[0m\u001b[0;34m}\u001b[0m\u001b[0;34m)\u001b[0m\u001b[0;34m.\u001b[0m\u001b[0mupdate_one\u001b[0m\u001b[0;34m(\u001b[0m\u001b[0;34m{\u001b[0m\u001b[0;34m'$set'\u001b[0m\u001b[0;34m:\u001b[0m\u001b[0;34m{\u001b[0m\u001b[0;34m'Stocks'\u001b[0m\u001b[0;34m:\u001b[0m\u001b[0mnewVal\u001b[0m\u001b[0;34m}\u001b[0m\u001b[0;34m}\u001b[0m\u001b[0;34m)\u001b[0m\u001b[0;34m\u001b[0m\u001b[0;34m\u001b[0m\u001b[0m\n\u001b[0;32m----> 6\u001b[0;31m \u001b[0mbulk\u001b[0m\u001b[0;34m.\u001b[0m\u001b[0mexecute\u001b[0m\u001b[0;34m(\u001b[0m\u001b[0;34m)\u001b[0m\u001b[0;34m\u001b[0m\u001b[0;34m\u001b[0m\u001b[0m\n\u001b[0m",
      "\u001b[0;32m~/anaconda3/envs/vsenv/lib/python3.8/site-packages/pymongo/bulk.py\u001b[0m in \u001b[0;36mexecute\u001b[0;34m(self, write_concern)\u001b[0m\n\u001b[1;32m    706\u001b[0m         \u001b[0;32mif\u001b[0m \u001b[0mwrite_concern\u001b[0m \u001b[0;32mis\u001b[0m \u001b[0;32mnot\u001b[0m \u001b[0;32mNone\u001b[0m\u001b[0;34m:\u001b[0m\u001b[0;34m\u001b[0m\u001b[0;34m\u001b[0m\u001b[0m\n\u001b[1;32m    707\u001b[0m             \u001b[0mwrite_concern\u001b[0m \u001b[0;34m=\u001b[0m \u001b[0mWriteConcern\u001b[0m\u001b[0;34m(\u001b[0m\u001b[0;34m**\u001b[0m\u001b[0mwrite_concern\u001b[0m\u001b[0;34m)\u001b[0m\u001b[0;34m\u001b[0m\u001b[0;34m\u001b[0m\u001b[0m\n\u001b[0;32m--> 708\u001b[0;31m         \u001b[0;32mreturn\u001b[0m \u001b[0mself\u001b[0m\u001b[0;34m.\u001b[0m\u001b[0m__bulk\u001b[0m\u001b[0;34m.\u001b[0m\u001b[0mexecute\u001b[0m\u001b[0;34m(\u001b[0m\u001b[0mwrite_concern\u001b[0m\u001b[0;34m,\u001b[0m \u001b[0msession\u001b[0m\u001b[0;34m=\u001b[0m\u001b[0;32mNone\u001b[0m\u001b[0;34m)\u001b[0m\u001b[0;34m\u001b[0m\u001b[0;34m\u001b[0m\u001b[0m\n\u001b[0m",
      "\u001b[0;32m~/anaconda3/envs/vsenv/lib/python3.8/site-packages/pymongo/bulk.py\u001b[0m in \u001b[0;36mexecute\u001b[0;34m(self, write_concern, session)\u001b[0m\n\u001b[1;32m    526\u001b[0m                 \u001b[0mself\u001b[0m\u001b[0;34m.\u001b[0m\u001b[0mexecute_no_results\u001b[0m\u001b[0;34m(\u001b[0m\u001b[0msock_info\u001b[0m\u001b[0;34m,\u001b[0m \u001b[0mgenerator\u001b[0m\u001b[0;34m)\u001b[0m\u001b[0;34m\u001b[0m\u001b[0;34m\u001b[0m\u001b[0m\n\u001b[1;32m    527\u001b[0m         \u001b[0;32melse\u001b[0m\u001b[0;34m:\u001b[0m\u001b[0;34m\u001b[0m\u001b[0;34m\u001b[0m\u001b[0m\n\u001b[0;32m--> 528\u001b[0;31m             \u001b[0;32mreturn\u001b[0m \u001b[0mself\u001b[0m\u001b[0;34m.\u001b[0m\u001b[0mexecute_command\u001b[0m\u001b[0;34m(\u001b[0m\u001b[0mgenerator\u001b[0m\u001b[0;34m,\u001b[0m \u001b[0mwrite_concern\u001b[0m\u001b[0;34m,\u001b[0m \u001b[0msession\u001b[0m\u001b[0;34m)\u001b[0m\u001b[0;34m\u001b[0m\u001b[0;34m\u001b[0m\u001b[0m\n\u001b[0m\u001b[1;32m    529\u001b[0m \u001b[0;34m\u001b[0m\u001b[0m\n\u001b[1;32m    530\u001b[0m \u001b[0;34m\u001b[0m\u001b[0m\n",
      "\u001b[0;32m~/anaconda3/envs/vsenv/lib/python3.8/site-packages/pymongo/bulk.py\u001b[0m in \u001b[0;36mexecute_command\u001b[0;34m(self, generator, write_concern, session)\u001b[0m\n\u001b[1;32m    357\u001b[0m         \u001b[0mclient\u001b[0m \u001b[0;34m=\u001b[0m \u001b[0mself\u001b[0m\u001b[0;34m.\u001b[0m\u001b[0mcollection\u001b[0m\u001b[0;34m.\u001b[0m\u001b[0mdatabase\u001b[0m\u001b[0;34m.\u001b[0m\u001b[0mclient\u001b[0m\u001b[0;34m\u001b[0m\u001b[0;34m\u001b[0m\u001b[0m\n\u001b[1;32m    358\u001b[0m         \u001b[0;32mwith\u001b[0m \u001b[0mclient\u001b[0m\u001b[0;34m.\u001b[0m\u001b[0m_tmp_session\u001b[0m\u001b[0;34m(\u001b[0m\u001b[0msession\u001b[0m\u001b[0;34m)\u001b[0m \u001b[0;32mas\u001b[0m \u001b[0ms\u001b[0m\u001b[0;34m:\u001b[0m\u001b[0;34m\u001b[0m\u001b[0;34m\u001b[0m\u001b[0m\n\u001b[0;32m--> 359\u001b[0;31m             client._retry_with_session(\n\u001b[0m\u001b[1;32m    360\u001b[0m                 self.is_retryable, retryable_bulk, s, self)\n\u001b[1;32m    361\u001b[0m \u001b[0;34m\u001b[0m\u001b[0m\n",
      "\u001b[0;32m~/anaconda3/envs/vsenv/lib/python3.8/site-packages/pymongo/mongo_client.py\u001b[0m in \u001b[0;36m_retry_with_session\u001b[0;34m(self, retryable, func, session, bulk)\u001b[0m\n\u001b[1;32m   1382\u001b[0m         retryable = (retryable and self.retry_writes\n\u001b[1;32m   1383\u001b[0m                      and session and not session.in_transaction)\n\u001b[0;32m-> 1384\u001b[0;31m         \u001b[0;32mreturn\u001b[0m \u001b[0mself\u001b[0m\u001b[0;34m.\u001b[0m\u001b[0m_retry_internal\u001b[0m\u001b[0;34m(\u001b[0m\u001b[0mretryable\u001b[0m\u001b[0;34m,\u001b[0m \u001b[0mfunc\u001b[0m\u001b[0;34m,\u001b[0m \u001b[0msession\u001b[0m\u001b[0;34m,\u001b[0m \u001b[0mbulk\u001b[0m\u001b[0;34m)\u001b[0m\u001b[0;34m\u001b[0m\u001b[0;34m\u001b[0m\u001b[0m\n\u001b[0m\u001b[1;32m   1385\u001b[0m \u001b[0;34m\u001b[0m\u001b[0m\n\u001b[1;32m   1386\u001b[0m     \u001b[0;32mdef\u001b[0m \u001b[0m_retry_internal\u001b[0m\u001b[0;34m(\u001b[0m\u001b[0mself\u001b[0m\u001b[0;34m,\u001b[0m \u001b[0mretryable\u001b[0m\u001b[0;34m,\u001b[0m \u001b[0mfunc\u001b[0m\u001b[0;34m,\u001b[0m \u001b[0msession\u001b[0m\u001b[0;34m,\u001b[0m \u001b[0mbulk\u001b[0m\u001b[0;34m)\u001b[0m\u001b[0;34m:\u001b[0m\u001b[0;34m\u001b[0m\u001b[0;34m\u001b[0m\u001b[0m\n",
      "\u001b[0;32m~/anaconda3/envs/vsenv/lib/python3.8/site-packages/pymongo/mongo_client.py\u001b[0m in \u001b[0;36m_retry_internal\u001b[0;34m(self, retryable, func, session, bulk)\u001b[0m\n\u001b[1;32m   1414\u001b[0m                             \u001b[0;32mraise\u001b[0m \u001b[0mlast_error\u001b[0m\u001b[0;34m\u001b[0m\u001b[0;34m\u001b[0m\u001b[0m\n\u001b[1;32m   1415\u001b[0m                         \u001b[0mretryable\u001b[0m \u001b[0;34m=\u001b[0m \u001b[0;32mFalse\u001b[0m\u001b[0;34m\u001b[0m\u001b[0;34m\u001b[0m\u001b[0m\n\u001b[0;32m-> 1416\u001b[0;31m                     \u001b[0;32mreturn\u001b[0m \u001b[0mfunc\u001b[0m\u001b[0;34m(\u001b[0m\u001b[0msession\u001b[0m\u001b[0;34m,\u001b[0m \u001b[0msock_info\u001b[0m\u001b[0;34m,\u001b[0m \u001b[0mretryable\u001b[0m\u001b[0;34m)\u001b[0m\u001b[0;34m\u001b[0m\u001b[0;34m\u001b[0m\u001b[0m\n\u001b[0m\u001b[1;32m   1417\u001b[0m             \u001b[0;32mexcept\u001b[0m \u001b[0mServerSelectionTimeoutError\u001b[0m\u001b[0;34m:\u001b[0m\u001b[0;34m\u001b[0m\u001b[0;34m\u001b[0m\u001b[0m\n\u001b[1;32m   1418\u001b[0m                 \u001b[0;32mif\u001b[0m \u001b[0mis_retrying\u001b[0m\u001b[0;34m(\u001b[0m\u001b[0;34m)\u001b[0m\u001b[0;34m:\u001b[0m\u001b[0;34m\u001b[0m\u001b[0;34m\u001b[0m\u001b[0m\n",
      "\u001b[0;32m~/anaconda3/envs/vsenv/lib/python3.8/site-packages/pymongo/bulk.py\u001b[0m in \u001b[0;36mretryable_bulk\u001b[0;34m(session, sock_info, retryable)\u001b[0m\n\u001b[1;32m    351\u001b[0m \u001b[0;34m\u001b[0m\u001b[0m\n\u001b[1;32m    352\u001b[0m         \u001b[0;32mdef\u001b[0m \u001b[0mretryable_bulk\u001b[0m\u001b[0;34m(\u001b[0m\u001b[0msession\u001b[0m\u001b[0;34m,\u001b[0m \u001b[0msock_info\u001b[0m\u001b[0;34m,\u001b[0m \u001b[0mretryable\u001b[0m\u001b[0;34m)\u001b[0m\u001b[0;34m:\u001b[0m\u001b[0;34m\u001b[0m\u001b[0;34m\u001b[0m\u001b[0m\n\u001b[0;32m--> 353\u001b[0;31m             self._execute_command(\n\u001b[0m\u001b[1;32m    354\u001b[0m                 \u001b[0mgenerator\u001b[0m\u001b[0;34m,\u001b[0m \u001b[0mwrite_concern\u001b[0m\u001b[0;34m,\u001b[0m \u001b[0msession\u001b[0m\u001b[0;34m,\u001b[0m \u001b[0msock_info\u001b[0m\u001b[0;34m,\u001b[0m \u001b[0mop_id\u001b[0m\u001b[0;34m,\u001b[0m\u001b[0;34m\u001b[0m\u001b[0;34m\u001b[0m\u001b[0m\n\u001b[1;32m    355\u001b[0m                 retryable, full_result)\n",
      "\u001b[0;32m~/anaconda3/envs/vsenv/lib/python3.8/site-packages/pymongo/bulk.py\u001b[0m in \u001b[0;36m_execute_command\u001b[0;34m(self, generator, write_concern, session, sock_info, op_id, retryable, full_result)\u001b[0m\n\u001b[1;32m    307\u001b[0m                 \u001b[0mops\u001b[0m \u001b[0;34m=\u001b[0m \u001b[0mislice\u001b[0m\u001b[0;34m(\u001b[0m\u001b[0mrun\u001b[0m\u001b[0;34m.\u001b[0m\u001b[0mops\u001b[0m\u001b[0;34m,\u001b[0m \u001b[0mrun\u001b[0m\u001b[0;34m.\u001b[0m\u001b[0midx_offset\u001b[0m\u001b[0;34m,\u001b[0m \u001b[0;32mNone\u001b[0m\u001b[0;34m)\u001b[0m\u001b[0;34m\u001b[0m\u001b[0;34m\u001b[0m\u001b[0m\n\u001b[1;32m    308\u001b[0m                 \u001b[0;31m# Run as many ops as possible in one command.\u001b[0m\u001b[0;34m\u001b[0m\u001b[0;34m\u001b[0m\u001b[0;34m\u001b[0m\u001b[0m\n\u001b[0;32m--> 309\u001b[0;31m                 \u001b[0mresult\u001b[0m\u001b[0;34m,\u001b[0m \u001b[0mto_send\u001b[0m \u001b[0;34m=\u001b[0m \u001b[0mbwc\u001b[0m\u001b[0;34m.\u001b[0m\u001b[0mexecute\u001b[0m\u001b[0;34m(\u001b[0m\u001b[0mops\u001b[0m\u001b[0;34m,\u001b[0m \u001b[0mclient\u001b[0m\u001b[0;34m)\u001b[0m\u001b[0;34m\u001b[0m\u001b[0;34m\u001b[0m\u001b[0m\n\u001b[0m\u001b[1;32m    310\u001b[0m \u001b[0;34m\u001b[0m\u001b[0m\n\u001b[1;32m    311\u001b[0m                 \u001b[0;31m# Retryable writeConcernErrors halt the execution of this run.\u001b[0m\u001b[0;34m\u001b[0m\u001b[0;34m\u001b[0m\u001b[0;34m\u001b[0m\u001b[0m\n",
      "\u001b[0;32m~/anaconda3/envs/vsenv/lib/python3.8/site-packages/pymongo/message.py\u001b[0m in \u001b[0;36mexecute\u001b[0;34m(self, docs, client)\u001b[0m\n\u001b[1;32m    904\u001b[0m \u001b[0;34m\u001b[0m\u001b[0m\n\u001b[1;32m    905\u001b[0m     \u001b[0;32mdef\u001b[0m \u001b[0mexecute\u001b[0m\u001b[0;34m(\u001b[0m\u001b[0mself\u001b[0m\u001b[0;34m,\u001b[0m \u001b[0mdocs\u001b[0m\u001b[0;34m,\u001b[0m \u001b[0mclient\u001b[0m\u001b[0;34m)\u001b[0m\u001b[0;34m:\u001b[0m\u001b[0;34m\u001b[0m\u001b[0;34m\u001b[0m\u001b[0m\n\u001b[0;32m--> 906\u001b[0;31m         \u001b[0mrequest_id\u001b[0m\u001b[0;34m,\u001b[0m \u001b[0mmsg\u001b[0m\u001b[0;34m,\u001b[0m \u001b[0mto_send\u001b[0m \u001b[0;34m=\u001b[0m \u001b[0mself\u001b[0m\u001b[0;34m.\u001b[0m\u001b[0m_batch_command\u001b[0m\u001b[0;34m(\u001b[0m\u001b[0mdocs\u001b[0m\u001b[0;34m)\u001b[0m\u001b[0;34m\u001b[0m\u001b[0;34m\u001b[0m\u001b[0m\n\u001b[0m\u001b[1;32m    907\u001b[0m         \u001b[0mresult\u001b[0m \u001b[0;34m=\u001b[0m \u001b[0mself\u001b[0m\u001b[0;34m.\u001b[0m\u001b[0mwrite_command\u001b[0m\u001b[0;34m(\u001b[0m\u001b[0mrequest_id\u001b[0m\u001b[0;34m,\u001b[0m \u001b[0mmsg\u001b[0m\u001b[0;34m,\u001b[0m \u001b[0mto_send\u001b[0m\u001b[0;34m)\u001b[0m\u001b[0;34m\u001b[0m\u001b[0;34m\u001b[0m\u001b[0m\n\u001b[1;32m    908\u001b[0m         \u001b[0mclient\u001b[0m\u001b[0;34m.\u001b[0m\u001b[0m_process_response\u001b[0m\u001b[0;34m(\u001b[0m\u001b[0mresult\u001b[0m\u001b[0;34m,\u001b[0m \u001b[0mself\u001b[0m\u001b[0;34m.\u001b[0m\u001b[0msession\u001b[0m\u001b[0;34m)\u001b[0m\u001b[0;34m\u001b[0m\u001b[0;34m\u001b[0m\u001b[0m\n",
      "\u001b[0;32m~/anaconda3/envs/vsenv/lib/python3.8/site-packages/pymongo/message.py\u001b[0m in \u001b[0;36m_batch_command\u001b[0;34m(self, docs)\u001b[0m\n\u001b[1;32m    896\u001b[0m     \u001b[0;32mdef\u001b[0m \u001b[0m_batch_command\u001b[0m\u001b[0;34m(\u001b[0m\u001b[0mself\u001b[0m\u001b[0;34m,\u001b[0m \u001b[0mdocs\u001b[0m\u001b[0;34m)\u001b[0m\u001b[0;34m:\u001b[0m\u001b[0;34m\u001b[0m\u001b[0;34m\u001b[0m\u001b[0m\n\u001b[1;32m    897\u001b[0m         \u001b[0mnamespace\u001b[0m \u001b[0;34m=\u001b[0m \u001b[0mself\u001b[0m\u001b[0;34m.\u001b[0m\u001b[0mdb_name\u001b[0m \u001b[0;34m+\u001b[0m \u001b[0;34m'.$cmd'\u001b[0m\u001b[0;34m\u001b[0m\u001b[0;34m\u001b[0m\u001b[0m\n\u001b[0;32m--> 898\u001b[0;31m         request_id, msg, to_send = _do_bulk_write_command(\n\u001b[0m\u001b[1;32m    899\u001b[0m             \u001b[0mnamespace\u001b[0m\u001b[0;34m,\u001b[0m \u001b[0mself\u001b[0m\u001b[0;34m.\u001b[0m\u001b[0mop_type\u001b[0m\u001b[0;34m,\u001b[0m \u001b[0mself\u001b[0m\u001b[0;34m.\u001b[0m\u001b[0mcommand\u001b[0m\u001b[0;34m,\u001b[0m \u001b[0mdocs\u001b[0m\u001b[0;34m,\u001b[0m \u001b[0mself\u001b[0m\u001b[0;34m.\u001b[0m\u001b[0mcheck_keys\u001b[0m\u001b[0;34m,\u001b[0m\u001b[0;34m\u001b[0m\u001b[0;34m\u001b[0m\u001b[0m\n\u001b[1;32m    900\u001b[0m             self.codec, self)\n",
      "\u001b[0;32m~/anaconda3/envs/vsenv/lib/python3.8/site-packages/pymongo/message.py\u001b[0m in \u001b[0;36m_do_bulk_write_command\u001b[0;34m(namespace, operation, command, docs, check_keys, opts, ctx)\u001b[0m\n\u001b[1;32m   1395\u001b[0m     \u001b[0;34m\"\"\"Bulk write commands entry point.\"\"\"\u001b[0m\u001b[0;34m\u001b[0m\u001b[0;34m\u001b[0m\u001b[0m\n\u001b[1;32m   1396\u001b[0m     \u001b[0;32mif\u001b[0m \u001b[0mctx\u001b[0m\u001b[0;34m.\u001b[0m\u001b[0msock_info\u001b[0m\u001b[0;34m.\u001b[0m\u001b[0mmax_wire_version\u001b[0m \u001b[0;34m>\u001b[0m \u001b[0;36m5\u001b[0m\u001b[0;34m:\u001b[0m\u001b[0;34m\u001b[0m\u001b[0;34m\u001b[0m\u001b[0m\n\u001b[0;32m-> 1397\u001b[0;31m         return _do_batched_op_msg(\n\u001b[0m\u001b[1;32m   1398\u001b[0m             namespace, operation, command, docs, check_keys, opts, ctx)\n\u001b[1;32m   1399\u001b[0m     return _do_batched_write_command(\n",
      "\u001b[0;32m~/anaconda3/envs/vsenv/lib/python3.8/site-packages/pymongo/message.py\u001b[0m in \u001b[0;36m_do_batched_op_msg\u001b[0;34m(namespace, operation, command, docs, check_keys, opts, ctx)\u001b[0m\n\u001b[1;32m   1320\u001b[0m         return _batched_op_msg_compressed(\n\u001b[1;32m   1321\u001b[0m             operation, command, docs, check_keys, ack, opts, ctx)\n\u001b[0;32m-> 1322\u001b[0;31m     return _batched_op_msg(\n\u001b[0m\u001b[1;32m   1323\u001b[0m         operation, command, docs, check_keys, ack, opts, ctx)\n\u001b[1;32m   1324\u001b[0m \u001b[0;34m\u001b[0m\u001b[0m\n",
      "\u001b[0;31mInvalidDocument\u001b[0m: cannot encode object: {'Tanger Factory Outlet Centers, Inc.', 'Boston Properties, Inc.', 'Simon Property Group, Inc.', 'TCO', 'SPG', 'Vornado Realty Trust', 'Kimco Realty Corporation', 'TCO^J', 'TCO^K', 'Urstadt Biddle Properties Inc.', 'SPG^J', 'NEW', 'CLI', 'Piedmont Office Realty Trust, Inc.', 'MAC'}, of type: <class 'set'>"
     ]
    }
   ],
   "source": [
    "bulk = threads.initialize_ordered_bulk_op()\n",
    "for _, row in df.iterrows():\n",
    "    _id = row['_id']\n",
    "    newVal = row['Stocks']\n",
    "    bulk.find({'_id': _id}).update_one({'$set':{'Stocks':newVal}})\n",
    "bulk.execute()"
   ]
  },
  {
   "cell_type": "code",
   "execution_count": null,
   "metadata": {},
   "outputs": [],
   "source": []
  }
 ]
}