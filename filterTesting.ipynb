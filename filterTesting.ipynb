{
 "metadata": {
  "language_info": {
   "codemirror_mode": {
    "name": "ipython",
    "version": 3
   },
   "file_extension": ".py",
   "mimetype": "text/x-python",
   "name": "python",
   "nbconvert_exporter": "python",
   "pygments_lexer": "ipython3",
   "version": "3.8.5-final"
  },
  "orig_nbformat": 2,
  "kernelspec": {
   "name": "Python 3.8.5 64-bit ('vsenv': conda)",
   "display_name": "Python 3.8.5 64-bit ('vsenv': conda)",
   "metadata": {
    "interpreter": {
     "hash": "1ee30a202add5215adcbb767012aec8477a9c484e522cef3494d0f72d70b8c03"
    }
   }
  }
 },
 "nbformat": 4,
 "nbformat_minor": 2,
 "cells": [
  {
   "cell_type": "code",
   "execution_count": 152,
   "metadata": {},
   "outputs": [],
   "source": [
    "import pymongo\n",
    "import pandas as pd\n",
    "import numpy as np\n",
    "import re\n",
    "import time\n",
    "import datetime\n",
    "import nltk\n",
    "from datetime import datetime, timedelta\n",
    "from sklearn.feature_extraction.text import TfidfVectorizer\n",
    "from sklearn.metrics.pairwise import cosine_similarity\n",
    "import bson"
   ]
  },
  {
   "cell_type": "code",
   "execution_count": 395,
   "metadata": {},
   "outputs": [],
   "source": [
    "client = pymongo.MongoClient('localhost', 27017)\n",
    "db = client.db\n",
    "threads = db.threads\n",
    "companies = db.companylist\n",
    "matches = db.matches\n",
    "chunks = db.chunks\n",
    "\n",
    "df = pd.DataFrame.from_records(threads.find({'Label' :{'$ne': 0}}))\n",
    "companydf = pd.DataFrame.from_records(companies.find())"
   ]
  },
  {
   "cell_type": "code",
   "execution_count": 348,
   "metadata": {},
   "outputs": [],
   "source": [
    "def getContinuousChunks(text):\n",
    "    chunked = nltk.ne_chunk(nltk.pos_tag(nltk.word_tokenize(text)))\n",
    "    continuousChunkdf = pd.DataFrame(columns = ['id', 'Named Entity', 'Label'])\n",
    "    currentChunk = []\n",
    "    currentLabel = []\n",
    "    for i in chunked:\n",
    "        if type(i) == nltk.tree.Tree:\n",
    "            currentChunk.append(\" \".join([token for token, pos in i.leaves()]))\n",
    "            currentLabel.append(i.label())\n",
    "        if currentChunk:\n",
    "            namedEntity = \" \".join(currentChunk)\n",
    "            label = \" \".join(currentLabel)\n",
    "            if namedEntity not in continuousChunkdf['Named Entity']:\n",
    "                d = {'id': 0, 'Named Entity': namedEntity, 'Label': label}\n",
    "                continuousChunkdf = continuousChunkdf.append(d, ignore_index = True)\n",
    "                currentChunk = []\n",
    "                currentLabel = []\n",
    "        else:\n",
    "            continue\n",
    "    return continuousChunkdf\n",
    "\n",
    "def mapResults(result, leftNames, rightNames, threadID):\n",
    "    matchdf = pd.DataFrame(0, index = np.arange(len(result.nonzero()[0])), columns = ['id','Left', 'Right', 'Similarity'])\n",
    "    for i in range(len(result.nonzero()[0])):\n",
    "        matchdf.loc[i, 'Left'] = leftNames[result.nonzero()[0][i]]\n",
    "        matchdf.loc[i, 'Right'] = rightNames[result.nonzero()[1][i]]\n",
    "        matchdf.loc[i, 'Similarity'] = result[result.nonzero()[0][i]][result.nonzero()[1][i]]\n",
    "    matchdf['id'] = threadID\n",
    "    return matchdf.drop_duplicates(subset = 'Right')"
   ]
  },
  {
   "cell_type": "code",
   "execution_count": 390,
   "metadata": {},
   "outputs": [],
   "source": [
    "companyNames = companydf['Name'].unique()\n",
    "companySymbols = companydf['Symbol'].unique()\n",
    "nameVectorizer = TfidfVectorizer(min_df = 1)\n",
    "symbolVectorizer = TfidfVectorizer(min_df = 1)\n",
    "companyMatrix = nameVectorizer.fit_transform(companyNames)\n",
    "symbolMatrix = symbolVectorizer.fit_transform(companySymbols)\n",
    "matchdf = pd.DataFrame(columns = ['id', 'Left', 'Right', 'Similarity'])\n",
    "nerdf = pd.DataFrame(columns = ['id', 'Named Entity', 'Label'])\n",
    "\n",
    "for i in range(len(df['Body'])):\n",
    "    sent = df['Title'][i] + '. ' + df['Body'][i]\n",
    "    threadID = df['_id'][i]\n",
    "    chunkdf = getContinuousChunks(sent)\n",
    "    chunkdf['id'] = threadID\n",
    "    nerdf = nerdf.append(chunkdf)\n",
    "\n",
    "    if len(chunkdf.loc[chunkdf['Label'] == 'ORGANIZATION']) > 0:\n",
    "        nerNameMatrix = nameVectorizer.transform(chunkdf.loc[chunkdf['Label'] == 'ORGANIZATION','Named Entity'])\n",
    "        nerSymbolMatrix = symbolVectorizer.transform(chunkdf.loc[chunkdf['Label'] == 'ORGANIZATION','Named Entity'])\n",
    "        nameResult = cosine_similarity(nerNameMatrix, companyMatrix)\n",
    "        nameResult[nameResult < 0.8] = 0\n",
    "        symbolResult = cosine_similarity(nerSymbolMatrix, symbolMatrix)\n",
    "        symbolResult[symbolResult < 1] = 0\n",
    "        namedf = mapResults(nameResult, chunkdf['Named Entity'], companyNames, threadID)\n",
    "        symboldf = mapResults(symbolResult, chunkdf['Named Entity'], companySymbols, threadID)\n",
    "        matchdf = matchdf.append(namedf)\n",
    "        matchdf = matchdf.append(symboldf)\n",
    "    stocklist = {key: None for key in set(namedf['Right'].append(symboldf['Right']))}\n",
    "    df.loc[df['_id'] == threadID, 'Stocks'] = [stocklist]\n"
   ]
  },
  {
   "cell_type": "code",
   "execution_count": 391,
   "metadata": {},
   "outputs": [
    {
     "output_type": "execute_result",
     "data": {
      "text/plain": [
       "                          id                  Left  \\\n",
       "0   5f766db0c41ae878a718020e  Vornado Realty Trust   \n",
       "0   5f766db0c41ae878a718020e  Vornado Realty Trust   \n",
       "1   5f766db0c41ae878a718020e  Vornado Realty Trust   \n",
       "0   5f766db0c41ae878a7180210  SPCE Virgin Galactic   \n",
       "1   5f766db0c41ae878a7180210                  SPCE   \n",
       "..                       ...                   ...   \n",
       "0   5f7b395a6d0682ca2381a86f           TTM Squeeze   \n",
       "0   5f7b395a6d0682ca2381a86f        AMD Technicals   \n",
       "1   5f7b395a6d0682ca2381a86f           TTM Squeeze   \n",
       "0   5f7b395a6d0682ca2381a870          France Spain   \n",
       "0   5f7b395a6d0682ca2381a876                  CVAC   \n",
       "\n",
       "                             Right  Similarity  \n",
       "0         Kimco Realty Corporation    0.961022  \n",
       "0                              SPG    1.000000  \n",
       "1                            SPG^J    1.000000  \n",
       "0   Virgin Galactic Holdings, Inc.    0.948405  \n",
       "1             VG Acquisition Corp.    0.826580  \n",
       "..                             ...         ...  \n",
       "0           TTM Technologies, Inc.    0.863814  \n",
       "0                              AMD    1.000000  \n",
       "1                              TTM    1.000000  \n",
       "0                             SQQQ    1.000000  \n",
       "0                             CVAC    1.000000  \n",
       "\n",
       "[177 rows x 4 columns]"
      ],
      "text/html": "<div>\n<style scoped>\n    .dataframe tbody tr th:only-of-type {\n        vertical-align: middle;\n    }\n\n    .dataframe tbody tr th {\n        vertical-align: top;\n    }\n\n    .dataframe thead th {\n        text-align: right;\n    }\n</style>\n<table border=\"1\" class=\"dataframe\">\n  <thead>\n    <tr style=\"text-align: right;\">\n      <th></th>\n      <th>id</th>\n      <th>Left</th>\n      <th>Right</th>\n      <th>Similarity</th>\n    </tr>\n  </thead>\n  <tbody>\n    <tr>\n      <th>0</th>\n      <td>5f766db0c41ae878a718020e</td>\n      <td>Vornado Realty Trust</td>\n      <td>Kimco Realty Corporation</td>\n      <td>0.961022</td>\n    </tr>\n    <tr>\n      <th>0</th>\n      <td>5f766db0c41ae878a718020e</td>\n      <td>Vornado Realty Trust</td>\n      <td>SPG</td>\n      <td>1.000000</td>\n    </tr>\n    <tr>\n      <th>1</th>\n      <td>5f766db0c41ae878a718020e</td>\n      <td>Vornado Realty Trust</td>\n      <td>SPG^J</td>\n      <td>1.000000</td>\n    </tr>\n    <tr>\n      <th>0</th>\n      <td>5f766db0c41ae878a7180210</td>\n      <td>SPCE Virgin Galactic</td>\n      <td>Virgin Galactic Holdings, Inc.</td>\n      <td>0.948405</td>\n    </tr>\n    <tr>\n      <th>1</th>\n      <td>5f766db0c41ae878a7180210</td>\n      <td>SPCE</td>\n      <td>VG Acquisition Corp.</td>\n      <td>0.826580</td>\n    </tr>\n    <tr>\n      <th>...</th>\n      <td>...</td>\n      <td>...</td>\n      <td>...</td>\n      <td>...</td>\n    </tr>\n    <tr>\n      <th>0</th>\n      <td>5f7b395a6d0682ca2381a86f</td>\n      <td>TTM Squeeze</td>\n      <td>TTM Technologies, Inc.</td>\n      <td>0.863814</td>\n    </tr>\n    <tr>\n      <th>0</th>\n      <td>5f7b395a6d0682ca2381a86f</td>\n      <td>AMD Technicals</td>\n      <td>AMD</td>\n      <td>1.000000</td>\n    </tr>\n    <tr>\n      <th>1</th>\n      <td>5f7b395a6d0682ca2381a86f</td>\n      <td>TTM Squeeze</td>\n      <td>TTM</td>\n      <td>1.000000</td>\n    </tr>\n    <tr>\n      <th>0</th>\n      <td>5f7b395a6d0682ca2381a870</td>\n      <td>France Spain</td>\n      <td>SQQQ</td>\n      <td>1.000000</td>\n    </tr>\n    <tr>\n      <th>0</th>\n      <td>5f7b395a6d0682ca2381a876</td>\n      <td>CVAC</td>\n      <td>CVAC</td>\n      <td>1.000000</td>\n    </tr>\n  </tbody>\n</table>\n<p>177 rows × 4 columns</p>\n</div>"
     },
     "metadata": {},
     "execution_count": 391
    }
   ],
   "source": [
    "matchdf"
   ]
  },
  {
   "cell_type": "code",
   "execution_count": 392,
   "metadata": {},
   "outputs": [
    {
     "output_type": "execute_result",
     "data": {
      "text/plain": [
       "                          id          Named Entity         Label\n",
       "0   5f766db0c41ae878a718020e              New York           GPE\n",
       "1   5f766db0c41ae878a718020e  Vornado Realty Trust        PERSON\n",
       "2   5f766db0c41ae878a718020e       Cali Realty CLI        PERSON\n",
       "3   5f766db0c41ae878a718020e             AvalonBay  ORGANIZATION\n",
       "4   5f766db0c41ae878a718020e     Boston Properties        PERSON\n",
       "..                       ...                   ...           ...\n",
       "0   5f7b395a6d0682ca2381a876                  CVAC  ORGANIZATION\n",
       "1   5f7b395a6d0682ca2381a876              Oblivion           GPE\n",
       "2   5f7b395a6d0682ca2381a876                  CVAC  ORGANIZATION\n",
       "3   5f7b395a6d0682ca2381a876               MINIMUM  ORGANIZATION\n",
       "4   5f7b395a6d0682ca2381a876       DISCLOSURE Long  ORGANIZATION\n",
       "\n",
       "[897 rows x 3 columns]"
      ],
      "text/html": "<div>\n<style scoped>\n    .dataframe tbody tr th:only-of-type {\n        vertical-align: middle;\n    }\n\n    .dataframe tbody tr th {\n        vertical-align: top;\n    }\n\n    .dataframe thead th {\n        text-align: right;\n    }\n</style>\n<table border=\"1\" class=\"dataframe\">\n  <thead>\n    <tr style=\"text-align: right;\">\n      <th></th>\n      <th>id</th>\n      <th>Named Entity</th>\n      <th>Label</th>\n    </tr>\n  </thead>\n  <tbody>\n    <tr>\n      <th>0</th>\n      <td>5f766db0c41ae878a718020e</td>\n      <td>New York</td>\n      <td>GPE</td>\n    </tr>\n    <tr>\n      <th>1</th>\n      <td>5f766db0c41ae878a718020e</td>\n      <td>Vornado Realty Trust</td>\n      <td>PERSON</td>\n    </tr>\n    <tr>\n      <th>2</th>\n      <td>5f766db0c41ae878a718020e</td>\n      <td>Cali Realty CLI</td>\n      <td>PERSON</td>\n    </tr>\n    <tr>\n      <th>3</th>\n      <td>5f766db0c41ae878a718020e</td>\n      <td>AvalonBay</td>\n      <td>ORGANIZATION</td>\n    </tr>\n    <tr>\n      <th>4</th>\n      <td>5f766db0c41ae878a718020e</td>\n      <td>Boston Properties</td>\n      <td>PERSON</td>\n    </tr>\n    <tr>\n      <th>...</th>\n      <td>...</td>\n      <td>...</td>\n      <td>...</td>\n    </tr>\n    <tr>\n      <th>0</th>\n      <td>5f7b395a6d0682ca2381a876</td>\n      <td>CVAC</td>\n      <td>ORGANIZATION</td>\n    </tr>\n    <tr>\n      <th>1</th>\n      <td>5f7b395a6d0682ca2381a876</td>\n      <td>Oblivion</td>\n      <td>GPE</td>\n    </tr>\n    <tr>\n      <th>2</th>\n      <td>5f7b395a6d0682ca2381a876</td>\n      <td>CVAC</td>\n      <td>ORGANIZATION</td>\n    </tr>\n    <tr>\n      <th>3</th>\n      <td>5f7b395a6d0682ca2381a876</td>\n      <td>MINIMUM</td>\n      <td>ORGANIZATION</td>\n    </tr>\n    <tr>\n      <th>4</th>\n      <td>5f7b395a6d0682ca2381a876</td>\n      <td>DISCLOSURE Long</td>\n      <td>ORGANIZATION</td>\n    </tr>\n  </tbody>\n</table>\n<p>897 rows × 3 columns</p>\n</div>"
     },
     "metadata": {},
     "execution_count": 392
    }
   ],
   "source": [
    "nerdf"
   ]
  },
  {
   "cell_type": "code",
   "execution_count": 393,
   "metadata": {},
   "outputs": [
    {
     "output_type": "execute_result",
     "data": {
      "text/plain": [
       "                         _id           Inserted Date  \\\n",
       "0   5f766db0c41ae878a718020e 2020-10-01 23:18:55.840   \n",
       "1   5f766db0c41ae878a7180210 2020-10-01 23:18:55.840   \n",
       "2   5f766db0c41ae878a7180212 2020-10-01 23:18:55.840   \n",
       "3   5f766db0c41ae878a7180215 2020-10-01 23:18:55.840   \n",
       "4   5f766db0c41ae878a7180217 2020-10-01 23:18:55.840   \n",
       "..                       ...                     ...   \n",
       "79  5f7787fc1d41cb76fd11304d 2020-10-02 20:05:16.466   \n",
       "80  5f7787fc1d41cb76fd11304e 2020-10-02 20:05:16.466   \n",
       "81  5f7b395a6d0682ca2381a86f 2020-10-05 15:18:50.943   \n",
       "82  5f7b395a6d0682ca2381a870 2020-10-05 15:18:50.943   \n",
       "83  5f7b395a6d0682ca2381a876 2020-10-05 15:18:50.943   \n",
       "\n",
       "                                                Title  \\\n",
       "0         List of companies that are fucked next year   \n",
       "1   VIRGIN GALACTIC ROCKET SHIPS ARE COOL PT $180 ...   \n",
       "2   Updated S P500 Technical Analysis Bears Are St...   \n",
       "3       Procter Gamble to the fucking MOON DD inside    \n",
       "4             WHY IS NO ONE TALKING ABOUT BABA TODAY    \n",
       "..                                                ...   \n",
       "79                            Snowflake lockup period   \n",
       "80                                      CHWY go go go   \n",
       "81                       AMD going to $100 This Month   \n",
       "82                                 Actual Second Wave   \n",
       "83                       CVAC Overshorted to Oblivion   \n",
       "\n",
       "                                                 Body         Tag    Label  \\\n",
       "0   For those who aren t aware new york is going i...          DD  bearish   \n",
       "1    VIRGIN GALACTIC ROCKET SHIPS ARE COOL PT $180...          DD  bullish   \n",
       "2   Last week I shared my S P500 forecast and brok...  Technicals  bullish   \n",
       "3    Procter Gamble 10/27/2020 Q1 Earnings Play NY...          DD  bullish   \n",
       "4   This sub introduced me to BABA. I am BABA gang...  Discussion  bullish   \n",
       "..                                                ...         ...      ...   \n",
       "79  Hi Snowflake has gone up a lot since IPO. I as...  Discussion  bearish   \n",
       "80  CHWY LISTEN UP RETARDS chwy was moon for the p...        YOLO  bullish   \n",
       "81  I m looking at AMD Technicals https //imgur.co...  Technicals  bullish   \n",
       "82  Back in early summer this year the US had a se...          DD  bearish   \n",
       "83  CVAC curevac 47.49$ has been agressively short...  Discussion  bullish   \n",
       "\n",
       "                                               Stocks  \n",
       "0   {'Kimco Realty Corporation': None, 'SPG^J': No...  \n",
       "1   {'SPCE': None, 'VG': None, 'LOVE': None, 'NYC'...  \n",
       "2             {'MMS': None, 'IMO': None, 'CAN': None}  \n",
       "3   {'Unilever PLC': None, 'TSLA': None, 'NEW': No...  \n",
       "4                                      {'BABA': None}  \n",
       "..                                                ...  \n",
       "79                                                 {}  \n",
       "80                                     {'CHWY': None}  \n",
       "81  {'TTM Technologies, Inc.': None, 'TTM': None, ...  \n",
       "82                                     {'SQQQ': None}  \n",
       "83                                     {'CVAC': None}  \n",
       "\n",
       "[84 rows x 7 columns]"
      ],
      "text/html": "<div>\n<style scoped>\n    .dataframe tbody tr th:only-of-type {\n        vertical-align: middle;\n    }\n\n    .dataframe tbody tr th {\n        vertical-align: top;\n    }\n\n    .dataframe thead th {\n        text-align: right;\n    }\n</style>\n<table border=\"1\" class=\"dataframe\">\n  <thead>\n    <tr style=\"text-align: right;\">\n      <th></th>\n      <th>_id</th>\n      <th>Inserted Date</th>\n      <th>Title</th>\n      <th>Body</th>\n      <th>Tag</th>\n      <th>Label</th>\n      <th>Stocks</th>\n    </tr>\n  </thead>\n  <tbody>\n    <tr>\n      <th>0</th>\n      <td>5f766db0c41ae878a718020e</td>\n      <td>2020-10-01 23:18:55.840</td>\n      <td>List of companies that are fucked next year</td>\n      <td>For those who aren t aware new york is going i...</td>\n      <td>DD</td>\n      <td>bearish</td>\n      <td>{'Kimco Realty Corporation': None, 'SPG^J': No...</td>\n    </tr>\n    <tr>\n      <th>1</th>\n      <td>5f766db0c41ae878a7180210</td>\n      <td>2020-10-01 23:18:55.840</td>\n      <td>VIRGIN GALACTIC ROCKET SHIPS ARE COOL PT $180 ...</td>\n      <td>VIRGIN GALACTIC ROCKET SHIPS ARE COOL PT $180...</td>\n      <td>DD</td>\n      <td>bullish</td>\n      <td>{'SPCE': None, 'VG': None, 'LOVE': None, 'NYC'...</td>\n    </tr>\n    <tr>\n      <th>2</th>\n      <td>5f766db0c41ae878a7180212</td>\n      <td>2020-10-01 23:18:55.840</td>\n      <td>Updated S P500 Technical Analysis Bears Are St...</td>\n      <td>Last week I shared my S P500 forecast and brok...</td>\n      <td>Technicals</td>\n      <td>bullish</td>\n      <td>{'MMS': None, 'IMO': None, 'CAN': None}</td>\n    </tr>\n    <tr>\n      <th>3</th>\n      <td>5f766db0c41ae878a7180215</td>\n      <td>2020-10-01 23:18:55.840</td>\n      <td>Procter Gamble to the fucking MOON DD inside</td>\n      <td>Procter Gamble 10/27/2020 Q1 Earnings Play NY...</td>\n      <td>DD</td>\n      <td>bullish</td>\n      <td>{'Unilever PLC': None, 'TSLA': None, 'NEW': No...</td>\n    </tr>\n    <tr>\n      <th>4</th>\n      <td>5f766db0c41ae878a7180217</td>\n      <td>2020-10-01 23:18:55.840</td>\n      <td>WHY IS NO ONE TALKING ABOUT BABA TODAY</td>\n      <td>This sub introduced me to BABA. I am BABA gang...</td>\n      <td>Discussion</td>\n      <td>bullish</td>\n      <td>{'BABA': None}</td>\n    </tr>\n    <tr>\n      <th>...</th>\n      <td>...</td>\n      <td>...</td>\n      <td>...</td>\n      <td>...</td>\n      <td>...</td>\n      <td>...</td>\n      <td>...</td>\n    </tr>\n    <tr>\n      <th>79</th>\n      <td>5f7787fc1d41cb76fd11304d</td>\n      <td>2020-10-02 20:05:16.466</td>\n      <td>Snowflake lockup period</td>\n      <td>Hi Snowflake has gone up a lot since IPO. I as...</td>\n      <td>Discussion</td>\n      <td>bearish</td>\n      <td>{}</td>\n    </tr>\n    <tr>\n      <th>80</th>\n      <td>5f7787fc1d41cb76fd11304e</td>\n      <td>2020-10-02 20:05:16.466</td>\n      <td>CHWY go go go</td>\n      <td>CHWY LISTEN UP RETARDS chwy was moon for the p...</td>\n      <td>YOLO</td>\n      <td>bullish</td>\n      <td>{'CHWY': None}</td>\n    </tr>\n    <tr>\n      <th>81</th>\n      <td>5f7b395a6d0682ca2381a86f</td>\n      <td>2020-10-05 15:18:50.943</td>\n      <td>AMD going to $100 This Month</td>\n      <td>I m looking at AMD Technicals https //imgur.co...</td>\n      <td>Technicals</td>\n      <td>bullish</td>\n      <td>{'TTM Technologies, Inc.': None, 'TTM': None, ...</td>\n    </tr>\n    <tr>\n      <th>82</th>\n      <td>5f7b395a6d0682ca2381a870</td>\n      <td>2020-10-05 15:18:50.943</td>\n      <td>Actual Second Wave</td>\n      <td>Back in early summer this year the US had a se...</td>\n      <td>DD</td>\n      <td>bearish</td>\n      <td>{'SQQQ': None}</td>\n    </tr>\n    <tr>\n      <th>83</th>\n      <td>5f7b395a6d0682ca2381a876</td>\n      <td>2020-10-05 15:18:50.943</td>\n      <td>CVAC Overshorted to Oblivion</td>\n      <td>CVAC curevac 47.49$ has been agressively short...</td>\n      <td>Discussion</td>\n      <td>bullish</td>\n      <td>{'CVAC': None}</td>\n    </tr>\n  </tbody>\n</table>\n<p>84 rows × 7 columns</p>\n</div>"
     },
     "metadata": {},
     "execution_count": 393
    }
   ],
   "source": [
    "df"
   ]
  },
  {
   "cell_type": "code",
   "execution_count": 394,
   "metadata": {
    "tags": []
   },
   "outputs": [
    {
     "output_type": "execute_result",
     "data": {
      "text/plain": [
       "{'writeErrors': [],\n",
       " 'writeConcernErrors': [],\n",
       " 'nInserted': 0,\n",
       " 'nUpserted': 0,\n",
       " 'nMatched': 84,\n",
       " 'nModified': 84,\n",
       " 'nRemoved': 0,\n",
       " 'upserted': []}"
      ]
     },
     "metadata": {},
     "execution_count": 394
    }
   ],
   "source": [
    "bulk = threads.initialize_ordered_bulk_op()\n",
    "for _, row in df.iterrows():\n",
    "    _id = row['_id']\n",
    "    newVal = row['Stocks']\n",
    "    bulk.find({'_id': _id}).update_one({'$set':{'Stocks':newVal}})\n",
    "bulk.execute()"
   ]
  },
  {
   "cell_type": "code",
   "execution_count": null,
   "metadata": {},
   "outputs": [],
   "source": [
    "for _, row in matchdf.iterrows():\n",
    "    _id = row['id']\n",
    "    newVal = {'Left': row['Left'], 'Right': row['Right'], 'Similarity': row['Similarity']}\n",
    "    bulk.find({'_id': _id}).update_one({'$set': newVal})\n",
    "bulk.execute()"
   ]
  },
  {
   "cell_type": "code",
   "execution_count": 399,
   "metadata": {},
   "outputs": [
    {
     "output_type": "execute_result",
     "data": {
      "text/plain": [
       "                          id                  Left  \\\n",
       "0   5f766db0c41ae878a718020e  Vornado Realty Trust   \n",
       "0   5f766db0c41ae878a718020e  Vornado Realty Trust   \n",
       "1   5f766db0c41ae878a718020e  Vornado Realty Trust   \n",
       "0   5f766db0c41ae878a7180210  SPCE Virgin Galactic   \n",
       "1   5f766db0c41ae878a7180210                  SPCE   \n",
       "..                       ...                   ...   \n",
       "0   5f7b395a6d0682ca2381a86f           TTM Squeeze   \n",
       "0   5f7b395a6d0682ca2381a86f        AMD Technicals   \n",
       "1   5f7b395a6d0682ca2381a86f           TTM Squeeze   \n",
       "0   5f7b395a6d0682ca2381a870          France Spain   \n",
       "0   5f7b395a6d0682ca2381a876                  CVAC   \n",
       "\n",
       "                             Right  Similarity  \n",
       "0         Kimco Realty Corporation    0.961022  \n",
       "0                              SPG    1.000000  \n",
       "1                            SPG^J    1.000000  \n",
       "0   Virgin Galactic Holdings, Inc.    0.948405  \n",
       "1             VG Acquisition Corp.    0.826580  \n",
       "..                             ...         ...  \n",
       "0           TTM Technologies, Inc.    0.863814  \n",
       "0                              AMD    1.000000  \n",
       "1                              TTM    1.000000  \n",
       "0                             SQQQ    1.000000  \n",
       "0                             CVAC    1.000000  \n",
       "\n",
       "[177 rows x 4 columns]"
      ],
      "text/html": "<div>\n<style scoped>\n    .dataframe tbody tr th:only-of-type {\n        vertical-align: middle;\n    }\n\n    .dataframe tbody tr th {\n        vertical-align: top;\n    }\n\n    .dataframe thead th {\n        text-align: right;\n    }\n</style>\n<table border=\"1\" class=\"dataframe\">\n  <thead>\n    <tr style=\"text-align: right;\">\n      <th></th>\n      <th>id</th>\n      <th>Left</th>\n      <th>Right</th>\n      <th>Similarity</th>\n    </tr>\n  </thead>\n  <tbody>\n    <tr>\n      <th>0</th>\n      <td>5f766db0c41ae878a718020e</td>\n      <td>Vornado Realty Trust</td>\n      <td>Kimco Realty Corporation</td>\n      <td>0.961022</td>\n    </tr>\n    <tr>\n      <th>0</th>\n      <td>5f766db0c41ae878a718020e</td>\n      <td>Vornado Realty Trust</td>\n      <td>SPG</td>\n      <td>1.000000</td>\n    </tr>\n    <tr>\n      <th>1</th>\n      <td>5f766db0c41ae878a718020e</td>\n      <td>Vornado Realty Trust</td>\n      <td>SPG^J</td>\n      <td>1.000000</td>\n    </tr>\n    <tr>\n      <th>0</th>\n      <td>5f766db0c41ae878a7180210</td>\n      <td>SPCE Virgin Galactic</td>\n      <td>Virgin Galactic Holdings, Inc.</td>\n      <td>0.948405</td>\n    </tr>\n    <tr>\n      <th>1</th>\n      <td>5f766db0c41ae878a7180210</td>\n      <td>SPCE</td>\n      <td>VG Acquisition Corp.</td>\n      <td>0.826580</td>\n    </tr>\n    <tr>\n      <th>...</th>\n      <td>...</td>\n      <td>...</td>\n      <td>...</td>\n      <td>...</td>\n    </tr>\n    <tr>\n      <th>0</th>\n      <td>5f7b395a6d0682ca2381a86f</td>\n      <td>TTM Squeeze</td>\n      <td>TTM Technologies, Inc.</td>\n      <td>0.863814</td>\n    </tr>\n    <tr>\n      <th>0</th>\n      <td>5f7b395a6d0682ca2381a86f</td>\n      <td>AMD Technicals</td>\n      <td>AMD</td>\n      <td>1.000000</td>\n    </tr>\n    <tr>\n      <th>1</th>\n      <td>5f7b395a6d0682ca2381a86f</td>\n      <td>TTM Squeeze</td>\n      <td>TTM</td>\n      <td>1.000000</td>\n    </tr>\n    <tr>\n      <th>0</th>\n      <td>5f7b395a6d0682ca2381a870</td>\n      <td>France Spain</td>\n      <td>SQQQ</td>\n      <td>1.000000</td>\n    </tr>\n    <tr>\n      <th>0</th>\n      <td>5f7b395a6d0682ca2381a876</td>\n      <td>CVAC</td>\n      <td>CVAC</td>\n      <td>1.000000</td>\n    </tr>\n  </tbody>\n</table>\n<p>177 rows × 4 columns</p>\n</div>"
     },
     "metadata": {},
     "execution_count": 399
    }
   ],
   "source": [
    "for _, row in nerdf.iterrows():\n",
    "    _id = row['id']\n",
    "    newVal = {'Named Entity': row['Named Entity'], 'Label': row['Label']}\n",
    "    bulk.find({'_id': _id}).update_one({'$set': newVal})\n",
    "bulk.execute()"
   ]
  },
  {
   "cell_type": "code",
   "execution_count": null,
   "metadata": {},
   "outputs": [],
   "source": []
  }
 ]
}