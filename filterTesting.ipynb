{
 "metadata": {
  "language_info": {
   "codemirror_mode": {
    "name": "ipython",
    "version": 3
   },
   "file_extension": ".py",
   "mimetype": "text/x-python",
   "name": "python",
   "nbconvert_exporter": "python",
   "pygments_lexer": "ipython3",
   "version": "3.8.5-final"
  },
  "orig_nbformat": 2,
  "kernelspec": {
   "name": "Python 3.8.5 64-bit ('vsenv': conda)",
   "display_name": "Python 3.8.5 64-bit ('vsenv': conda)",
   "metadata": {
    "interpreter": {
     "hash": "1ee30a202add5215adcbb767012aec8477a9c484e522cef3494d0f72d70b8c03"
    }
   }
  }
 },
 "nbformat": 4,
 "nbformat_minor": 2,
 "cells": [
  {
   "cell_type": "code",
   "execution_count": 1,
   "metadata": {},
   "outputs": [],
   "source": [
    "import pymongo\n",
    "import pandas as pd\n",
    "import re\n",
    "import time\n",
    "import datetime\n",
    "from datetime import datetime, timedelta\n",
    "import nltk"
   ]
  },
  {
   "cell_type": "code",
   "execution_count": 37,
   "metadata": {},
   "outputs": [],
   "source": [
    "client = pymongo.MongoClient('localhost', 27017)\n",
    "db = client.db\n",
    "threads = db.threads\n",
    "companies = db.companylist"
   ]
  },
  {
   "cell_type": "code",
   "execution_count": 3,
   "metadata": {},
   "outputs": [],
   "source": [
    "df = pd.DataFrame.from_records(threads.find({'Label' :{'$ne': 0}}))"
   ]
  },
  {
   "cell_type": "code",
   "execution_count": 32,
   "metadata": {},
   "outputs": [],
   "source": [
    "my_sent = df['Body'][2]"
   ]
  },
  {
   "cell_type": "code",
   "execution_count": 33,
   "metadata": {},
   "outputs": [],
   "source": [
    "def get_continuous_chunks(text):\n",
    "    chunked = nltk.ne_chunk(nltk.pos_tag(nltk.word_tokenize(text)))\n",
    "    continuous_chunk = []\n",
    "    current_chunk = []\n",
    "    for i in chunked:\n",
    "        if type(i) == nltk.tree.Tree and i.label() == 'ORGANIZATION':\n",
    "            current_chunk.append(\" \".join([token for token, pos in i.leaves()]))\n",
    "        if current_chunk:\n",
    "            named_entity = \" \".join(current_chunk)\n",
    "            if named_entity not in continuous_chunk:\n",
    "                continuous_chunk.append(named_entity)\n",
    "                current_chunk = []\n",
    "        else:\n",
    "            continue\n",
    "    return continuous_chunk"
   ]
  },
  {
   "cell_type": "code",
   "execution_count": 34,
   "metadata": {},
   "outputs": [
    {
     "output_type": "execute_result",
     "data": {
      "text/plain": [
       "['Channel Support',\n",
       " 'SPY',\n",
       " 'Vaccine News Can',\n",
       " 'OPEX',\n",
       " 'SPY Regardless',\n",
       " 'MMs',\n",
       " 'IMO',\n",
       " 'TLDR']"
      ]
     },
     "metadata": {},
     "execution_count": 34
    }
   ],
   "source": [
    "get_continuous_chunks(my_sent)"
   ]
  },
  {
   "cell_type": "code",
   "execution_count": 35,
   "metadata": {},
   "outputs": [
    {
     "output_type": "execute_result",
     "data": {
      "text/plain": [
       "'Last week I shared my S P500 forecast and broke down the technicals that prompted my bullish outlook for this week. See my previous reddit post here https //www.reddit.com/r/wallstreetbets/comments/j162ms/sp500 technical analysis chart breakdown stay long/ https //www.reddit.com/r/wallstreetbets/comments/j162ms/sp500 technical analysis chart breakdown stay long/ We ended up blowing through all of the long targets by the end of Monday cash session. Before https / /www.tradingview.com /chart /SPX500USD /lm8lMR1i S P500 ES 4H Bullish Engulfing Candle at Channel Support / https //preview.redd.it/1peue59jkfq51.png width 3040 format png auto webp s fca01dba94c7bed1c2864b5b22b1d18c91f8ce1f After https //preview.redd.it/7f53pyeokfq51.png width 3044 format png auto webp s 02cb0b0b0b2e4aba5145c306244dd8acf5527688 I remain extremely bullish in my most recent forecast below with an extended target on ES of $3500 which is $350 for SPY. I think we will reach the initial 3420 target by the end of this week or by early next week. Then I will look towards the $3500 extended target. https / /www.tradingview.com /chart /SPX500USD /6cy44C4N S P500 Stimulus or Vaccine News Can Spark a Rally to 3500 / https //preview.redd.it/rxrfoj3wlfq51.png width 3040 format png auto webp s 28329d7df2f6db3b7da77fcb47686a2def3a7ce4 Yesterday was monthly OPEX and market makers decided to dump SPY near the end of session to fuck over retail traders. At least they were able to cite Moderna vaccine news stimulus talks as their shitty catalyst. The selloff also had some basic technical backing from this bearish trendline retest https //preview.redd.it/88qg7cdmofq51.png width 3334 format png auto webp s a35227b6852817eeb9b86569e722cac810451249 https //preview.redd.it/rl9bqb6rofq51.png width 3284 format png auto webp s cd081db388cd28f616839b8c9681bcab91b90865 Regardless im still not convinced that the rally has ended. Bulls still have a long way to go in order to clear that trendline some other strucure levels but it seems to me like MMs set up a nice end of day bear trap. MM have some more fundamentals to use as a catalyst with the upcoming economic data on Friday so lets see how they play their cards. https //preview.redd.it/i241vnonmfq51.png width 2160 format png auto webp s efaee7fd8ff27655efb9a190dccb64f5a7e75950 IMO stay long King Kong. Pos $SPY 10/7 $343C and $SPY 10/2 $340C which ill probably roll down and out if we don t get a solid push today. Or maybe ill risk it play the Friday economic data release who knows. Ill try to keep y all posted if anything significant happens. Goodluck. TLDR BTD '"
      ]
     },
     "metadata": {},
     "execution_count": 35
    }
   ],
   "source": [
    "my_sent"
   ]
  },
  {
   "cell_type": "code",
   "execution_count": 38,
   "metadata": {},
   "outputs": [],
   "source": [
    "companydf = pd.DataFrame.from_records(companies.find())"
   ]
  },
  {
   "cell_type": "code",
   "execution_count": 40,
   "metadata": {},
   "outputs": [
    {
     "output_type": "execute_result",
     "data": {
      "text/plain": [
       "0                           10x Genomics, Inc.\n",
       "1       1347 Property Insurance Holdings, Inc.\n",
       "2       1347 Property Insurance Holdings, Inc.\n",
       "3                     180 Degree Capital Corp.\n",
       "4                      1-800-FLOWERS.COM, Inc.\n",
       "                         ...                  \n",
       "5716                               Zumiez Inc.\n",
       "5717                            Zymeworks Inc.\n",
       "5718             Zynerba Pharmaceuticals, Inc.\n",
       "5719                               Zynex, Inc.\n",
       "5720                                Zynga Inc.\n",
       "Name: Name, Length: 5721, dtype: object"
      ]
     },
     "metadata": {},
     "execution_count": 40
    }
   ],
   "source": [
    "companydf['Name']"
   ]
  },
  {
   "cell_type": "code",
   "execution_count": null,
   "metadata": {},
   "outputs": [],
   "source": []
  }
 ]
}