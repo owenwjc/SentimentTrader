{
 "metadata": {
  "language_info": {
   "codemirror_mode": {
    "name": "ipython",
    "version": 3
   },
   "file_extension": ".py",
   "mimetype": "text/x-python",
   "name": "python",
   "nbconvert_exporter": "python",
   "pygments_lexer": "ipython3",
   "version": "3.8.5-final"
  },
  "orig_nbformat": 2,
  "kernelspec": {
   "name": "python3",
   "display_name": "Python 3"
  }
 },
 "nbformat": 4,
 "nbformat_minor": 2,
 "cells": [
  {
   "cell_type": "code",
   "execution_count": 2,
   "metadata": {},
   "outputs": [],
   "source": [
    "import pandas as pd\n",
    "import yfinance as yf\n",
    "import requests\n",
    "import time\n",
    "from pymongo import MongoClient"
   ]
  },
  {
   "cell_type": "code",
   "execution_count": 3,
   "metadata": {},
   "outputs": [],
   "source": [
    "client = MongoClient('localhost', 27017)\n",
    "db = client.db"
   ]
  },
  {
   "cell_type": "code",
   "execution_count": 4,
   "metadata": {},
   "outputs": [],
   "source": [
    "threaddf = pd.DataFrame.from_records(db.threads.find({'created_utc': {'$exists': 'true'}}))"
   ]
  },
  {
   "cell_type": "code",
   "execution_count": 6,
   "metadata": {},
   "outputs": [],
   "source": [
    "threaddf['comments'] = 0\n",
    "threaddf['comments'] = threaddf['comments'].astype('object')"
   ]
  },
  {
   "cell_type": "code",
   "execution_count": 7,
   "metadata": {},
   "outputs": [],
   "source": [
    "def getData(datatype, **kwargs):\n",
    "    url = f'https://api.pushshift.io/reddit/search/{datatype}/'\n",
    "    payload = kwargs\n",
    "    req = requests.get(url, params = payload)\n",
    "    return req.json()['data']\n",
    "\n",
    "def getIds(id):\n",
    "    url = f'https://api.pushshift.io/reddit/submission/comment_ids/{id}'\n",
    "    req = requests.get(url)\n",
    "    return req.json()['data']"
   ]
  },
  {
   "cell_type": "code",
   "execution_count": 21,
   "metadata": {},
   "outputs": [
    {
     "output_type": "stream",
     "name": "stdout",
     "text": [
      "356\n",
      "357\n",
      "358\n",
      "359\n",
      "360\n",
      "361\n",
      "362\n",
      "363\n",
      "364\n",
      "365\n",
      "366\n",
      "367\n",
      "368\n",
      "369\n",
      "370\n",
      "371\n",
      "372\n",
      "373\n",
      "374\n",
      "375\n",
      "376\n",
      "377\n",
      "378\n",
      "379\n",
      "380\n",
      "381\n",
      "382\n",
      "383\n",
      "384\n",
      "385\n",
      "386\n",
      "387\n",
      "388\n",
      "389\n",
      "390\n",
      "391\n",
      "392\n",
      "393\n",
      "394\n",
      "395\n",
      "396\n",
      "397\n",
      "398\n",
      "399\n",
      "400\n",
      "401\n",
      "402\n",
      "403\n",
      "404\n",
      "405\n",
      "406\n",
      "407\n",
      "408\n",
      "409\n",
      "410\n",
      "411\n",
      "412\n",
      "413\n",
      "414\n",
      "415\n",
      "416\n",
      "417\n",
      "418\n",
      "419\n",
      "420\n",
      "421\n",
      "422\n",
      "423\n",
      "424\n",
      "425\n",
      "426\n",
      "427\n",
      "428\n",
      "429\n",
      "430\n",
      "431\n",
      "432\n",
      "433\n",
      "434\n",
      "435\n",
      "436\n",
      "437\n",
      "438\n",
      "439\n",
      "440\n",
      "441\n",
      "442\n",
      "443\n",
      "444\n",
      "445\n",
      "446\n",
      "447\n",
      "448\n",
      "449\n",
      "450\n",
      "451\n",
      "452\n",
      "453\n",
      "454\n",
      "455\n",
      "456\n",
      "457\n",
      "458\n",
      "459\n",
      "460\n",
      "461\n",
      "462\n",
      "463\n",
      "464\n",
      "465\n",
      "466\n",
      "467\n",
      "468\n",
      "469\n",
      "470\n",
      "471\n",
      "472\n",
      "473\n",
      "474\n",
      "475\n",
      "476\n",
      "477\n",
      "478\n",
      "479\n",
      "480\n",
      "481\n",
      "482\n",
      "483\n",
      "484\n",
      "485\n",
      "486\n",
      "487\n",
      "488\n",
      "489\n",
      "490\n",
      "491\n",
      "492\n",
      "493\n",
      "494\n",
      "495\n",
      "496\n",
      "497\n",
      "498\n",
      "499\n",
      "500\n",
      "501\n",
      "502\n",
      "503\n",
      "504\n",
      "505\n",
      "506\n",
      "507\n",
      "508\n",
      "509\n",
      "510\n",
      "511\n",
      "512\n",
      "513\n",
      "514\n",
      "515\n",
      "516\n",
      "517\n",
      "518\n",
      "519\n",
      "520\n",
      "521\n",
      "522\n",
      "523\n",
      "524\n",
      "525\n",
      "526\n",
      "527\n",
      "528\n",
      "529\n",
      "530\n",
      "531\n",
      "532\n",
      "533\n",
      "534\n",
      "535\n",
      "536\n",
      "537\n",
      "538\n",
      "539\n",
      "540\n",
      "541\n",
      "542\n",
      "543\n",
      "544\n",
      "545\n",
      "546\n",
      "547\n",
      "548\n",
      "549\n",
      "550\n",
      "551\n",
      "552\n",
      "553\n",
      "554\n",
      "555\n",
      "556\n",
      "557\n",
      "558\n",
      "559\n",
      "560\n",
      "561\n",
      "562\n",
      "563\n",
      "564\n",
      "565\n",
      "566\n",
      "567\n",
      "568\n",
      "569\n",
      "570\n",
      "571\n",
      "572\n",
      "573\n",
      "574\n",
      "575\n",
      "576\n",
      "577\n",
      "578\n",
      "579\n",
      "580\n",
      "581\n",
      "582\n",
      "583\n",
      "584\n",
      "585\n",
      "586\n",
      "587\n",
      "588\n",
      "589\n",
      "590\n"
     ]
    }
   ],
   "source": [
    "'''for i in range(356, len(threaddf)):\n",
    "    print(i)\n",
    "    threaddf.at[i,'comments'] = getIds(threaddf.loc[i,'id'])\n",
    "    time.sleep(1)'''"
   ]
  },
  {
   "cell_type": "code",
   "execution_count": 28,
   "metadata": {},
   "outputs": [],
   "source": [
    "for i in range(len(threaddf)):\n",
    "    threaddf.at[i, 'numComments'] = len(threaddf.loc[i, 'comments'])"
   ]
  },
  {
   "cell_type": "code",
   "execution_count": 33,
   "metadata": {},
   "outputs": [
    {
     "output_type": "execute_result",
     "data": {
      "text/plain": [
       "\"bulk_update = db.threads.initialize_unordered_bulk_op()\\nfor index, row in threaddf.iterrows():\\n    _id = row['_id']\\n    commentArray = row['comments']\\n    commentAmount = row['numComments']\\n    bulk_update.find({'_id': _id}).update_one({'$set':{'comments': commentArray, 'numComments': commentAmount}})\\nbulk_update.execute()\""
      ]
     },
     "metadata": {},
     "execution_count": 33
    }
   ],
   "source": [
    "'''bulk_update = db.threads.initialize_unordered_bulk_op()\n",
    "for index, row in threaddf.iterrows():\n",
    "    _id = row['_id']\n",
    "    commentArray = row['comments']\n",
    "    commentAmount = row['numComments']\n",
    "    bulk_update.find({'_id': _id}).update_one({'$set':{'comments': commentArray, 'numComments': commentAmount}})\n",
    "bulk_update.execute()'''\n"
   ]
  },
  {
   "cell_type": "code",
   "execution_count": null,
   "metadata": {},
   "outputs": [],
   "source": [
    "threaddf['comments']"
   ]
  },
  {
   "cell_type": "code",
   "execution_count": 5,
   "metadata": {
    "tags": []
   },
   "outputs": [],
   "source": [
    "'''subreddit = 'wallstreetbets'\n",
    "lastoctober = 1569888000\n",
    "thisoctober = 1601510400\n",
    "size = 500'''"
   ]
  },
  {
   "cell_type": "code",
   "execution_count": 7,
   "metadata": {},
   "outputs": [
    {
     "output_type": "stream",
     "name": "stdout",
     "text": [
      "1575630325\n",
      "1581368695\n",
      "1586370524\n",
      "1591733184\n",
      "1596829613\n",
      "1601496415\n"
     ]
    }
   ],
   "source": [
    "'''\n",
    "df = pd.DataFrame()\n",
    "after = lastoctober\n",
    "before = thisoctober\n",
    "while before > after:\n",
    "    testdict = getData(datatype = 'submission', subreddit = subreddit, after = after, q = 'Daily Discussion Thread', before = before, size = size)\n",
    "    if not testdict:\n",
    "        break\n",
    "    tempdf = pd.DataFrame.from_records(testdict)\n",
    "    df = df.append(tempdf, ignore_index = True)\n",
    "    after = df['created_utc'][len(df)-1]\n",
    "    print(after)\n",
    "    time.sleep(1)'''"
   ]
  },
  {
   "cell_type": "code",
   "execution_count": 7,
   "metadata": {},
   "outputs": [],
   "source": [
    "import random\n",
    "def pareComments(comments):\n",
    "    random.shuffle(comments)\n",
    "    return comments[0:int(len(comments)*0.3)]"
   ]
  },
  {
   "cell_type": "code",
   "execution_count": 8,
   "metadata": {},
   "outputs": [],
   "source": [
    "threaddf['pareComments'] = threaddf['comments'].apply(pareComments)"
   ]
  },
  {
   "cell_type": "code",
   "execution_count": 9,
   "metadata": {},
   "outputs": [],
   "source": [
    "for i in range(len(threaddf)):\n",
    "    threaddf.at[i,'pareTotal'] = len(threaddf.loc[i, 'pareComments'])"
   ]
  },
  {
   "cell_type": "code",
   "execution_count": 13,
   "metadata": {},
   "outputs": [],
   "source": [
    "import praw"
   ]
  },
  {
   "cell_type": "code",
   "execution_count": 14,
   "metadata": {},
   "outputs": [],
   "source": [
    "secret = db.secret.find_one()['Secret']\n",
    "reddit = praw.Reddit(client_id='-wpcPIbA7bhlpw', client_secret=secret, user_agent='sentiment')"
   ]
  },
  {
   "cell_type": "code",
   "execution_count": 100,
   "metadata": {},
   "outputs": [],
   "source": [
    "commentdf = pd.DataFrame(columns = ['id', 'created_utc', 'body', 'score'])"
   ]
  },
  {
   "cell_type": "code",
   "execution_count": 101,
   "metadata": {
    "tags": []
   },
   "outputs": [
    {
     "output_type": "stream",
     "name": "stdout",
     "text": [
      "580\n",
      "\t0/5091.0\n",
      "\t509/5091.0\n",
      "\t1018/5091.0\n",
      "\t1527/5091.0\n",
      "\t2036/5091.0\n",
      "\t2545/5091.0\n",
      "\t3054/5091.0\n",
      "\t3563/5091.0\n",
      "\t4072/5091.0\n",
      "\t4581/5091.0\n",
      "\t5090/5091.0\n",
      "581\n",
      "582\n",
      "583\n",
      "584\n",
      "\t0/3469.0\n",
      "\t346/3469.0\n",
      "\t692/3469.0\n",
      "\t1038/3469.0\n",
      "\t1384/3469.0\n",
      "\t1730/3469.0\n",
      "\t2076/3469.0\n",
      "\t2422/3469.0\n",
      "\t2768/3469.0\n",
      "\t3114/3469.0\n",
      "\t3460/3469.0\n",
      "585\n",
      "\t0/4516.0\n",
      "\t451/4516.0\n",
      "\t902/4516.0\n",
      "\t1353/4516.0\n",
      "\t1804/4516.0\n",
      "\t2255/4516.0\n",
      "\t2706/4516.0\n",
      "\t3157/4516.0\n",
      "\t3608/4516.0\n",
      "\t4059/4516.0\n",
      "\t4510/4516.0\n",
      "586\n",
      "\t0/4343.0\n",
      "\t434/4343.0\n",
      "\t868/4343.0\n",
      "\t1302/4343.0\n",
      "\t1736/4343.0\n",
      "\t2170/4343.0\n",
      "\t2604/4343.0\n",
      "\t3038/4343.0\n",
      "\t3472/4343.0\n",
      "\t3906/4343.0\n",
      "\t4340/4343.0\n",
      "587\n",
      "\t0/4698.0\n",
      "\t469/4698.0\n",
      "\t938/4698.0\n",
      "\t1407/4698.0\n",
      "\t1876/4698.0\n",
      "\t2345/4698.0\n",
      "\t2814/4698.0\n",
      "\t3283/4698.0\n",
      "\t3752/4698.0\n",
      "\t4221/4698.0\n",
      "\t4690/4698.0\n",
      "588\n",
      "\t0/7992.0\n",
      "\t799/7992.0\n",
      "\t1598/7992.0\n",
      "\t2397/7992.0\n",
      "\t3196/7992.0\n",
      "\t3995/7992.0\n",
      "\t4794/7992.0\n",
      "\t5593/7992.0\n",
      "\t6392/7992.0\n",
      "\t7191/7992.0\n",
      "\t7990/7992.0\n",
      "589\n",
      "\t0/6104.0\n",
      "\t610/6104.0\n",
      "\t1220/6104.0\n",
      "\t1830/6104.0\n",
      "\t2440/6104.0\n",
      "\t3050/6104.0\n",
      "\t3660/6104.0\n",
      "\t4270/6104.0\n",
      "\t4880/6104.0\n",
      "\t5490/6104.0\n",
      "\t6100/6104.0\n",
      "590\n",
      "\t0/3807.0\n",
      "\t380/3807.0\n",
      "\t760/3807.0\n",
      "\t1140/3807.0\n",
      "\t1520/3807.0\n",
      "\t1900/3807.0\n",
      "\t2280/3807.0\n",
      "\t2660/3807.0\n",
      "\t3040/3807.0\n",
      "\t3420/3807.0\n",
      "\t3800/3807.0\n"
     ]
    }
   ],
   "source": [
    "for i in range(591, len(threaddf)):\n",
    "    print(i)\n",
    "    commentlist = threaddf.loc[i,'pareComments']\n",
    "    commentlist = ['t1_' + x for x in commentlist]\n",
    "    total = threaddf.loc[i, 'pareTotal']\n",
    "    counter = 0\n",
    "    for comment in reddit.info(commentlist):\n",
    "        commentdf = commentdf.append({'id': comment.id, 'created_utc': comment.created_utc, 'body': comment.body, 'score': comment.score}, ignore_index = True)\n",
    "        if total < 10:\n",
    "            continue\n",
    "        elif counter % (int(total / 10)) == 0:\n",
    "            print('\\t' + str(counter) + '/' + str(total))\n",
    "        counter += 1"
   ]
  },
  {
   "cell_type": "code",
   "execution_count": 102,
   "metadata": {},
   "outputs": [
    {
     "output_type": "execute_result",
     "data": {
      "text/plain": [
       "            id   created_utc  \\\n",
       "0      g6j58z6  1.601040e+09   \n",
       "1      g6j8vgc  1.601042e+09   \n",
       "2      g6ja55u  1.601042e+09   \n",
       "3      g6k38im  1.601057e+09   \n",
       "4      g6keujs  1.601063e+09   \n",
       "...        ...           ...   \n",
       "40015  g79oznl  1.601543e+09   \n",
       "40016  g79bjxq  1.601530e+09   \n",
       "40017  g77wunh  1.601500e+09   \n",
       "40018  g780x3y  1.601502e+09   \n",
       "40019  g798bbi  1.601527e+09   \n",
       "\n",
       "                                                    body score  \n",
       "0      good thing they are, I finally gave up and sol...     1  \n",
       "1      Need a 10 bagger to buy in to today and hold u...     3  \n",
       "2                                              [deleted]     1  \n",
       "3                       Mostly chart disagrees with you.     2  \n",
       "4                          monday will be green as usual     6  \n",
       "...                                                  ...   ...  \n",
       "40015            Are you going to publish your research?     5  \n",
       "40016                        Ah fucking boomer mentality     7  \n",
       "40017                           Yea for no reason at all     1  \n",
       "40018  what are you looking to do? Hold long and exit...     1  \n",
       "40019             Watch us be red or fade red tomorrow 😂     1  \n",
       "\n",
       "[40020 rows x 4 columns]"
      ],
      "text/html": "<div>\n<style scoped>\n    .dataframe tbody tr th:only-of-type {\n        vertical-align: middle;\n    }\n\n    .dataframe tbody tr th {\n        vertical-align: top;\n    }\n\n    .dataframe thead th {\n        text-align: right;\n    }\n</style>\n<table border=\"1\" class=\"dataframe\">\n  <thead>\n    <tr style=\"text-align: right;\">\n      <th></th>\n      <th>id</th>\n      <th>created_utc</th>\n      <th>body</th>\n      <th>score</th>\n    </tr>\n  </thead>\n  <tbody>\n    <tr>\n      <th>0</th>\n      <td>g6j58z6</td>\n      <td>1.601040e+09</td>\n      <td>good thing they are, I finally gave up and sol...</td>\n      <td>1</td>\n    </tr>\n    <tr>\n      <th>1</th>\n      <td>g6j8vgc</td>\n      <td>1.601042e+09</td>\n      <td>Need a 10 bagger to buy in to today and hold u...</td>\n      <td>3</td>\n    </tr>\n    <tr>\n      <th>2</th>\n      <td>g6ja55u</td>\n      <td>1.601042e+09</td>\n      <td>[deleted]</td>\n      <td>1</td>\n    </tr>\n    <tr>\n      <th>3</th>\n      <td>g6k38im</td>\n      <td>1.601057e+09</td>\n      <td>Mostly chart disagrees with you.</td>\n      <td>2</td>\n    </tr>\n    <tr>\n      <th>4</th>\n      <td>g6keujs</td>\n      <td>1.601063e+09</td>\n      <td>monday will be green as usual</td>\n      <td>6</td>\n    </tr>\n    <tr>\n      <th>...</th>\n      <td>...</td>\n      <td>...</td>\n      <td>...</td>\n      <td>...</td>\n    </tr>\n    <tr>\n      <th>40015</th>\n      <td>g79oznl</td>\n      <td>1.601543e+09</td>\n      <td>Are you going to publish your research?</td>\n      <td>5</td>\n    </tr>\n    <tr>\n      <th>40016</th>\n      <td>g79bjxq</td>\n      <td>1.601530e+09</td>\n      <td>Ah fucking boomer mentality</td>\n      <td>7</td>\n    </tr>\n    <tr>\n      <th>40017</th>\n      <td>g77wunh</td>\n      <td>1.601500e+09</td>\n      <td>Yea for no reason at all</td>\n      <td>1</td>\n    </tr>\n    <tr>\n      <th>40018</th>\n      <td>g780x3y</td>\n      <td>1.601502e+09</td>\n      <td>what are you looking to do? Hold long and exit...</td>\n      <td>1</td>\n    </tr>\n    <tr>\n      <th>40019</th>\n      <td>g798bbi</td>\n      <td>1.601527e+09</td>\n      <td>Watch us be red or fade red tomorrow 😂</td>\n      <td>1</td>\n    </tr>\n  </tbody>\n</table>\n<p>40020 rows × 4 columns</p>\n</div>"
     },
     "metadata": {},
     "execution_count": 102
    }
   ],
   "source": [
    "commentdf"
   ]
  },
  {
   "cell_type": "code",
   "execution_count": 103,
   "metadata": {},
   "outputs": [
    {
     "output_type": "execute_result",
     "data": {
      "text/plain": [
       "<pymongo.results.InsertManyResult at 0x7f13b23a5440>"
      ]
     },
     "metadata": {},
     "execution_count": 103
    }
   ],
   "source": [
    "db.comments.insert_many(commentdf.to_dict('records'))"
   ]
  },
  {
   "cell_type": "code",
   "execution_count": 114,
   "metadata": {},
   "outputs": [],
   "source": [
    "df = pd.DataFrame.from_records(db.comments.find({'created_utc': {'$exists': 'true'}}))"
   ]
  },
  {
   "cell_type": "code",
   "execution_count": 115,
   "metadata": {},
   "outputs": [
    {
     "output_type": "execute_result",
     "data": {
      "text/plain": [
       "                              _id       id   created_utc  \\\n",
       "0        5fac60f84f1d40506940af6e  f24h9o9  1.569952e+09   \n",
       "1        5fac60f84f1d40506940af6f  f23y8fn  1.569941e+09   \n",
       "2        5fac60f84f1d40506940af70  f24vyaa  1.569961e+09   \n",
       "3        5fac60f84f1d40506940af71  f24dxww  1.569950e+09   \n",
       "4        5fac60f84f1d40506940af72  f243mu5  1.569944e+09   \n",
       "...                           ...      ...           ...   \n",
       "2650289  5faf404fa6460ea208f39e70  g79oznl  1.601543e+09   \n",
       "2650290  5faf404fa6460ea208f39e71  g79bjxq  1.601530e+09   \n",
       "2650291  5faf404fa6460ea208f39e72  g77wunh  1.601500e+09   \n",
       "2650292  5faf404fa6460ea208f39e73  g780x3y  1.601502e+09   \n",
       "2650293  5faf404fa6460ea208f39e74  g798bbi  1.601527e+09   \n",
       "\n",
       "                                                      body  score  \n",
       "0                                                [deleted]      3  \n",
       "1        [**Donald J. Trump**@realDonaldTrump](https://...      7  \n",
       "2                              I subscribe to this reality      3  \n",
       "3                                                     nice      1  \n",
       "4        Na that’s just me who farted after eating chip...      1  \n",
       "...                                                    ...    ...  \n",
       "2650289            Are you going to publish your research?      5  \n",
       "2650290                        Ah fucking boomer mentality      7  \n",
       "2650291                           Yea for no reason at all      1  \n",
       "2650292  what are you looking to do? Hold long and exit...      1  \n",
       "2650293             Watch us be red or fade red tomorrow 😂      1  \n",
       "\n",
       "[2650294 rows x 5 columns]"
      ],
      "text/html": "<div>\n<style scoped>\n    .dataframe tbody tr th:only-of-type {\n        vertical-align: middle;\n    }\n\n    .dataframe tbody tr th {\n        vertical-align: top;\n    }\n\n    .dataframe thead th {\n        text-align: right;\n    }\n</style>\n<table border=\"1\" class=\"dataframe\">\n  <thead>\n    <tr style=\"text-align: right;\">\n      <th></th>\n      <th>_id</th>\n      <th>id</th>\n      <th>created_utc</th>\n      <th>body</th>\n      <th>score</th>\n    </tr>\n  </thead>\n  <tbody>\n    <tr>\n      <th>0</th>\n      <td>5fac60f84f1d40506940af6e</td>\n      <td>f24h9o9</td>\n      <td>1.569952e+09</td>\n      <td>[deleted]</td>\n      <td>3</td>\n    </tr>\n    <tr>\n      <th>1</th>\n      <td>5fac60f84f1d40506940af6f</td>\n      <td>f23y8fn</td>\n      <td>1.569941e+09</td>\n      <td>[**Donald J. Trump**@realDonaldTrump](https://...</td>\n      <td>7</td>\n    </tr>\n    <tr>\n      <th>2</th>\n      <td>5fac60f84f1d40506940af70</td>\n      <td>f24vyaa</td>\n      <td>1.569961e+09</td>\n      <td>I subscribe to this reality</td>\n      <td>3</td>\n    </tr>\n    <tr>\n      <th>3</th>\n      <td>5fac60f84f1d40506940af71</td>\n      <td>f24dxww</td>\n      <td>1.569950e+09</td>\n      <td>nice</td>\n      <td>1</td>\n    </tr>\n    <tr>\n      <th>4</th>\n      <td>5fac60f84f1d40506940af72</td>\n      <td>f243mu5</td>\n      <td>1.569944e+09</td>\n      <td>Na that’s just me who farted after eating chip...</td>\n      <td>1</td>\n    </tr>\n    <tr>\n      <th>...</th>\n      <td>...</td>\n      <td>...</td>\n      <td>...</td>\n      <td>...</td>\n      <td>...</td>\n    </tr>\n    <tr>\n      <th>2650289</th>\n      <td>5faf404fa6460ea208f39e70</td>\n      <td>g79oznl</td>\n      <td>1.601543e+09</td>\n      <td>Are you going to publish your research?</td>\n      <td>5</td>\n    </tr>\n    <tr>\n      <th>2650290</th>\n      <td>5faf404fa6460ea208f39e71</td>\n      <td>g79bjxq</td>\n      <td>1.601530e+09</td>\n      <td>Ah fucking boomer mentality</td>\n      <td>7</td>\n    </tr>\n    <tr>\n      <th>2650291</th>\n      <td>5faf404fa6460ea208f39e72</td>\n      <td>g77wunh</td>\n      <td>1.601500e+09</td>\n      <td>Yea for no reason at all</td>\n      <td>1</td>\n    </tr>\n    <tr>\n      <th>2650292</th>\n      <td>5faf404fa6460ea208f39e73</td>\n      <td>g780x3y</td>\n      <td>1.601502e+09</td>\n      <td>what are you looking to do? Hold long and exit...</td>\n      <td>1</td>\n    </tr>\n    <tr>\n      <th>2650293</th>\n      <td>5faf404fa6460ea208f39e74</td>\n      <td>g798bbi</td>\n      <td>1.601527e+09</td>\n      <td>Watch us be red or fade red tomorrow 😂</td>\n      <td>1</td>\n    </tr>\n  </tbody>\n</table>\n<p>2650294 rows × 5 columns</p>\n</div>"
     },
     "metadata": {},
     "execution_count": 115
    }
   ],
   "source": [
    "df"
   ]
  },
  {
   "cell_type": "code",
   "execution_count": 116,
   "metadata": {},
   "outputs": [],
   "source": [
    "duplicatedf = df.loc[df.duplicated(subset = 'id', keep = 'first')]"
   ]
  },
  {
   "cell_type": "code",
   "execution_count": 117,
   "metadata": {},
   "outputs": [
    {
     "output_type": "execute_result",
     "data": {
      "text/plain": [
       "Empty DataFrame\n",
       "Columns: [_id, id, created_utc, body, score]\n",
       "Index: []"
      ],
      "text/html": "<div>\n<style scoped>\n    .dataframe tbody tr th:only-of-type {\n        vertical-align: middle;\n    }\n\n    .dataframe tbody tr th {\n        vertical-align: top;\n    }\n\n    .dataframe thead th {\n        text-align: right;\n    }\n</style>\n<table border=\"1\" class=\"dataframe\">\n  <thead>\n    <tr style=\"text-align: right;\">\n      <th></th>\n      <th>_id</th>\n      <th>id</th>\n      <th>created_utc</th>\n      <th>body</th>\n      <th>score</th>\n    </tr>\n  </thead>\n  <tbody>\n  </tbody>\n</table>\n</div>"
     },
     "metadata": {},
     "execution_count": 117
    }
   ],
   "source": [
    "duplicatedf"
   ]
  },
  {
   "cell_type": "code",
   "execution_count": null,
   "metadata": {},
   "outputs": [],
   "source": []
  }
 ]
}