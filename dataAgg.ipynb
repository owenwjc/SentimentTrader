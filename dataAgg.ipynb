{
 "metadata": {
  "language_info": {
   "codemirror_mode": {
    "name": "ipython",
    "version": 3
   },
   "file_extension": ".py",
   "mimetype": "text/x-python",
   "name": "python",
   "nbconvert_exporter": "python",
   "pygments_lexer": "ipython3",
   "version": "3.8.5-final"
  },
  "orig_nbformat": 2,
  "kernelspec": {
   "name": "python3",
   "display_name": "Python 3"
  }
 },
 "nbformat": 4,
 "nbformat_minor": 2,
 "cells": [
  {
   "cell_type": "code",
   "execution_count": 6,
   "metadata": {},
   "outputs": [],
   "source": [
    "import pandas as pd\n",
    "import yfinance as yf\n",
    "import requests\n",
    "import psaw"
   ]
  },
  {
   "cell_type": "code",
   "execution_count": 7,
   "metadata": {},
   "outputs": [],
   "source": [
    "def getData(datatype, **kwargs):\n",
    "    url = f'https://api.pushshift.io/reddit/search/{datatype}/'\n",
    "    payload = kwargs\n",
    "    request = requests.get(url, params = payload)\n",
    "    return request.json()"
   ]
  },
  {
   "cell_type": "code",
   "execution_count": 8,
   "metadata": {},
   "outputs": [],
   "source": [
    "datatype = 'comment'\n",
    "subreddit = 'wallstreetbets'\n",
    "after = 1569888000\n",
    "before = 1601510400\n"
   ]
  },
  {
   "cell_type": "code",
   "execution_count": 25,
   "metadata": {},
   "outputs": [],
   "source": [
    "data =  getData(datatype = datatype, subreddit = subreddit, after = after, before = before)"
   ]
  },
  {
   "cell_type": "code",
   "execution_count": 26,
   "metadata": {},
   "outputs": [],
   "source": [
    "df = pd.DataFrame.from_records(data)"
   ]
  },
  {
   "cell_type": "code",
   "execution_count": 27,
   "metadata": {},
   "outputs": [
    {
     "output_type": "execute_result",
     "data": {
      "text/plain": [
       "                                                 data\n",
       "0   {'all_awardings': [], 'author': 'VacationLover...\n",
       "1   {'all_awardings': [], 'author': 'spanishgalaci...\n",
       "2   {'all_awardings': [], 'author': 'WallStreetBit...\n",
       "3   {'all_awardings': [], 'author': 'TigerXXVII', ...\n",
       "4   {'all_awardings': [], 'author': 'WhatsUpWithTh...\n",
       "5   {'all_awardings': [], 'author': 'IMAP5tuff', '...\n",
       "6   {'all_awardings': [], 'author': 'multi-effects...\n",
       "7   {'all_awardings': [], 'author': 'Ania__kot', '...\n",
       "8   {'all_awardings': [], 'author': 'whiskytangofo...\n",
       "9   {'all_awardings': [], 'author': 'polozenochka'...\n",
       "10  {'all_awardings': [], 'author': 'orrangearrow'...\n",
       "11  {'all_awardings': [], 'author': 'I_am_not_Amis...\n",
       "12  {'all_awardings': [], 'author': 'PhantomCat1',...\n",
       "13  {'all_awardings': [], 'author': 'BillyBigBone'...\n",
       "14  {'all_awardings': [], 'author': 'EasyResponsib...\n",
       "15  {'all_awardings': [], 'author': 'MrBleepBleep'...\n",
       "16  {'all_awardings': [], 'author': '[deleted]', '...\n",
       "17  {'all_awardings': [], 'author': 'whiskytangofo...\n",
       "18  {'all_awardings': [], 'author': '[deleted]', '...\n",
       "19  {'all_awardings': [], 'author': 'mvev', 'autho...\n",
       "20  {'all_awardings': [], 'author': 'BillyBigBone'...\n",
       "21  {'all_awardings': [], 'author': 'snoooooooooo'...\n",
       "22  {'all_awardings': [], 'author': 'Nov19th2011',...\n",
       "23  {'all_awardings': [], 'author': 'this_will_go_...\n",
       "24  {'all_awardings': [], 'author': 'Fishychicken'..."
      ],
      "text/html": "<div>\n<style scoped>\n    .dataframe tbody tr th:only-of-type {\n        vertical-align: middle;\n    }\n\n    .dataframe tbody tr th {\n        vertical-align: top;\n    }\n\n    .dataframe thead th {\n        text-align: right;\n    }\n</style>\n<table border=\"1\" class=\"dataframe\">\n  <thead>\n    <tr style=\"text-align: right;\">\n      <th></th>\n      <th>data</th>\n    </tr>\n  </thead>\n  <tbody>\n    <tr>\n      <th>0</th>\n      <td>{'all_awardings': [], 'author': 'VacationLover...</td>\n    </tr>\n    <tr>\n      <th>1</th>\n      <td>{'all_awardings': [], 'author': 'spanishgalaci...</td>\n    </tr>\n    <tr>\n      <th>2</th>\n      <td>{'all_awardings': [], 'author': 'WallStreetBit...</td>\n    </tr>\n    <tr>\n      <th>3</th>\n      <td>{'all_awardings': [], 'author': 'TigerXXVII', ...</td>\n    </tr>\n    <tr>\n      <th>4</th>\n      <td>{'all_awardings': [], 'author': 'WhatsUpWithTh...</td>\n    </tr>\n    <tr>\n      <th>5</th>\n      <td>{'all_awardings': [], 'author': 'IMAP5tuff', '...</td>\n    </tr>\n    <tr>\n      <th>6</th>\n      <td>{'all_awardings': [], 'author': 'multi-effects...</td>\n    </tr>\n    <tr>\n      <th>7</th>\n      <td>{'all_awardings': [], 'author': 'Ania__kot', '...</td>\n    </tr>\n    <tr>\n      <th>8</th>\n      <td>{'all_awardings': [], 'author': 'whiskytangofo...</td>\n    </tr>\n    <tr>\n      <th>9</th>\n      <td>{'all_awardings': [], 'author': 'polozenochka'...</td>\n    </tr>\n    <tr>\n      <th>10</th>\n      <td>{'all_awardings': [], 'author': 'orrangearrow'...</td>\n    </tr>\n    <tr>\n      <th>11</th>\n      <td>{'all_awardings': [], 'author': 'I_am_not_Amis...</td>\n    </tr>\n    <tr>\n      <th>12</th>\n      <td>{'all_awardings': [], 'author': 'PhantomCat1',...</td>\n    </tr>\n    <tr>\n      <th>13</th>\n      <td>{'all_awardings': [], 'author': 'BillyBigBone'...</td>\n    </tr>\n    <tr>\n      <th>14</th>\n      <td>{'all_awardings': [], 'author': 'EasyResponsib...</td>\n    </tr>\n    <tr>\n      <th>15</th>\n      <td>{'all_awardings': [], 'author': 'MrBleepBleep'...</td>\n    </tr>\n    <tr>\n      <th>16</th>\n      <td>{'all_awardings': [], 'author': '[deleted]', '...</td>\n    </tr>\n    <tr>\n      <th>17</th>\n      <td>{'all_awardings': [], 'author': 'whiskytangofo...</td>\n    </tr>\n    <tr>\n      <th>18</th>\n      <td>{'all_awardings': [], 'author': '[deleted]', '...</td>\n    </tr>\n    <tr>\n      <th>19</th>\n      <td>{'all_awardings': [], 'author': 'mvev', 'autho...</td>\n    </tr>\n    <tr>\n      <th>20</th>\n      <td>{'all_awardings': [], 'author': 'BillyBigBone'...</td>\n    </tr>\n    <tr>\n      <th>21</th>\n      <td>{'all_awardings': [], 'author': 'snoooooooooo'...</td>\n    </tr>\n    <tr>\n      <th>22</th>\n      <td>{'all_awardings': [], 'author': 'Nov19th2011',...</td>\n    </tr>\n    <tr>\n      <th>23</th>\n      <td>{'all_awardings': [], 'author': 'this_will_go_...</td>\n    </tr>\n    <tr>\n      <th>24</th>\n      <td>{'all_awardings': [], 'author': 'Fishychicken'...</td>\n    </tr>\n  </tbody>\n</table>\n</div>"
     },
     "metadata": {},
     "execution_count": 27
    }
   ],
   "source": [
    "df"
   ]
  },
  {
   "cell_type": "code",
   "execution_count": null,
   "metadata": {},
   "outputs": [],
   "source": []
  }
 ]
}